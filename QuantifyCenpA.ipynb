{
 "cells": [
  {
   "cell_type": "code",
   "execution_count": null,
   "id": "7e217f46",
   "metadata": {},
   "outputs": [],
   "source": [
    "import napari\n",
    "import scipy as sp\n",
    "import numpy as np\n",
    "import tifffile\n",
    "import scipy.ndimage as ndi\n",
    "from skimage.feature import peak_local_max\n",
    "import os\n",
    "import glob\n",
    "import cv2\n",
    "import skimage as ski\n",
    "import dask\n",
    "import plotly.express as px\n",
    "import pandas as pd"
   ]
  },
  {
   "cell_type": "markdown",
   "id": "42a5fc71",
   "metadata": {},
   "source": [
    "# Setup Notebook"
   ]
  },
  {
   "cell_type": "code",
   "execution_count": 2,
   "id": "90dfc521",
   "metadata": {},
   "outputs": [],
   "source": [
    "viewer = napari.Viewer()"
   ]
  },
  {
   "cell_type": "code",
   "execution_count": 3,
   "id": "e3ffe7c2",
   "metadata": {},
   "outputs": [],
   "source": [
    "peak_channel = 1"
   ]
  },
  {
   "cell_type": "code",
   "execution_count": 4,
   "id": "14d457b1",
   "metadata": {},
   "outputs": [],
   "source": [
    "scale = [0.20, 0.062, 0.062]"
   ]
  },
  {
   "cell_type": "markdown",
   "id": "334de865",
   "metadata": {},
   "source": [
    "# Utility Functions"
   ]
  },
  {
   "cell_type": "code",
   "execution_count": 5,
   "id": "87cb6dfe",
   "metadata": {},
   "outputs": [],
   "source": [
    "def backsub(inp, radius=20):\n",
    "    filterSize =(radius, radius)\n",
    "    kernel = cv2.getStructuringElement(cv2.MORPH_ELLIPSE,\n",
    "                                    filterSize)\n",
    "    blurred = cv2.GaussianBlur(inp, (5, 5), 0)\n",
    "    tophat_img = cv2.morphologyEx(blurred,\n",
    "                                cv2.MORPH_TOPHAT,\n",
    "                                kernel)\n",
    "    rtn = inp.astype(np.single) - (blurred-tophat_img)\n",
    "    rtn = np.clip(rtn, 0, np.inf)\n",
    "    return rtn\n",
    "def backsub_3d(inp, radius=20):\n",
    "    shape = inp.shape\n",
    "    reshaped = inp.reshape(-1, shape[-2], shape[-1])\n",
    "    process = [dask.delayed(backsub)(i, radius) for i in reshaped]\n",
    "    rslt = np.array(dask.compute(*process))\n",
    "    rslt = rslt.reshape(shape)\n",
    "    return rslt"
   ]
  },
  {
   "cell_type": "code",
   "execution_count": 6,
   "id": "70bf701f",
   "metadata": {},
   "outputs": [],
   "source": [
    "def filter_label_size(labels, min_size=10, max_size=100):\n",
    "    from skimage import measure\n",
    "    label_sizes = np.bincount(labels.ravel())\n",
    "    too_small = label_sizes < min_size\n",
    "    too_large = label_sizes > max_size\n",
    "    labels[np.isin(labels, np.where(too_small | too_large))] = 0\n",
    "    labels = ski.segmentation.relabel_sequential(labels)[0]\n",
    "    return labels"
   ]
  },
  {
   "cell_type": "code",
   "execution_count": 7,
   "id": "71944725",
   "metadata": {},
   "outputs": [],
   "source": [
    "def find_peaks(img, threshold=0.1, display=False):\n",
    "    #LoG = -ndi.gaussian_laplace(img/1000, sigma=[2,4,4])\n",
    "    LoG = -ndi.gaussian_laplace(img/1000, sigma=[1,2,2])\n",
    "    max_peaks = peak_local_max(LoG, min_distance=1, threshold_rel=threshold)\n",
    "    if display:\n",
    "        viewer.add_image(LoG, blending='additive', colormap='magenta', scale=scale)\n",
    "        viewer.add_points(max_peaks, n_dimensional=True, size=6, scale=scale, name='AllPeaks')\n",
    "    return max_peaks\n",
    "\n",
    "def pair_finder(peaks, max_dist=6, scale=[0.12, 0.04, 0.04]):\n",
    "    scaled_peaks = peaks.copy().astype(float)\n",
    "    scaled_peaks[:,0] = scaled_peaks[:,0] * scale[0]\n",
    "    scaled_peaks[:,1] = scaled_peaks[:,1] * scale[1]\n",
    "    scaled_peaks[:,2] = scaled_peaks[:,2] * scale[2]\n",
    "    \n",
    "    d_matrix = sp.spatial.distance.squareform(sp.spatial.distance.pdist(scaled_peaks))\n",
    "    d_matrix[d_matrix==0] = 10000\n",
    "    \n",
    "    min_pos = np.argmin(d_matrix, axis=0)\n",
    "    distances = np.min(d_matrix, axis=0)\n",
    "    sorte = np.argsort(distances)\n",
    "    \n",
    "    return_distances = []\n",
    "    lst = []\n",
    "    for a in np.arange(0,len(sorte)):\n",
    "        if distances[sorte[a]]<max_dist:\n",
    "            if any([all (peaks[sorte[a]]==b) for b in lst]) | any([all(peaks[min_pos][sorte[a]]==b) for b in lst]):\n",
    "                lst\n",
    "            elif np.abs(peaks[sorte[a]][0]-peaks[min_pos][sorte[a]][0])>6:\n",
    "                lst\n",
    "            else:\n",
    "                lst.append(peaks[sorte[a]])\n",
    "                lst.append(peaks[min_pos][sorte[a]])\n",
    "                return_distances.append(distances[sorte[a]])\n",
    "    return lst, return_distances\n",
    "\n",
    "def find_peaks_in_file(fname, display=False, threshold=0.16, viewer=None):\n",
    "    img = tifffile.imread(fname)\n",
    "    img = backsub_3d(img, radius=20)\n",
    "    peaks = find_peaks(img[:,peak_channel,:,:], threshold=threshold, display=display)\n",
    "    filtered_peaks, distances = pair_finder(peaks, max_dist=1.2, scale=scale)\n",
    "    \n",
    "    if display:\n",
    "        viewer.add_image(img, channel_axis=1, scale=scale)\n",
    "        viewer.add_points(filtered_peaks[::2], n_dimensional=True, size=6, scale=scale, name='FilteredPeaks', face_color='magenta')\n",
    "        viewer.add_points(filtered_peaks[1::2], n_dimensional=True, size=6, scale=scale, name='FilteredPeaks', face_color='yellow')\n",
    "    return filtered_peaks, distances"
   ]
  },
  {
   "cell_type": "code",
   "execution_count": 8,
   "id": "9fb03ed3",
   "metadata": {},
   "outputs": [],
   "source": [
    "def quantify_peaks(peaks, fname, sigma=[1.0,3.0,3.0], display=False, viewer=None):\n",
    "    img = tifffile.imread(fname)\n",
    "    img = backsub_3d(img, radius=20)[:,peak_channel,:,:]\n",
    "    blurred = ndi.gaussian_filter(img, sigma=sigma)\n",
    "    pks = np.array(peaks).astype(int)\n",
    "    intensities = blurred[pks[:,0], pks[:,1], pks[:,2]]\n",
    "    \n",
    "    df = pd.DataFrame(peaks, columns=['Z', 'Y', 'X'])\n",
    "    df['Intensity'] = intensities\n",
    "    df['File'] = fname\n",
    "    if display:\n",
    "        viewer.add_image(blurred, scale=scale)\n",
    "    \n",
    "    return df"
   ]
  },
  {
   "cell_type": "markdown",
   "id": "aa8d2051",
   "metadata": {},
   "source": [
    "# Process Data"
   ]
  },
  {
   "cell_type": "code",
   "execution_count": 9,
   "id": "b840e6aa",
   "metadata": {},
   "outputs": [],
   "source": [
    "fnames = glob.glob('data/*.tif')"
   ]
  },
  {
   "cell_type": "code",
   "execution_count": 10,
   "id": "97118ddd",
   "metadata": {},
   "outputs": [],
   "source": [
    "fname = fnames[0]\n",
    "peaks, distances = find_peaks_in_file(fname, display=True, threshold=0.16, viewer=viewer)\n",
    "cdf = quantify_peaks(peaks, fname, sigma=[1.0,3.0,3.0], display=True, viewer=viewer)"
   ]
  },
  {
   "cell_type": "code",
   "execution_count": 11,
   "id": "17eab17a",
   "metadata": {},
   "outputs": [
    {
     "name": "stdout",
     "output_type": "stream",
     "text": [
      "Processing data\\image001-1.tif\n",
      "Processing data\\image002-1.tif\n",
      "Processing data\\image003-1.tif\n",
      "Processing data\\image004-1.tif\n",
      "Processing data\\image005-1.tif\n",
      "Processing data\\image006-1.tif\n",
      "Processing data\\image007-1.tif\n",
      "Processing data\\image009-1.tif\n",
      "Processing data\\image010-1.tif\n",
      "Processing data\\image011-1.tif\n",
      "Processing data\\image013-1.tif\n",
      "Processing data\\image014-1.tif\n",
      "Processing data\\image015-1.tif\n",
      "Processing data\\image016-1.tif\n",
      "Processing data\\image017-1.tif\n",
      "Processing data\\image018-1.tif\n",
      "Processing data\\image019-1.tif\n",
      "Processing data\\rep1_image20-1.tif\n",
      "Processing data\\rep1_image21-1.tif\n",
      "Processing data\\rep1_image22-1.tif\n"
     ]
    }
   ],
   "source": [
    "df = pd.DataFrame()\n",
    "for fname in fnames:\n",
    "    print(f'Processing {fname}')\n",
    "    peaks, distances = find_peaks_in_file(fname,  threshold=0.16)\n",
    "    distances = [x for x in distances for _ in (0, 1)]\n",
    "    cdf = quantify_peaks(peaks, fname, sigma=[1.0,3.0,3.0], )\n",
    "    cdf['distance'] = distances\n",
    "    df = pd.concat([df, cdf])"
   ]
  },
  {
   "cell_type": "code",
   "execution_count": 12,
   "id": "d999ffb6",
   "metadata": {},
   "outputs": [],
   "source": [
    "df['pair'] = df.index // 2"
   ]
  },
  {
   "cell_type": "code",
   "execution_count": 13,
   "id": "5bd621c5",
   "metadata": {},
   "outputs": [],
   "source": [
    "agged = df.groupby(['File', 'pair']).agg({'Intensity':['max', 'min']}).reset_index()\n",
    "agged.columns = ['File', 'pair', 'max_intensity', 'min_intensity']\n",
    "agged['Ratio'] = agged['max_intensity'] / agged['min_intensity']"
   ]
  },
  {
   "cell_type": "markdown",
   "id": "8ba6b7f8",
   "metadata": {},
   "source": [
    "# Analyze\n"
   ]
  },
  {
   "cell_type": "code",
   "execution_count": 14,
   "id": "6e0ffe74",
   "metadata": {},
   "outputs": [],
   "source": [
    "df['med_intensity'] = df.groupby('File')['Intensity'].transform('median')\n",
    "df['normed_intensity'] = df['Intensity'] / df['med_intensity']\n",
    "df['pid'] = 'First'\n",
    "df.iloc[1::2, df.columns.get_loc('pid')] = 'Second'"
   ]
  },
  {
   "cell_type": "code",
   "execution_count": 15,
   "id": "d1e74659",
   "metadata": {},
   "outputs": [
    {
     "data": {
      "application/vnd.plotly.v1+json": {
       "config": {
        "plotlyServerURL": "https://plot.ly"
       },
       "data": [
        {
         "alignmentgroup": "True",
         "box": {
          "visible": false
         },
         "hovertemplate": "File=%{x}<br>Intensity=%{y}<extra></extra>",
         "legendgroup": "",
         "marker": {
          "color": "#636efa"
         },
         "name": "",
         "offsetgroup": "",
         "orientation": "v",
         "points": "all",
         "scalegroup": "True",
         "showlegend": false,
         "type": "violin",
         "x": [
          "data\\image001-1.tif",
          "data\\image001-1.tif",
          "data\\image001-1.tif",
          "data\\image001-1.tif",
          "data\\image001-1.tif",
          "data\\image001-1.tif",
          "data\\image001-1.tif",
          "data\\image001-1.tif",
          "data\\image001-1.tif",
          "data\\image001-1.tif",
          "data\\image001-1.tif",
          "data\\image001-1.tif",
          "data\\image001-1.tif",
          "data\\image001-1.tif",
          "data\\image001-1.tif",
          "data\\image001-1.tif",
          "data\\image001-1.tif",
          "data\\image001-1.tif",
          "data\\image001-1.tif",
          "data\\image001-1.tif",
          "data\\image001-1.tif",
          "data\\image001-1.tif",
          "data\\image001-1.tif",
          "data\\image001-1.tif",
          "data\\image001-1.tif",
          "data\\image001-1.tif",
          "data\\image001-1.tif",
          "data\\image001-1.tif",
          "data\\image001-1.tif",
          "data\\image001-1.tif",
          "data\\image001-1.tif",
          "data\\image001-1.tif",
          "data\\image001-1.tif",
          "data\\image001-1.tif",
          "data\\image001-1.tif",
          "data\\image001-1.tif",
          "data\\image001-1.tif",
          "data\\image001-1.tif",
          "data\\image001-1.tif",
          "data\\image001-1.tif",
          "data\\image001-1.tif",
          "data\\image001-1.tif",
          "data\\image001-1.tif",
          "data\\image001-1.tif",
          "data\\image001-1.tif",
          "data\\image001-1.tif",
          "data\\image001-1.tif",
          "data\\image001-1.tif",
          "data\\image001-1.tif",
          "data\\image001-1.tif",
          "data\\image001-1.tif",
          "data\\image001-1.tif",
          "data\\image001-1.tif",
          "data\\image001-1.tif",
          "data\\image001-1.tif",
          "data\\image001-1.tif",
          "data\\image001-1.tif",
          "data\\image001-1.tif",
          "data\\image001-1.tif",
          "data\\image001-1.tif",
          "data\\image001-1.tif",
          "data\\image001-1.tif",
          "data\\image001-1.tif",
          "data\\image001-1.tif",
          "data\\image001-1.tif",
          "data\\image001-1.tif",
          "data\\image001-1.tif",
          "data\\image001-1.tif",
          "data\\image001-1.tif",
          "data\\image001-1.tif",
          "data\\image001-1.tif",
          "data\\image001-1.tif",
          "data\\image001-1.tif",
          "data\\image001-1.tif",
          "data\\image001-1.tif",
          "data\\image001-1.tif",
          "data\\image001-1.tif",
          "data\\image001-1.tif",
          "data\\image001-1.tif",
          "data\\image001-1.tif",
          "data\\image001-1.tif",
          "data\\image001-1.tif",
          "data\\image001-1.tif",
          "data\\image001-1.tif",
          "data\\image001-1.tif",
          "data\\image001-1.tif",
          "data\\image001-1.tif",
          "data\\image001-1.tif",
          "data\\image001-1.tif",
          "data\\image001-1.tif",
          "data\\image002-1.tif",
          "data\\image002-1.tif",
          "data\\image002-1.tif",
          "data\\image002-1.tif",
          "data\\image002-1.tif",
          "data\\image002-1.tif",
          "data\\image002-1.tif",
          "data\\image002-1.tif",
          "data\\image002-1.tif",
          "data\\image002-1.tif",
          "data\\image002-1.tif",
          "data\\image002-1.tif",
          "data\\image002-1.tif",
          "data\\image002-1.tif",
          "data\\image002-1.tif",
          "data\\image002-1.tif",
          "data\\image002-1.tif",
          "data\\image002-1.tif",
          "data\\image002-1.tif",
          "data\\image002-1.tif",
          "data\\image002-1.tif",
          "data\\image002-1.tif",
          "data\\image002-1.tif",
          "data\\image002-1.tif",
          "data\\image002-1.tif",
          "data\\image002-1.tif",
          "data\\image002-1.tif",
          "data\\image002-1.tif",
          "data\\image002-1.tif",
          "data\\image002-1.tif",
          "data\\image002-1.tif",
          "data\\image002-1.tif",
          "data\\image002-1.tif",
          "data\\image002-1.tif",
          "data\\image002-1.tif",
          "data\\image002-1.tif",
          "data\\image002-1.tif",
          "data\\image002-1.tif",
          "data\\image002-1.tif",
          "data\\image002-1.tif",
          "data\\image002-1.tif",
          "data\\image002-1.tif",
          "data\\image002-1.tif",
          "data\\image002-1.tif",
          "data\\image002-1.tif",
          "data\\image002-1.tif",
          "data\\image002-1.tif",
          "data\\image002-1.tif",
          "data\\image002-1.tif",
          "data\\image002-1.tif",
          "data\\image002-1.tif",
          "data\\image002-1.tif",
          "data\\image002-1.tif",
          "data\\image002-1.tif",
          "data\\image002-1.tif",
          "data\\image002-1.tif",
          "data\\image002-1.tif",
          "data\\image002-1.tif",
          "data\\image002-1.tif",
          "data\\image002-1.tif",
          "data\\image002-1.tif",
          "data\\image002-1.tif",
          "data\\image002-1.tif",
          "data\\image002-1.tif",
          "data\\image002-1.tif",
          "data\\image002-1.tif",
          "data\\image002-1.tif",
          "data\\image002-1.tif",
          "data\\image002-1.tif",
          "data\\image002-1.tif",
          "data\\image002-1.tif",
          "data\\image002-1.tif",
          "data\\image002-1.tif",
          "data\\image002-1.tif",
          "data\\image002-1.tif",
          "data\\image002-1.tif",
          "data\\image002-1.tif",
          "data\\image002-1.tif",
          "data\\image002-1.tif",
          "data\\image002-1.tif",
          "data\\image002-1.tif",
          "data\\image002-1.tif",
          "data\\image002-1.tif",
          "data\\image002-1.tif",
          "data\\image002-1.tif",
          "data\\image002-1.tif",
          "data\\image002-1.tif",
          "data\\image002-1.tif",
          "data\\image003-1.tif",
          "data\\image003-1.tif",
          "data\\image003-1.tif",
          "data\\image003-1.tif",
          "data\\image003-1.tif",
          "data\\image003-1.tif",
          "data\\image003-1.tif",
          "data\\image003-1.tif",
          "data\\image003-1.tif",
          "data\\image003-1.tif",
          "data\\image003-1.tif",
          "data\\image003-1.tif",
          "data\\image003-1.tif",
          "data\\image003-1.tif",
          "data\\image003-1.tif",
          "data\\image003-1.tif",
          "data\\image003-1.tif",
          "data\\image003-1.tif",
          "data\\image003-1.tif",
          "data\\image003-1.tif",
          "data\\image003-1.tif",
          "data\\image003-1.tif",
          "data\\image003-1.tif",
          "data\\image003-1.tif",
          "data\\image003-1.tif",
          "data\\image003-1.tif",
          "data\\image003-1.tif",
          "data\\image003-1.tif",
          "data\\image003-1.tif",
          "data\\image003-1.tif",
          "data\\image003-1.tif",
          "data\\image003-1.tif",
          "data\\image003-1.tif",
          "data\\image003-1.tif",
          "data\\image003-1.tif",
          "data\\image003-1.tif",
          "data\\image003-1.tif",
          "data\\image003-1.tif",
          "data\\image003-1.tif",
          "data\\image003-1.tif",
          "data\\image003-1.tif",
          "data\\image003-1.tif",
          "data\\image003-1.tif",
          "data\\image003-1.tif",
          "data\\image003-1.tif",
          "data\\image003-1.tif",
          "data\\image003-1.tif",
          "data\\image003-1.tif",
          "data\\image003-1.tif",
          "data\\image003-1.tif",
          "data\\image003-1.tif",
          "data\\image003-1.tif",
          "data\\image003-1.tif",
          "data\\image003-1.tif",
          "data\\image003-1.tif",
          "data\\image003-1.tif",
          "data\\image003-1.tif",
          "data\\image003-1.tif",
          "data\\image003-1.tif",
          "data\\image003-1.tif",
          "data\\image003-1.tif",
          "data\\image003-1.tif",
          "data\\image003-1.tif",
          "data\\image003-1.tif",
          "data\\image003-1.tif",
          "data\\image003-1.tif",
          "data\\image003-1.tif",
          "data\\image003-1.tif",
          "data\\image003-1.tif",
          "data\\image003-1.tif",
          "data\\image003-1.tif",
          "data\\image003-1.tif",
          "data\\image003-1.tif",
          "data\\image003-1.tif",
          "data\\image003-1.tif",
          "data\\image003-1.tif",
          "data\\image003-1.tif",
          "data\\image003-1.tif",
          "data\\image004-1.tif",
          "data\\image004-1.tif",
          "data\\image004-1.tif",
          "data\\image004-1.tif",
          "data\\image004-1.tif",
          "data\\image004-1.tif",
          "data\\image004-1.tif",
          "data\\image004-1.tif",
          "data\\image004-1.tif",
          "data\\image004-1.tif",
          "data\\image004-1.tif",
          "data\\image004-1.tif",
          "data\\image004-1.tif",
          "data\\image004-1.tif",
          "data\\image004-1.tif",
          "data\\image004-1.tif",
          "data\\image004-1.tif",
          "data\\image004-1.tif",
          "data\\image004-1.tif",
          "data\\image004-1.tif",
          "data\\image004-1.tif",
          "data\\image004-1.tif",
          "data\\image004-1.tif",
          "data\\image004-1.tif",
          "data\\image004-1.tif",
          "data\\image004-1.tif",
          "data\\image004-1.tif",
          "data\\image004-1.tif",
          "data\\image004-1.tif",
          "data\\image004-1.tif",
          "data\\image004-1.tif",
          "data\\image004-1.tif",
          "data\\image004-1.tif",
          "data\\image004-1.tif",
          "data\\image004-1.tif",
          "data\\image004-1.tif",
          "data\\image004-1.tif",
          "data\\image004-1.tif",
          "data\\image004-1.tif",
          "data\\image004-1.tif",
          "data\\image004-1.tif",
          "data\\image004-1.tif",
          "data\\image004-1.tif",
          "data\\image004-1.tif",
          "data\\image004-1.tif",
          "data\\image004-1.tif",
          "data\\image004-1.tif",
          "data\\image004-1.tif",
          "data\\image004-1.tif",
          "data\\image004-1.tif",
          "data\\image004-1.tif",
          "data\\image004-1.tif",
          "data\\image004-1.tif",
          "data\\image004-1.tif",
          "data\\image004-1.tif",
          "data\\image004-1.tif",
          "data\\image004-1.tif",
          "data\\image004-1.tif",
          "data\\image004-1.tif",
          "data\\image004-1.tif",
          "data\\image004-1.tif",
          "data\\image004-1.tif",
          "data\\image004-1.tif",
          "data\\image004-1.tif",
          "data\\image004-1.tif",
          "data\\image004-1.tif",
          "data\\image004-1.tif",
          "data\\image004-1.tif",
          "data\\image004-1.tif",
          "data\\image004-1.tif",
          "data\\image004-1.tif",
          "data\\image004-1.tif",
          "data\\image004-1.tif",
          "data\\image004-1.tif",
          "data\\image004-1.tif",
          "data\\image004-1.tif",
          "data\\image004-1.tif",
          "data\\image004-1.tif",
          "data\\image004-1.tif",
          "data\\image004-1.tif",
          "data\\image004-1.tif",
          "data\\image004-1.tif",
          "data\\image005-1.tif",
          "data\\image005-1.tif",
          "data\\image005-1.tif",
          "data\\image005-1.tif",
          "data\\image005-1.tif",
          "data\\image005-1.tif",
          "data\\image005-1.tif",
          "data\\image005-1.tif",
          "data\\image005-1.tif",
          "data\\image005-1.tif",
          "data\\image005-1.tif",
          "data\\image005-1.tif",
          "data\\image005-1.tif",
          "data\\image005-1.tif",
          "data\\image005-1.tif",
          "data\\image005-1.tif",
          "data\\image005-1.tif",
          "data\\image005-1.tif",
          "data\\image005-1.tif",
          "data\\image005-1.tif",
          "data\\image005-1.tif",
          "data\\image005-1.tif",
          "data\\image005-1.tif",
          "data\\image005-1.tif",
          "data\\image005-1.tif",
          "data\\image005-1.tif",
          "data\\image005-1.tif",
          "data\\image005-1.tif",
          "data\\image005-1.tif",
          "data\\image005-1.tif",
          "data\\image005-1.tif",
          "data\\image005-1.tif",
          "data\\image005-1.tif",
          "data\\image005-1.tif",
          "data\\image005-1.tif",
          "data\\image005-1.tif",
          "data\\image005-1.tif",
          "data\\image005-1.tif",
          "data\\image005-1.tif",
          "data\\image005-1.tif",
          "data\\image005-1.tif",
          "data\\image005-1.tif",
          "data\\image005-1.tif",
          "data\\image005-1.tif",
          "data\\image005-1.tif",
          "data\\image005-1.tif",
          "data\\image005-1.tif",
          "data\\image005-1.tif",
          "data\\image005-1.tif",
          "data\\image005-1.tif",
          "data\\image005-1.tif",
          "data\\image005-1.tif",
          "data\\image005-1.tif",
          "data\\image005-1.tif",
          "data\\image005-1.tif",
          "data\\image005-1.tif",
          "data\\image005-1.tif",
          "data\\image005-1.tif",
          "data\\image005-1.tif",
          "data\\image005-1.tif",
          "data\\image005-1.tif",
          "data\\image005-1.tif",
          "data\\image005-1.tif",
          "data\\image005-1.tif",
          "data\\image005-1.tif",
          "data\\image005-1.tif",
          "data\\image005-1.tif",
          "data\\image005-1.tif",
          "data\\image005-1.tif",
          "data\\image005-1.tif",
          "data\\image005-1.tif",
          "data\\image005-1.tif",
          "data\\image005-1.tif",
          "data\\image005-1.tif",
          "data\\image005-1.tif",
          "data\\image005-1.tif",
          "data\\image005-1.tif",
          "data\\image005-1.tif",
          "data\\image005-1.tif",
          "data\\image005-1.tif",
          "data\\image005-1.tif",
          "data\\image005-1.tif",
          "data\\image005-1.tif",
          "data\\image005-1.tif",
          "data\\image005-1.tif",
          "data\\image005-1.tif",
          "data\\image005-1.tif",
          "data\\image005-1.tif",
          "data\\image006-1.tif",
          "data\\image006-1.tif",
          "data\\image006-1.tif",
          "data\\image006-1.tif",
          "data\\image006-1.tif",
          "data\\image006-1.tif",
          "data\\image006-1.tif",
          "data\\image006-1.tif",
          "data\\image006-1.tif",
          "data\\image006-1.tif",
          "data\\image006-1.tif",
          "data\\image006-1.tif",
          "data\\image006-1.tif",
          "data\\image006-1.tif",
          "data\\image006-1.tif",
          "data\\image006-1.tif",
          "data\\image006-1.tif",
          "data\\image006-1.tif",
          "data\\image006-1.tif",
          "data\\image006-1.tif",
          "data\\image006-1.tif",
          "data\\image006-1.tif",
          "data\\image006-1.tif",
          "data\\image006-1.tif",
          "data\\image006-1.tif",
          "data\\image006-1.tif",
          "data\\image006-1.tif",
          "data\\image006-1.tif",
          "data\\image006-1.tif",
          "data\\image006-1.tif",
          "data\\image006-1.tif",
          "data\\image006-1.tif",
          "data\\image006-1.tif",
          "data\\image006-1.tif",
          "data\\image006-1.tif",
          "data\\image006-1.tif",
          "data\\image006-1.tif",
          "data\\image006-1.tif",
          "data\\image006-1.tif",
          "data\\image006-1.tif",
          "data\\image006-1.tif",
          "data\\image006-1.tif",
          "data\\image006-1.tif",
          "data\\image006-1.tif",
          "data\\image006-1.tif",
          "data\\image006-1.tif",
          "data\\image006-1.tif",
          "data\\image006-1.tif",
          "data\\image006-1.tif",
          "data\\image006-1.tif",
          "data\\image006-1.tif",
          "data\\image006-1.tif",
          "data\\image006-1.tif",
          "data\\image006-1.tif",
          "data\\image006-1.tif",
          "data\\image006-1.tif",
          "data\\image006-1.tif",
          "data\\image006-1.tif",
          "data\\image006-1.tif",
          "data\\image006-1.tif",
          "data\\image006-1.tif",
          "data\\image006-1.tif",
          "data\\image006-1.tif",
          "data\\image006-1.tif",
          "data\\image006-1.tif",
          "data\\image006-1.tif",
          "data\\image006-1.tif",
          "data\\image006-1.tif",
          "data\\image006-1.tif",
          "data\\image006-1.tif",
          "data\\image006-1.tif",
          "data\\image006-1.tif",
          "data\\image006-1.tif",
          "data\\image006-1.tif",
          "data\\image006-1.tif",
          "data\\image006-1.tif",
          "data\\image006-1.tif",
          "data\\image006-1.tif",
          "data\\image006-1.tif",
          "data\\image006-1.tif",
          "data\\image006-1.tif",
          "data\\image006-1.tif",
          "data\\image006-1.tif",
          "data\\image006-1.tif",
          "data\\image007-1.tif",
          "data\\image007-1.tif",
          "data\\image007-1.tif",
          "data\\image007-1.tif",
          "data\\image007-1.tif",
          "data\\image007-1.tif",
          "data\\image007-1.tif",
          "data\\image007-1.tif",
          "data\\image007-1.tif",
          "data\\image007-1.tif",
          "data\\image007-1.tif",
          "data\\image007-1.tif",
          "data\\image007-1.tif",
          "data\\image007-1.tif",
          "data\\image007-1.tif",
          "data\\image007-1.tif",
          "data\\image007-1.tif",
          "data\\image007-1.tif",
          "data\\image007-1.tif",
          "data\\image007-1.tif",
          "data\\image007-1.tif",
          "data\\image007-1.tif",
          "data\\image007-1.tif",
          "data\\image007-1.tif",
          "data\\image007-1.tif",
          "data\\image007-1.tif",
          "data\\image007-1.tif",
          "data\\image007-1.tif",
          "data\\image007-1.tif",
          "data\\image007-1.tif",
          "data\\image007-1.tif",
          "data\\image007-1.tif",
          "data\\image007-1.tif",
          "data\\image007-1.tif",
          "data\\image007-1.tif",
          "data\\image007-1.tif",
          "data\\image007-1.tif",
          "data\\image007-1.tif",
          "data\\image007-1.tif",
          "data\\image007-1.tif",
          "data\\image007-1.tif",
          "data\\image007-1.tif",
          "data\\image007-1.tif",
          "data\\image007-1.tif",
          "data\\image007-1.tif",
          "data\\image007-1.tif",
          "data\\image007-1.tif",
          "data\\image007-1.tif",
          "data\\image007-1.tif",
          "data\\image007-1.tif",
          "data\\image007-1.tif",
          "data\\image007-1.tif",
          "data\\image007-1.tif",
          "data\\image007-1.tif",
          "data\\image007-1.tif",
          "data\\image007-1.tif",
          "data\\image007-1.tif",
          "data\\image007-1.tif",
          "data\\image007-1.tif",
          "data\\image007-1.tif",
          "data\\image007-1.tif",
          "data\\image007-1.tif",
          "data\\image007-1.tif",
          "data\\image007-1.tif",
          "data\\image007-1.tif",
          "data\\image007-1.tif",
          "data\\image007-1.tif",
          "data\\image007-1.tif",
          "data\\image007-1.tif",
          "data\\image007-1.tif",
          "data\\image007-1.tif",
          "data\\image007-1.tif",
          "data\\image009-1.tif",
          "data\\image009-1.tif",
          "data\\image009-1.tif",
          "data\\image009-1.tif",
          "data\\image009-1.tif",
          "data\\image009-1.tif",
          "data\\image009-1.tif",
          "data\\image009-1.tif",
          "data\\image009-1.tif",
          "data\\image009-1.tif",
          "data\\image009-1.tif",
          "data\\image009-1.tif",
          "data\\image009-1.tif",
          "data\\image009-1.tif",
          "data\\image009-1.tif",
          "data\\image009-1.tif",
          "data\\image009-1.tif",
          "data\\image009-1.tif",
          "data\\image009-1.tif",
          "data\\image009-1.tif",
          "data\\image009-1.tif",
          "data\\image009-1.tif",
          "data\\image009-1.tif",
          "data\\image009-1.tif",
          "data\\image009-1.tif",
          "data\\image009-1.tif",
          "data\\image009-1.tif",
          "data\\image009-1.tif",
          "data\\image009-1.tif",
          "data\\image009-1.tif",
          "data\\image009-1.tif",
          "data\\image009-1.tif",
          "data\\image009-1.tif",
          "data\\image009-1.tif",
          "data\\image009-1.tif",
          "data\\image009-1.tif",
          "data\\image009-1.tif",
          "data\\image009-1.tif",
          "data\\image009-1.tif",
          "data\\image009-1.tif",
          "data\\image009-1.tif",
          "data\\image009-1.tif",
          "data\\image009-1.tif",
          "data\\image009-1.tif",
          "data\\image009-1.tif",
          "data\\image009-1.tif",
          "data\\image009-1.tif",
          "data\\image009-1.tif",
          "data\\image009-1.tif",
          "data\\image009-1.tif",
          "data\\image009-1.tif",
          "data\\image009-1.tif",
          "data\\image009-1.tif",
          "data\\image009-1.tif",
          "data\\image009-1.tif",
          "data\\image009-1.tif",
          "data\\image009-1.tif",
          "data\\image009-1.tif",
          "data\\image009-1.tif",
          "data\\image009-1.tif",
          "data\\image009-1.tif",
          "data\\image009-1.tif",
          "data\\image009-1.tif",
          "data\\image009-1.tif",
          "data\\image009-1.tif",
          "data\\image009-1.tif",
          "data\\image009-1.tif",
          "data\\image009-1.tif",
          "data\\image009-1.tif",
          "data\\image009-1.tif",
          "data\\image009-1.tif",
          "data\\image009-1.tif",
          "data\\image009-1.tif",
          "data\\image009-1.tif",
          "data\\image009-1.tif",
          "data\\image009-1.tif",
          "data\\image009-1.tif",
          "data\\image009-1.tif",
          "data\\image010-1.tif",
          "data\\image010-1.tif",
          "data\\image010-1.tif",
          "data\\image010-1.tif",
          "data\\image010-1.tif",
          "data\\image010-1.tif",
          "data\\image010-1.tif",
          "data\\image010-1.tif",
          "data\\image010-1.tif",
          "data\\image010-1.tif",
          "data\\image010-1.tif",
          "data\\image010-1.tif",
          "data\\image010-1.tif",
          "data\\image010-1.tif",
          "data\\image010-1.tif",
          "data\\image010-1.tif",
          "data\\image010-1.tif",
          "data\\image010-1.tif",
          "data\\image010-1.tif",
          "data\\image010-1.tif",
          "data\\image010-1.tif",
          "data\\image010-1.tif",
          "data\\image010-1.tif",
          "data\\image010-1.tif",
          "data\\image010-1.tif",
          "data\\image010-1.tif",
          "data\\image010-1.tif",
          "data\\image010-1.tif",
          "data\\image010-1.tif",
          "data\\image010-1.tif",
          "data\\image010-1.tif",
          "data\\image010-1.tif",
          "data\\image010-1.tif",
          "data\\image010-1.tif",
          "data\\image010-1.tif",
          "data\\image010-1.tif",
          "data\\image010-1.tif",
          "data\\image010-1.tif",
          "data\\image010-1.tif",
          "data\\image010-1.tif",
          "data\\image010-1.tif",
          "data\\image010-1.tif",
          "data\\image010-1.tif",
          "data\\image010-1.tif",
          "data\\image010-1.tif",
          "data\\image010-1.tif",
          "data\\image010-1.tif",
          "data\\image010-1.tif",
          "data\\image010-1.tif",
          "data\\image010-1.tif",
          "data\\image010-1.tif",
          "data\\image010-1.tif",
          "data\\image010-1.tif",
          "data\\image010-1.tif",
          "data\\image010-1.tif",
          "data\\image010-1.tif",
          "data\\image010-1.tif",
          "data\\image010-1.tif",
          "data\\image010-1.tif",
          "data\\image010-1.tif",
          "data\\image010-1.tif",
          "data\\image010-1.tif",
          "data\\image010-1.tif",
          "data\\image010-1.tif",
          "data\\image010-1.tif",
          "data\\image010-1.tif",
          "data\\image010-1.tif",
          "data\\image010-1.tif",
          "data\\image010-1.tif",
          "data\\image010-1.tif",
          "data\\image010-1.tif",
          "data\\image010-1.tif",
          "data\\image010-1.tif",
          "data\\image010-1.tif",
          "data\\image010-1.tif",
          "data\\image010-1.tif",
          "data\\image010-1.tif",
          "data\\image010-1.tif",
          "data\\image010-1.tif",
          "data\\image010-1.tif",
          "data\\image010-1.tif",
          "data\\image010-1.tif",
          "data\\image010-1.tif",
          "data\\image010-1.tif",
          "data\\image011-1.tif",
          "data\\image011-1.tif",
          "data\\image011-1.tif",
          "data\\image011-1.tif",
          "data\\image011-1.tif",
          "data\\image011-1.tif",
          "data\\image011-1.tif",
          "data\\image011-1.tif",
          "data\\image011-1.tif",
          "data\\image011-1.tif",
          "data\\image011-1.tif",
          "data\\image011-1.tif",
          "data\\image011-1.tif",
          "data\\image011-1.tif",
          "data\\image011-1.tif",
          "data\\image011-1.tif",
          "data\\image011-1.tif",
          "data\\image011-1.tif",
          "data\\image011-1.tif",
          "data\\image011-1.tif",
          "data\\image011-1.tif",
          "data\\image011-1.tif",
          "data\\image011-1.tif",
          "data\\image011-1.tif",
          "data\\image011-1.tif",
          "data\\image011-1.tif",
          "data\\image011-1.tif",
          "data\\image011-1.tif",
          "data\\image011-1.tif",
          "data\\image011-1.tif",
          "data\\image011-1.tif",
          "data\\image011-1.tif",
          "data\\image011-1.tif",
          "data\\image011-1.tif",
          "data\\image011-1.tif",
          "data\\image011-1.tif",
          "data\\image011-1.tif",
          "data\\image011-1.tif",
          "data\\image011-1.tif",
          "data\\image011-1.tif",
          "data\\image011-1.tif",
          "data\\image011-1.tif",
          "data\\image011-1.tif",
          "data\\image011-1.tif",
          "data\\image011-1.tif",
          "data\\image011-1.tif",
          "data\\image011-1.tif",
          "data\\image011-1.tif",
          "data\\image011-1.tif",
          "data\\image011-1.tif",
          "data\\image011-1.tif",
          "data\\image011-1.tif",
          "data\\image011-1.tif",
          "data\\image011-1.tif",
          "data\\image011-1.tif",
          "data\\image011-1.tif",
          "data\\image011-1.tif",
          "data\\image011-1.tif",
          "data\\image011-1.tif",
          "data\\image011-1.tif",
          "data\\image011-1.tif",
          "data\\image011-1.tif",
          "data\\image011-1.tif",
          "data\\image011-1.tif",
          "data\\image011-1.tif",
          "data\\image011-1.tif",
          "data\\image011-1.tif",
          "data\\image011-1.tif",
          "data\\image011-1.tif",
          "data\\image011-1.tif",
          "data\\image011-1.tif",
          "data\\image011-1.tif",
          "data\\image011-1.tif",
          "data\\image011-1.tif",
          "data\\image011-1.tif",
          "data\\image011-1.tif",
          "data\\image011-1.tif",
          "data\\image011-1.tif",
          "data\\image013-1.tif",
          "data\\image013-1.tif",
          "data\\image013-1.tif",
          "data\\image013-1.tif",
          "data\\image013-1.tif",
          "data\\image013-1.tif",
          "data\\image013-1.tif",
          "data\\image013-1.tif",
          "data\\image013-1.tif",
          "data\\image013-1.tif",
          "data\\image013-1.tif",
          "data\\image013-1.tif",
          "data\\image013-1.tif",
          "data\\image013-1.tif",
          "data\\image013-1.tif",
          "data\\image013-1.tif",
          "data\\image013-1.tif",
          "data\\image013-1.tif",
          "data\\image013-1.tif",
          "data\\image013-1.tif",
          "data\\image013-1.tif",
          "data\\image013-1.tif",
          "data\\image013-1.tif",
          "data\\image013-1.tif",
          "data\\image013-1.tif",
          "data\\image013-1.tif",
          "data\\image013-1.tif",
          "data\\image013-1.tif",
          "data\\image013-1.tif",
          "data\\image013-1.tif",
          "data\\image013-1.tif",
          "data\\image013-1.tif",
          "data\\image013-1.tif",
          "data\\image013-1.tif",
          "data\\image013-1.tif",
          "data\\image013-1.tif",
          "data\\image013-1.tif",
          "data\\image013-1.tif",
          "data\\image013-1.tif",
          "data\\image013-1.tif",
          "data\\image013-1.tif",
          "data\\image013-1.tif",
          "data\\image013-1.tif",
          "data\\image013-1.tif",
          "data\\image013-1.tif",
          "data\\image013-1.tif",
          "data\\image013-1.tif",
          "data\\image013-1.tif",
          "data\\image013-1.tif",
          "data\\image013-1.tif",
          "data\\image013-1.tif",
          "data\\image013-1.tif",
          "data\\image013-1.tif",
          "data\\image013-1.tif",
          "data\\image013-1.tif",
          "data\\image013-1.tif",
          "data\\image013-1.tif",
          "data\\image013-1.tif",
          "data\\image013-1.tif",
          "data\\image013-1.tif",
          "data\\image013-1.tif",
          "data\\image013-1.tif",
          "data\\image013-1.tif",
          "data\\image013-1.tif",
          "data\\image013-1.tif",
          "data\\image013-1.tif",
          "data\\image013-1.tif",
          "data\\image013-1.tif",
          "data\\image013-1.tif",
          "data\\image013-1.tif",
          "data\\image013-1.tif",
          "data\\image013-1.tif",
          "data\\image013-1.tif",
          "data\\image013-1.tif",
          "data\\image014-1.tif",
          "data\\image014-1.tif",
          "data\\image014-1.tif",
          "data\\image014-1.tif",
          "data\\image014-1.tif",
          "data\\image014-1.tif",
          "data\\image014-1.tif",
          "data\\image014-1.tif",
          "data\\image014-1.tif",
          "data\\image014-1.tif",
          "data\\image014-1.tif",
          "data\\image014-1.tif",
          "data\\image014-1.tif",
          "data\\image014-1.tif",
          "data\\image014-1.tif",
          "data\\image014-1.tif",
          "data\\image014-1.tif",
          "data\\image014-1.tif",
          "data\\image014-1.tif",
          "data\\image014-1.tif",
          "data\\image014-1.tif",
          "data\\image014-1.tif",
          "data\\image014-1.tif",
          "data\\image014-1.tif",
          "data\\image014-1.tif",
          "data\\image014-1.tif",
          "data\\image014-1.tif",
          "data\\image014-1.tif",
          "data\\image014-1.tif",
          "data\\image014-1.tif",
          "data\\image014-1.tif",
          "data\\image014-1.tif",
          "data\\image014-1.tif",
          "data\\image014-1.tif",
          "data\\image014-1.tif",
          "data\\image014-1.tif",
          "data\\image014-1.tif",
          "data\\image014-1.tif",
          "data\\image014-1.tif",
          "data\\image014-1.tif",
          "data\\image014-1.tif",
          "data\\image014-1.tif",
          "data\\image014-1.tif",
          "data\\image014-1.tif",
          "data\\image014-1.tif",
          "data\\image014-1.tif",
          "data\\image014-1.tif",
          "data\\image014-1.tif",
          "data\\image014-1.tif",
          "data\\image014-1.tif",
          "data\\image014-1.tif",
          "data\\image014-1.tif",
          "data\\image014-1.tif",
          "data\\image014-1.tif",
          "data\\image014-1.tif",
          "data\\image014-1.tif",
          "data\\image014-1.tif",
          "data\\image014-1.tif",
          "data\\image014-1.tif",
          "data\\image014-1.tif",
          "data\\image014-1.tif",
          "data\\image014-1.tif",
          "data\\image014-1.tif",
          "data\\image014-1.tif",
          "data\\image014-1.tif",
          "data\\image014-1.tif",
          "data\\image014-1.tif",
          "data\\image014-1.tif",
          "data\\image014-1.tif",
          "data\\image014-1.tif",
          "data\\image014-1.tif",
          "data\\image014-1.tif",
          "data\\image014-1.tif",
          "data\\image014-1.tif",
          "data\\image014-1.tif",
          "data\\image014-1.tif",
          "data\\image014-1.tif",
          "data\\image014-1.tif",
          "data\\image014-1.tif",
          "data\\image014-1.tif",
          "data\\image014-1.tif",
          "data\\image014-1.tif",
          "data\\image014-1.tif",
          "data\\image014-1.tif",
          "data\\image015-1.tif",
          "data\\image015-1.tif",
          "data\\image015-1.tif",
          "data\\image015-1.tif",
          "data\\image015-1.tif",
          "data\\image015-1.tif",
          "data\\image015-1.tif",
          "data\\image015-1.tif",
          "data\\image015-1.tif",
          "data\\image015-1.tif",
          "data\\image015-1.tif",
          "data\\image015-1.tif",
          "data\\image015-1.tif",
          "data\\image015-1.tif",
          "data\\image015-1.tif",
          "data\\image015-1.tif",
          "data\\image015-1.tif",
          "data\\image015-1.tif",
          "data\\image015-1.tif",
          "data\\image015-1.tif",
          "data\\image015-1.tif",
          "data\\image015-1.tif",
          "data\\image015-1.tif",
          "data\\image015-1.tif",
          "data\\image015-1.tif",
          "data\\image015-1.tif",
          "data\\image015-1.tif",
          "data\\image015-1.tif",
          "data\\image015-1.tif",
          "data\\image015-1.tif",
          "data\\image015-1.tif",
          "data\\image015-1.tif",
          "data\\image015-1.tif",
          "data\\image015-1.tif",
          "data\\image015-1.tif",
          "data\\image015-1.tif",
          "data\\image015-1.tif",
          "data\\image015-1.tif",
          "data\\image015-1.tif",
          "data\\image015-1.tif",
          "data\\image015-1.tif",
          "data\\image015-1.tif",
          "data\\image015-1.tif",
          "data\\image015-1.tif",
          "data\\image015-1.tif",
          "data\\image015-1.tif",
          "data\\image015-1.tif",
          "data\\image015-1.tif",
          "data\\image015-1.tif",
          "data\\image015-1.tif",
          "data\\image015-1.tif",
          "data\\image015-1.tif",
          "data\\image015-1.tif",
          "data\\image015-1.tif",
          "data\\image015-1.tif",
          "data\\image015-1.tif",
          "data\\image015-1.tif",
          "data\\image015-1.tif",
          "data\\image015-1.tif",
          "data\\image015-1.tif",
          "data\\image015-1.tif",
          "data\\image015-1.tif",
          "data\\image015-1.tif",
          "data\\image015-1.tif",
          "data\\image015-1.tif",
          "data\\image015-1.tif",
          "data\\image015-1.tif",
          "data\\image015-1.tif",
          "data\\image015-1.tif",
          "data\\image015-1.tif",
          "data\\image015-1.tif",
          "data\\image015-1.tif",
          "data\\image015-1.tif",
          "data\\image015-1.tif",
          "data\\image015-1.tif",
          "data\\image015-1.tif",
          "data\\image015-1.tif",
          "data\\image015-1.tif",
          "data\\image016-1.tif",
          "data\\image016-1.tif",
          "data\\image016-1.tif",
          "data\\image016-1.tif",
          "data\\image016-1.tif",
          "data\\image016-1.tif",
          "data\\image016-1.tif",
          "data\\image016-1.tif",
          "data\\image016-1.tif",
          "data\\image016-1.tif",
          "data\\image016-1.tif",
          "data\\image016-1.tif",
          "data\\image016-1.tif",
          "data\\image016-1.tif",
          "data\\image016-1.tif",
          "data\\image016-1.tif",
          "data\\image016-1.tif",
          "data\\image016-1.tif",
          "data\\image016-1.tif",
          "data\\image016-1.tif",
          "data\\image016-1.tif",
          "data\\image016-1.tif",
          "data\\image016-1.tif",
          "data\\image016-1.tif",
          "data\\image016-1.tif",
          "data\\image016-1.tif",
          "data\\image016-1.tif",
          "data\\image016-1.tif",
          "data\\image016-1.tif",
          "data\\image016-1.tif",
          "data\\image016-1.tif",
          "data\\image016-1.tif",
          "data\\image016-1.tif",
          "data\\image016-1.tif",
          "data\\image016-1.tif",
          "data\\image016-1.tif",
          "data\\image016-1.tif",
          "data\\image016-1.tif",
          "data\\image016-1.tif",
          "data\\image016-1.tif",
          "data\\image016-1.tif",
          "data\\image016-1.tif",
          "data\\image016-1.tif",
          "data\\image016-1.tif",
          "data\\image016-1.tif",
          "data\\image016-1.tif",
          "data\\image016-1.tif",
          "data\\image016-1.tif",
          "data\\image016-1.tif",
          "data\\image016-1.tif",
          "data\\image016-1.tif",
          "data\\image016-1.tif",
          "data\\image016-1.tif",
          "data\\image016-1.tif",
          "data\\image016-1.tif",
          "data\\image016-1.tif",
          "data\\image016-1.tif",
          "data\\image016-1.tif",
          "data\\image016-1.tif",
          "data\\image016-1.tif",
          "data\\image016-1.tif",
          "data\\image016-1.tif",
          "data\\image016-1.tif",
          "data\\image016-1.tif",
          "data\\image016-1.tif",
          "data\\image016-1.tif",
          "data\\image016-1.tif",
          "data\\image016-1.tif",
          "data\\image016-1.tif",
          "data\\image016-1.tif",
          "data\\image016-1.tif",
          "data\\image016-1.tif",
          "data\\image016-1.tif",
          "data\\image016-1.tif",
          "data\\image016-1.tif",
          "data\\image016-1.tif",
          "data\\image016-1.tif",
          "data\\image016-1.tif",
          "data\\image016-1.tif",
          "data\\image016-1.tif",
          "data\\image016-1.tif",
          "data\\image016-1.tif",
          "data\\image016-1.tif",
          "data\\image016-1.tif",
          "data\\image016-1.tif",
          "data\\image016-1.tif",
          "data\\image017-1.tif",
          "data\\image017-1.tif",
          "data\\image017-1.tif",
          "data\\image017-1.tif",
          "data\\image017-1.tif",
          "data\\image017-1.tif",
          "data\\image017-1.tif",
          "data\\image017-1.tif",
          "data\\image017-1.tif",
          "data\\image017-1.tif",
          "data\\image017-1.tif",
          "data\\image017-1.tif",
          "data\\image017-1.tif",
          "data\\image017-1.tif",
          "data\\image017-1.tif",
          "data\\image017-1.tif",
          "data\\image017-1.tif",
          "data\\image017-1.tif",
          "data\\image017-1.tif",
          "data\\image017-1.tif",
          "data\\image017-1.tif",
          "data\\image017-1.tif",
          "data\\image017-1.tif",
          "data\\image017-1.tif",
          "data\\image017-1.tif",
          "data\\image017-1.tif",
          "data\\image017-1.tif",
          "data\\image017-1.tif",
          "data\\image017-1.tif",
          "data\\image017-1.tif",
          "data\\image017-1.tif",
          "data\\image017-1.tif",
          "data\\image017-1.tif",
          "data\\image017-1.tif",
          "data\\image017-1.tif",
          "data\\image017-1.tif",
          "data\\image017-1.tif",
          "data\\image017-1.tif",
          "data\\image017-1.tif",
          "data\\image017-1.tif",
          "data\\image017-1.tif",
          "data\\image017-1.tif",
          "data\\image017-1.tif",
          "data\\image017-1.tif",
          "data\\image017-1.tif",
          "data\\image017-1.tif",
          "data\\image017-1.tif",
          "data\\image017-1.tif",
          "data\\image017-1.tif",
          "data\\image017-1.tif",
          "data\\image017-1.tif",
          "data\\image017-1.tif",
          "data\\image017-1.tif",
          "data\\image017-1.tif",
          "data\\image017-1.tif",
          "data\\image017-1.tif",
          "data\\image017-1.tif",
          "data\\image017-1.tif",
          "data\\image017-1.tif",
          "data\\image017-1.tif",
          "data\\image017-1.tif",
          "data\\image017-1.tif",
          "data\\image017-1.tif",
          "data\\image017-1.tif",
          "data\\image017-1.tif",
          "data\\image017-1.tif",
          "data\\image017-1.tif",
          "data\\image017-1.tif",
          "data\\image017-1.tif",
          "data\\image017-1.tif",
          "data\\image017-1.tif",
          "data\\image017-1.tif",
          "data\\image017-1.tif",
          "data\\image017-1.tif",
          "data\\image017-1.tif",
          "data\\image017-1.tif",
          "data\\image017-1.tif",
          "data\\image017-1.tif",
          "data\\image017-1.tif",
          "data\\image017-1.tif",
          "data\\image017-1.tif",
          "data\\image017-1.tif",
          "data\\image017-1.tif",
          "data\\image017-1.tif",
          "data\\image017-1.tif",
          "data\\image017-1.tif",
          "data\\image018-1.tif",
          "data\\image018-1.tif",
          "data\\image018-1.tif",
          "data\\image018-1.tif",
          "data\\image018-1.tif",
          "data\\image018-1.tif",
          "data\\image018-1.tif",
          "data\\image018-1.tif",
          "data\\image018-1.tif",
          "data\\image018-1.tif",
          "data\\image018-1.tif",
          "data\\image018-1.tif",
          "data\\image018-1.tif",
          "data\\image018-1.tif",
          "data\\image018-1.tif",
          "data\\image018-1.tif",
          "data\\image018-1.tif",
          "data\\image018-1.tif",
          "data\\image018-1.tif",
          "data\\image018-1.tif",
          "data\\image018-1.tif",
          "data\\image018-1.tif",
          "data\\image018-1.tif",
          "data\\image018-1.tif",
          "data\\image018-1.tif",
          "data\\image018-1.tif",
          "data\\image018-1.tif",
          "data\\image018-1.tif",
          "data\\image018-1.tif",
          "data\\image018-1.tif",
          "data\\image018-1.tif",
          "data\\image018-1.tif",
          "data\\image018-1.tif",
          "data\\image018-1.tif",
          "data\\image018-1.tif",
          "data\\image018-1.tif",
          "data\\image018-1.tif",
          "data\\image018-1.tif",
          "data\\image018-1.tif",
          "data\\image018-1.tif",
          "data\\image018-1.tif",
          "data\\image018-1.tif",
          "data\\image018-1.tif",
          "data\\image018-1.tif",
          "data\\image018-1.tif",
          "data\\image018-1.tif",
          "data\\image018-1.tif",
          "data\\image018-1.tif",
          "data\\image018-1.tif",
          "data\\image018-1.tif",
          "data\\image018-1.tif",
          "data\\image018-1.tif",
          "data\\image018-1.tif",
          "data\\image018-1.tif",
          "data\\image018-1.tif",
          "data\\image018-1.tif",
          "data\\image018-1.tif",
          "data\\image018-1.tif",
          "data\\image018-1.tif",
          "data\\image018-1.tif",
          "data\\image018-1.tif",
          "data\\image018-1.tif",
          "data\\image018-1.tif",
          "data\\image018-1.tif",
          "data\\image018-1.tif",
          "data\\image018-1.tif",
          "data\\image018-1.tif",
          "data\\image018-1.tif",
          "data\\image018-1.tif",
          "data\\image018-1.tif",
          "data\\image018-1.tif",
          "data\\image018-1.tif",
          "data\\image018-1.tif",
          "data\\image018-1.tif",
          "data\\image018-1.tif",
          "data\\image018-1.tif",
          "data\\image018-1.tif",
          "data\\image018-1.tif",
          "data\\image018-1.tif",
          "data\\image018-1.tif",
          "data\\image018-1.tif",
          "data\\image018-1.tif",
          "data\\image018-1.tif",
          "data\\image018-1.tif",
          "data\\image018-1.tif",
          "data\\image018-1.tif",
          "data\\image018-1.tif",
          "data\\image018-1.tif",
          "data\\image018-1.tif",
          "data\\image018-1.tif",
          "data\\image018-1.tif",
          "data\\image018-1.tif",
          "data\\image019-1.tif",
          "data\\image019-1.tif",
          "data\\image019-1.tif",
          "data\\image019-1.tif",
          "data\\image019-1.tif",
          "data\\image019-1.tif",
          "data\\image019-1.tif",
          "data\\image019-1.tif",
          "data\\image019-1.tif",
          "data\\image019-1.tif",
          "data\\image019-1.tif",
          "data\\image019-1.tif",
          "data\\image019-1.tif",
          "data\\image019-1.tif",
          "data\\image019-1.tif",
          "data\\image019-1.tif",
          "data\\image019-1.tif",
          "data\\image019-1.tif",
          "data\\image019-1.tif",
          "data\\image019-1.tif",
          "data\\image019-1.tif",
          "data\\image019-1.tif",
          "data\\image019-1.tif",
          "data\\image019-1.tif",
          "data\\image019-1.tif",
          "data\\image019-1.tif",
          "data\\image019-1.tif",
          "data\\image019-1.tif",
          "data\\image019-1.tif",
          "data\\image019-1.tif",
          "data\\image019-1.tif",
          "data\\image019-1.tif",
          "data\\image019-1.tif",
          "data\\image019-1.tif",
          "data\\image019-1.tif",
          "data\\image019-1.tif",
          "data\\image019-1.tif",
          "data\\image019-1.tif",
          "data\\image019-1.tif",
          "data\\image019-1.tif",
          "data\\image019-1.tif",
          "data\\image019-1.tif",
          "data\\image019-1.tif",
          "data\\image019-1.tif",
          "data\\image019-1.tif",
          "data\\image019-1.tif",
          "data\\image019-1.tif",
          "data\\image019-1.tif",
          "data\\image019-1.tif",
          "data\\image019-1.tif",
          "data\\image019-1.tif",
          "data\\image019-1.tif",
          "data\\image019-1.tif",
          "data\\image019-1.tif",
          "data\\image019-1.tif",
          "data\\image019-1.tif",
          "data\\image019-1.tif",
          "data\\image019-1.tif",
          "data\\image019-1.tif",
          "data\\image019-1.tif",
          "data\\image019-1.tif",
          "data\\image019-1.tif",
          "data\\image019-1.tif",
          "data\\image019-1.tif",
          "data\\image019-1.tif",
          "data\\image019-1.tif",
          "data\\image019-1.tif",
          "data\\image019-1.tif",
          "data\\image019-1.tif",
          "data\\image019-1.tif",
          "data\\image019-1.tif",
          "data\\image019-1.tif",
          "data\\image019-1.tif",
          "data\\image019-1.tif",
          "data\\image019-1.tif",
          "data\\image019-1.tif",
          "data\\image019-1.tif",
          "data\\image019-1.tif",
          "data\\image019-1.tif",
          "data\\image019-1.tif",
          "data\\image019-1.tif",
          "data\\image019-1.tif",
          "data\\image019-1.tif",
          "data\\image019-1.tif",
          "data\\image019-1.tif",
          "data\\image019-1.tif",
          "data\\image019-1.tif",
          "data\\image019-1.tif",
          "data\\image019-1.tif",
          "data\\image019-1.tif",
          "data\\image019-1.tif",
          "data\\image019-1.tif",
          "data\\image019-1.tif",
          "data\\image019-1.tif",
          "data\\rep1_image20-1.tif",
          "data\\rep1_image20-1.tif",
          "data\\rep1_image20-1.tif",
          "data\\rep1_image20-1.tif",
          "data\\rep1_image20-1.tif",
          "data\\rep1_image20-1.tif",
          "data\\rep1_image20-1.tif",
          "data\\rep1_image20-1.tif",
          "data\\rep1_image20-1.tif",
          "data\\rep1_image20-1.tif",
          "data\\rep1_image20-1.tif",
          "data\\rep1_image20-1.tif",
          "data\\rep1_image20-1.tif",
          "data\\rep1_image20-1.tif",
          "data\\rep1_image20-1.tif",
          "data\\rep1_image20-1.tif",
          "data\\rep1_image20-1.tif",
          "data\\rep1_image20-1.tif",
          "data\\rep1_image20-1.tif",
          "data\\rep1_image20-1.tif",
          "data\\rep1_image20-1.tif",
          "data\\rep1_image20-1.tif",
          "data\\rep1_image20-1.tif",
          "data\\rep1_image20-1.tif",
          "data\\rep1_image20-1.tif",
          "data\\rep1_image20-1.tif",
          "data\\rep1_image20-1.tif",
          "data\\rep1_image20-1.tif",
          "data\\rep1_image20-1.tif",
          "data\\rep1_image20-1.tif",
          "data\\rep1_image20-1.tif",
          "data\\rep1_image20-1.tif",
          "data\\rep1_image20-1.tif",
          "data\\rep1_image20-1.tif",
          "data\\rep1_image20-1.tif",
          "data\\rep1_image20-1.tif",
          "data\\rep1_image20-1.tif",
          "data\\rep1_image20-1.tif",
          "data\\rep1_image20-1.tif",
          "data\\rep1_image20-1.tif",
          "data\\rep1_image20-1.tif",
          "data\\rep1_image20-1.tif",
          "data\\rep1_image20-1.tif",
          "data\\rep1_image20-1.tif",
          "data\\rep1_image20-1.tif",
          "data\\rep1_image20-1.tif",
          "data\\rep1_image20-1.tif",
          "data\\rep1_image20-1.tif",
          "data\\rep1_image20-1.tif",
          "data\\rep1_image20-1.tif",
          "data\\rep1_image20-1.tif",
          "data\\rep1_image20-1.tif",
          "data\\rep1_image20-1.tif",
          "data\\rep1_image20-1.tif",
          "data\\rep1_image20-1.tif",
          "data\\rep1_image20-1.tif",
          "data\\rep1_image20-1.tif",
          "data\\rep1_image20-1.tif",
          "data\\rep1_image20-1.tif",
          "data\\rep1_image20-1.tif",
          "data\\rep1_image20-1.tif",
          "data\\rep1_image20-1.tif",
          "data\\rep1_image20-1.tif",
          "data\\rep1_image20-1.tif",
          "data\\rep1_image20-1.tif",
          "data\\rep1_image20-1.tif",
          "data\\rep1_image20-1.tif",
          "data\\rep1_image20-1.tif",
          "data\\rep1_image20-1.tif",
          "data\\rep1_image20-1.tif",
          "data\\rep1_image20-1.tif",
          "data\\rep1_image20-1.tif",
          "data\\rep1_image20-1.tif",
          "data\\rep1_image20-1.tif",
          "data\\rep1_image20-1.tif",
          "data\\rep1_image20-1.tif",
          "data\\rep1_image20-1.tif",
          "data\\rep1_image20-1.tif",
          "data\\rep1_image20-1.tif",
          "data\\rep1_image20-1.tif",
          "data\\rep1_image20-1.tif",
          "data\\rep1_image20-1.tif",
          "data\\rep1_image20-1.tif",
          "data\\rep1_image20-1.tif",
          "data\\rep1_image20-1.tif",
          "data\\rep1_image20-1.tif",
          "data\\rep1_image20-1.tif",
          "data\\rep1_image20-1.tif",
          "data\\rep1_image20-1.tif",
          "data\\rep1_image20-1.tif",
          "data\\rep1_image20-1.tif",
          "data\\rep1_image20-1.tif",
          "data\\rep1_image20-1.tif",
          "data\\rep1_image20-1.tif",
          "data\\rep1_image21-1.tif",
          "data\\rep1_image21-1.tif",
          "data\\rep1_image21-1.tif",
          "data\\rep1_image21-1.tif",
          "data\\rep1_image21-1.tif",
          "data\\rep1_image21-1.tif",
          "data\\rep1_image21-1.tif",
          "data\\rep1_image21-1.tif",
          "data\\rep1_image21-1.tif",
          "data\\rep1_image21-1.tif",
          "data\\rep1_image21-1.tif",
          "data\\rep1_image21-1.tif",
          "data\\rep1_image21-1.tif",
          "data\\rep1_image21-1.tif",
          "data\\rep1_image21-1.tif",
          "data\\rep1_image21-1.tif",
          "data\\rep1_image21-1.tif",
          "data\\rep1_image21-1.tif",
          "data\\rep1_image21-1.tif",
          "data\\rep1_image21-1.tif",
          "data\\rep1_image21-1.tif",
          "data\\rep1_image21-1.tif",
          "data\\rep1_image21-1.tif",
          "data\\rep1_image21-1.tif",
          "data\\rep1_image21-1.tif",
          "data\\rep1_image21-1.tif",
          "data\\rep1_image21-1.tif",
          "data\\rep1_image21-1.tif",
          "data\\rep1_image21-1.tif",
          "data\\rep1_image21-1.tif",
          "data\\rep1_image21-1.tif",
          "data\\rep1_image21-1.tif",
          "data\\rep1_image21-1.tif",
          "data\\rep1_image21-1.tif",
          "data\\rep1_image21-1.tif",
          "data\\rep1_image21-1.tif",
          "data\\rep1_image21-1.tif",
          "data\\rep1_image21-1.tif",
          "data\\rep1_image21-1.tif",
          "data\\rep1_image21-1.tif",
          "data\\rep1_image21-1.tif",
          "data\\rep1_image21-1.tif",
          "data\\rep1_image21-1.tif",
          "data\\rep1_image21-1.tif",
          "data\\rep1_image21-1.tif",
          "data\\rep1_image21-1.tif",
          "data\\rep1_image21-1.tif",
          "data\\rep1_image21-1.tif",
          "data\\rep1_image21-1.tif",
          "data\\rep1_image21-1.tif",
          "data\\rep1_image21-1.tif",
          "data\\rep1_image21-1.tif",
          "data\\rep1_image21-1.tif",
          "data\\rep1_image21-1.tif",
          "data\\rep1_image21-1.tif",
          "data\\rep1_image21-1.tif",
          "data\\rep1_image21-1.tif",
          "data\\rep1_image21-1.tif",
          "data\\rep1_image21-1.tif",
          "data\\rep1_image21-1.tif",
          "data\\rep1_image21-1.tif",
          "data\\rep1_image21-1.tif",
          "data\\rep1_image21-1.tif",
          "data\\rep1_image21-1.tif",
          "data\\rep1_image21-1.tif",
          "data\\rep1_image21-1.tif",
          "data\\rep1_image21-1.tif",
          "data\\rep1_image21-1.tif",
          "data\\rep1_image21-1.tif",
          "data\\rep1_image21-1.tif",
          "data\\rep1_image21-1.tif",
          "data\\rep1_image21-1.tif",
          "data\\rep1_image21-1.tif",
          "data\\rep1_image21-1.tif",
          "data\\rep1_image21-1.tif",
          "data\\rep1_image21-1.tif",
          "data\\rep1_image21-1.tif",
          "data\\rep1_image21-1.tif",
          "data\\rep1_image21-1.tif",
          "data\\rep1_image21-1.tif",
          "data\\rep1_image21-1.tif",
          "data\\rep1_image21-1.tif",
          "data\\rep1_image22-1.tif",
          "data\\rep1_image22-1.tif",
          "data\\rep1_image22-1.tif",
          "data\\rep1_image22-1.tif",
          "data\\rep1_image22-1.tif",
          "data\\rep1_image22-1.tif",
          "data\\rep1_image22-1.tif",
          "data\\rep1_image22-1.tif",
          "data\\rep1_image22-1.tif",
          "data\\rep1_image22-1.tif",
          "data\\rep1_image22-1.tif",
          "data\\rep1_image22-1.tif",
          "data\\rep1_image22-1.tif",
          "data\\rep1_image22-1.tif",
          "data\\rep1_image22-1.tif",
          "data\\rep1_image22-1.tif",
          "data\\rep1_image22-1.tif",
          "data\\rep1_image22-1.tif",
          "data\\rep1_image22-1.tif",
          "data\\rep1_image22-1.tif",
          "data\\rep1_image22-1.tif",
          "data\\rep1_image22-1.tif",
          "data\\rep1_image22-1.tif",
          "data\\rep1_image22-1.tif",
          "data\\rep1_image22-1.tif",
          "data\\rep1_image22-1.tif",
          "data\\rep1_image22-1.tif",
          "data\\rep1_image22-1.tif",
          "data\\rep1_image22-1.tif",
          "data\\rep1_image22-1.tif",
          "data\\rep1_image22-1.tif",
          "data\\rep1_image22-1.tif",
          "data\\rep1_image22-1.tif",
          "data\\rep1_image22-1.tif",
          "data\\rep1_image22-1.tif",
          "data\\rep1_image22-1.tif",
          "data\\rep1_image22-1.tif",
          "data\\rep1_image22-1.tif",
          "data\\rep1_image22-1.tif",
          "data\\rep1_image22-1.tif",
          "data\\rep1_image22-1.tif",
          "data\\rep1_image22-1.tif",
          "data\\rep1_image22-1.tif",
          "data\\rep1_image22-1.tif",
          "data\\rep1_image22-1.tif",
          "data\\rep1_image22-1.tif",
          "data\\rep1_image22-1.tif",
          "data\\rep1_image22-1.tif",
          "data\\rep1_image22-1.tif",
          "data\\rep1_image22-1.tif",
          "data\\rep1_image22-1.tif",
          "data\\rep1_image22-1.tif",
          "data\\rep1_image22-1.tif",
          "data\\rep1_image22-1.tif",
          "data\\rep1_image22-1.tif",
          "data\\rep1_image22-1.tif",
          "data\\rep1_image22-1.tif",
          "data\\rep1_image22-1.tif",
          "data\\rep1_image22-1.tif",
          "data\\rep1_image22-1.tif",
          "data\\rep1_image22-1.tif",
          "data\\rep1_image22-1.tif",
          "data\\rep1_image22-1.tif",
          "data\\rep1_image22-1.tif",
          "data\\rep1_image22-1.tif",
          "data\\rep1_image22-1.tif",
          "data\\rep1_image22-1.tif",
          "data\\rep1_image22-1.tif",
          "data\\rep1_image22-1.tif",
          "data\\rep1_image22-1.tif",
          "data\\rep1_image22-1.tif",
          "data\\rep1_image22-1.tif",
          "data\\rep1_image22-1.tif",
          "data\\rep1_image22-1.tif",
          "data\\rep1_image22-1.tif",
          "data\\rep1_image22-1.tif",
          "data\\rep1_image22-1.tif",
          "data\\rep1_image22-1.tif",
          "data\\rep1_image22-1.tif",
          "data\\rep1_image22-1.tif",
          "data\\rep1_image22-1.tif",
          "data\\rep1_image22-1.tif",
          "data\\rep1_image22-1.tif",
          "data\\rep1_image22-1.tif"
         ],
         "x0": " ",
         "xaxis": "x",
         "y": {
          "bdata": "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",
          "dtype": "f4"
         },
         "y0": " ",
         "yaxis": "y"
        }
       ],
       "layout": {
        "legend": {
         "tracegroupgap": 0
        },
        "margin": {
         "t": 60
        },
        "template": {
         "data": {
          "bar": [
           {
            "error_x": {
             "color": "#2a3f5f"
            },
            "error_y": {
             "color": "#2a3f5f"
            },
            "marker": {
             "line": {
              "color": "#E5ECF6",
              "width": 0.5
             },
             "pattern": {
              "fillmode": "overlay",
              "size": 10,
              "solidity": 0.2
             }
            },
            "type": "bar"
           }
          ],
          "barpolar": [
           {
            "marker": {
             "line": {
              "color": "#E5ECF6",
              "width": 0.5
             },
             "pattern": {
              "fillmode": "overlay",
              "size": 10,
              "solidity": 0.2
             }
            },
            "type": "barpolar"
           }
          ],
          "carpet": [
           {
            "aaxis": {
             "endlinecolor": "#2a3f5f",
             "gridcolor": "white",
             "linecolor": "white",
             "minorgridcolor": "white",
             "startlinecolor": "#2a3f5f"
            },
            "baxis": {
             "endlinecolor": "#2a3f5f",
             "gridcolor": "white",
             "linecolor": "white",
             "minorgridcolor": "white",
             "startlinecolor": "#2a3f5f"
            },
            "type": "carpet"
           }
          ],
          "choropleth": [
           {
            "colorbar": {
             "outlinewidth": 0,
             "ticks": ""
            },
            "type": "choropleth"
           }
          ],
          "contour": [
           {
            "colorbar": {
             "outlinewidth": 0,
             "ticks": ""
            },
            "colorscale": [
             [
              0,
              "#0d0887"
             ],
             [
              0.1111111111111111,
              "#46039f"
             ],
             [
              0.2222222222222222,
              "#7201a8"
             ],
             [
              0.3333333333333333,
              "#9c179e"
             ],
             [
              0.4444444444444444,
              "#bd3786"
             ],
             [
              0.5555555555555556,
              "#d8576b"
             ],
             [
              0.6666666666666666,
              "#ed7953"
             ],
             [
              0.7777777777777778,
              "#fb9f3a"
             ],
             [
              0.8888888888888888,
              "#fdca26"
             ],
             [
              1,
              "#f0f921"
             ]
            ],
            "type": "contour"
           }
          ],
          "contourcarpet": [
           {
            "colorbar": {
             "outlinewidth": 0,
             "ticks": ""
            },
            "type": "contourcarpet"
           }
          ],
          "heatmap": [
           {
            "colorbar": {
             "outlinewidth": 0,
             "ticks": ""
            },
            "colorscale": [
             [
              0,
              "#0d0887"
             ],
             [
              0.1111111111111111,
              "#46039f"
             ],
             [
              0.2222222222222222,
              "#7201a8"
             ],
             [
              0.3333333333333333,
              "#9c179e"
             ],
             [
              0.4444444444444444,
              "#bd3786"
             ],
             [
              0.5555555555555556,
              "#d8576b"
             ],
             [
              0.6666666666666666,
              "#ed7953"
             ],
             [
              0.7777777777777778,
              "#fb9f3a"
             ],
             [
              0.8888888888888888,
              "#fdca26"
             ],
             [
              1,
              "#f0f921"
             ]
            ],
            "type": "heatmap"
           }
          ],
          "histogram": [
           {
            "marker": {
             "pattern": {
              "fillmode": "overlay",
              "size": 10,
              "solidity": 0.2
             }
            },
            "type": "histogram"
           }
          ],
          "histogram2d": [
           {
            "colorbar": {
             "outlinewidth": 0,
             "ticks": ""
            },
            "colorscale": [
             [
              0,
              "#0d0887"
             ],
             [
              0.1111111111111111,
              "#46039f"
             ],
             [
              0.2222222222222222,
              "#7201a8"
             ],
             [
              0.3333333333333333,
              "#9c179e"
             ],
             [
              0.4444444444444444,
              "#bd3786"
             ],
             [
              0.5555555555555556,
              "#d8576b"
             ],
             [
              0.6666666666666666,
              "#ed7953"
             ],
             [
              0.7777777777777778,
              "#fb9f3a"
             ],
             [
              0.8888888888888888,
              "#fdca26"
             ],
             [
              1,
              "#f0f921"
             ]
            ],
            "type": "histogram2d"
           }
          ],
          "histogram2dcontour": [
           {
            "colorbar": {
             "outlinewidth": 0,
             "ticks": ""
            },
            "colorscale": [
             [
              0,
              "#0d0887"
             ],
             [
              0.1111111111111111,
              "#46039f"
             ],
             [
              0.2222222222222222,
              "#7201a8"
             ],
             [
              0.3333333333333333,
              "#9c179e"
             ],
             [
              0.4444444444444444,
              "#bd3786"
             ],
             [
              0.5555555555555556,
              "#d8576b"
             ],
             [
              0.6666666666666666,
              "#ed7953"
             ],
             [
              0.7777777777777778,
              "#fb9f3a"
             ],
             [
              0.8888888888888888,
              "#fdca26"
             ],
             [
              1,
              "#f0f921"
             ]
            ],
            "type": "histogram2dcontour"
           }
          ],
          "mesh3d": [
           {
            "colorbar": {
             "outlinewidth": 0,
             "ticks": ""
            },
            "type": "mesh3d"
           }
          ],
          "parcoords": [
           {
            "line": {
             "colorbar": {
              "outlinewidth": 0,
              "ticks": ""
             }
            },
            "type": "parcoords"
           }
          ],
          "pie": [
           {
            "automargin": true,
            "type": "pie"
           }
          ],
          "scatter": [
           {
            "fillpattern": {
             "fillmode": "overlay",
             "size": 10,
             "solidity": 0.2
            },
            "type": "scatter"
           }
          ],
          "scatter3d": [
           {
            "line": {
             "colorbar": {
              "outlinewidth": 0,
              "ticks": ""
             }
            },
            "marker": {
             "colorbar": {
              "outlinewidth": 0,
              "ticks": ""
             }
            },
            "type": "scatter3d"
           }
          ],
          "scattercarpet": [
           {
            "marker": {
             "colorbar": {
              "outlinewidth": 0,
              "ticks": ""
             }
            },
            "type": "scattercarpet"
           }
          ],
          "scattergeo": [
           {
            "marker": {
             "colorbar": {
              "outlinewidth": 0,
              "ticks": ""
             }
            },
            "type": "scattergeo"
           }
          ],
          "scattergl": [
           {
            "marker": {
             "colorbar": {
              "outlinewidth": 0,
              "ticks": ""
             }
            },
            "type": "scattergl"
           }
          ],
          "scattermap": [
           {
            "marker": {
             "colorbar": {
              "outlinewidth": 0,
              "ticks": ""
             }
            },
            "type": "scattermap"
           }
          ],
          "scattermapbox": [
           {
            "marker": {
             "colorbar": {
              "outlinewidth": 0,
              "ticks": ""
             }
            },
            "type": "scattermapbox"
           }
          ],
          "scatterpolar": [
           {
            "marker": {
             "colorbar": {
              "outlinewidth": 0,
              "ticks": ""
             }
            },
            "type": "scatterpolar"
           }
          ],
          "scatterpolargl": [
           {
            "marker": {
             "colorbar": {
              "outlinewidth": 0,
              "ticks": ""
             }
            },
            "type": "scatterpolargl"
           }
          ],
          "scatterternary": [
           {
            "marker": {
             "colorbar": {
              "outlinewidth": 0,
              "ticks": ""
             }
            },
            "type": "scatterternary"
           }
          ],
          "surface": [
           {
            "colorbar": {
             "outlinewidth": 0,
             "ticks": ""
            },
            "colorscale": [
             [
              0,
              "#0d0887"
             ],
             [
              0.1111111111111111,
              "#46039f"
             ],
             [
              0.2222222222222222,
              "#7201a8"
             ],
             [
              0.3333333333333333,
              "#9c179e"
             ],
             [
              0.4444444444444444,
              "#bd3786"
             ],
             [
              0.5555555555555556,
              "#d8576b"
             ],
             [
              0.6666666666666666,
              "#ed7953"
             ],
             [
              0.7777777777777778,
              "#fb9f3a"
             ],
             [
              0.8888888888888888,
              "#fdca26"
             ],
             [
              1,
              "#f0f921"
             ]
            ],
            "type": "surface"
           }
          ],
          "table": [
           {
            "cells": {
             "fill": {
              "color": "#EBF0F8"
             },
             "line": {
              "color": "white"
             }
            },
            "header": {
             "fill": {
              "color": "#C8D4E3"
             },
             "line": {
              "color": "white"
             }
            },
            "type": "table"
           }
          ]
         },
         "layout": {
          "annotationdefaults": {
           "arrowcolor": "#2a3f5f",
           "arrowhead": 0,
           "arrowwidth": 1
          },
          "autotypenumbers": "strict",
          "coloraxis": {
           "colorbar": {
            "outlinewidth": 0,
            "ticks": ""
           }
          },
          "colorscale": {
           "diverging": [
            [
             0,
             "#8e0152"
            ],
            [
             0.1,
             "#c51b7d"
            ],
            [
             0.2,
             "#de77ae"
            ],
            [
             0.3,
             "#f1b6da"
            ],
            [
             0.4,
             "#fde0ef"
            ],
            [
             0.5,
             "#f7f7f7"
            ],
            [
             0.6,
             "#e6f5d0"
            ],
            [
             0.7,
             "#b8e186"
            ],
            [
             0.8,
             "#7fbc41"
            ],
            [
             0.9,
             "#4d9221"
            ],
            [
             1,
             "#276419"
            ]
           ],
           "sequential": [
            [
             0,
             "#0d0887"
            ],
            [
             0.1111111111111111,
             "#46039f"
            ],
            [
             0.2222222222222222,
             "#7201a8"
            ],
            [
             0.3333333333333333,
             "#9c179e"
            ],
            [
             0.4444444444444444,
             "#bd3786"
            ],
            [
             0.5555555555555556,
             "#d8576b"
            ],
            [
             0.6666666666666666,
             "#ed7953"
            ],
            [
             0.7777777777777778,
             "#fb9f3a"
            ],
            [
             0.8888888888888888,
             "#fdca26"
            ],
            [
             1,
             "#f0f921"
            ]
           ],
           "sequentialminus": [
            [
             0,
             "#0d0887"
            ],
            [
             0.1111111111111111,
             "#46039f"
            ],
            [
             0.2222222222222222,
             "#7201a8"
            ],
            [
             0.3333333333333333,
             "#9c179e"
            ],
            [
             0.4444444444444444,
             "#bd3786"
            ],
            [
             0.5555555555555556,
             "#d8576b"
            ],
            [
             0.6666666666666666,
             "#ed7953"
            ],
            [
             0.7777777777777778,
             "#fb9f3a"
            ],
            [
             0.8888888888888888,
             "#fdca26"
            ],
            [
             1,
             "#f0f921"
            ]
           ]
          },
          "colorway": [
           "#636efa",
           "#EF553B",
           "#00cc96",
           "#ab63fa",
           "#FFA15A",
           "#19d3f3",
           "#FF6692",
           "#B6E880",
           "#FF97FF",
           "#FECB52"
          ],
          "font": {
           "color": "#2a3f5f"
          },
          "geo": {
           "bgcolor": "white",
           "lakecolor": "white",
           "landcolor": "#E5ECF6",
           "showlakes": true,
           "showland": true,
           "subunitcolor": "white"
          },
          "hoverlabel": {
           "align": "left"
          },
          "hovermode": "closest",
          "mapbox": {
           "style": "light"
          },
          "paper_bgcolor": "white",
          "plot_bgcolor": "#E5ECF6",
          "polar": {
           "angularaxis": {
            "gridcolor": "white",
            "linecolor": "white",
            "ticks": ""
           },
           "bgcolor": "#E5ECF6",
           "radialaxis": {
            "gridcolor": "white",
            "linecolor": "white",
            "ticks": ""
           }
          },
          "scene": {
           "xaxis": {
            "backgroundcolor": "#E5ECF6",
            "gridcolor": "white",
            "gridwidth": 2,
            "linecolor": "white",
            "showbackground": true,
            "ticks": "",
            "zerolinecolor": "white"
           },
           "yaxis": {
            "backgroundcolor": "#E5ECF6",
            "gridcolor": "white",
            "gridwidth": 2,
            "linecolor": "white",
            "showbackground": true,
            "ticks": "",
            "zerolinecolor": "white"
           },
           "zaxis": {
            "backgroundcolor": "#E5ECF6",
            "gridcolor": "white",
            "gridwidth": 2,
            "linecolor": "white",
            "showbackground": true,
            "ticks": "",
            "zerolinecolor": "white"
           }
          },
          "shapedefaults": {
           "line": {
            "color": "#2a3f5f"
           }
          },
          "ternary": {
           "aaxis": {
            "gridcolor": "white",
            "linecolor": "white",
            "ticks": ""
           },
           "baxis": {
            "gridcolor": "white",
            "linecolor": "white",
            "ticks": ""
           },
           "bgcolor": "#E5ECF6",
           "caxis": {
            "gridcolor": "white",
            "linecolor": "white",
            "ticks": ""
           }
          },
          "title": {
           "x": 0.05
          },
          "xaxis": {
           "automargin": true,
           "gridcolor": "white",
           "linecolor": "white",
           "ticks": "",
           "title": {
            "standoff": 15
           },
           "zerolinecolor": "white",
           "zerolinewidth": 2
          },
          "yaxis": {
           "automargin": true,
           "gridcolor": "white",
           "linecolor": "white",
           "ticks": "",
           "title": {
            "standoff": 15
           },
           "zerolinecolor": "white",
           "zerolinewidth": 2
          }
         }
        },
        "violinmode": "group",
        "xaxis": {
         "anchor": "y",
         "domain": [
          0,
          1
         ],
         "title": {
          "text": "File"
         }
        },
        "yaxis": {
         "anchor": "x",
         "domain": [
          0,
          1
         ],
         "title": {
          "text": "Intensity"
         }
        }
       }
      }
     },
     "metadata": {},
     "output_type": "display_data"
    }
   ],
   "source": [
    "px.violin(df, x='File', y='Intensity', points='all')"
   ]
  },
  {
   "cell_type": "code",
   "execution_count": 16,
   "id": "7e9e0261",
   "metadata": {},
   "outputs": [
    {
     "data": {
      "application/vnd.plotly.v1+json": {
       "config": {
        "plotlyServerURL": "https://plot.ly"
       },
       "data": [
        {
         "alignmentgroup": "True",
         "boxpoints": "all",
         "hovertemplate": "File=%{x}<br>normed_intensity=%{y}<extra></extra>",
         "legendgroup": "",
         "marker": {
          "color": "#636efa"
         },
         "name": "",
         "notched": false,
         "offsetgroup": "",
         "orientation": "v",
         "showlegend": false,
         "type": "box",
         "x": [
          "data\\image001-1.tif",
          "data\\image001-1.tif",
          "data\\image001-1.tif",
          "data\\image001-1.tif",
          "data\\image001-1.tif",
          "data\\image001-1.tif",
          "data\\image001-1.tif",
          "data\\image001-1.tif",
          "data\\image001-1.tif",
          "data\\image001-1.tif",
          "data\\image001-1.tif",
          "data\\image001-1.tif",
          "data\\image001-1.tif",
          "data\\image001-1.tif",
          "data\\image001-1.tif",
          "data\\image001-1.tif",
          "data\\image001-1.tif",
          "data\\image001-1.tif",
          "data\\image001-1.tif",
          "data\\image001-1.tif",
          "data\\image001-1.tif",
          "data\\image001-1.tif",
          "data\\image001-1.tif",
          "data\\image001-1.tif",
          "data\\image001-1.tif",
          "data\\image001-1.tif",
          "data\\image001-1.tif",
          "data\\image001-1.tif",
          "data\\image001-1.tif",
          "data\\image001-1.tif",
          "data\\image001-1.tif",
          "data\\image001-1.tif",
          "data\\image001-1.tif",
          "data\\image001-1.tif",
          "data\\image001-1.tif",
          "data\\image001-1.tif",
          "data\\image001-1.tif",
          "data\\image001-1.tif",
          "data\\image001-1.tif",
          "data\\image001-1.tif",
          "data\\image001-1.tif",
          "data\\image001-1.tif",
          "data\\image001-1.tif",
          "data\\image001-1.tif",
          "data\\image001-1.tif",
          "data\\image001-1.tif",
          "data\\image001-1.tif",
          "data\\image001-1.tif",
          "data\\image001-1.tif",
          "data\\image001-1.tif",
          "data\\image001-1.tif",
          "data\\image001-1.tif",
          "data\\image001-1.tif",
          "data\\image001-1.tif",
          "data\\image001-1.tif",
          "data\\image001-1.tif",
          "data\\image001-1.tif",
          "data\\image001-1.tif",
          "data\\image001-1.tif",
          "data\\image001-1.tif",
          "data\\image001-1.tif",
          "data\\image001-1.tif",
          "data\\image001-1.tif",
          "data\\image001-1.tif",
          "data\\image001-1.tif",
          "data\\image001-1.tif",
          "data\\image001-1.tif",
          "data\\image001-1.tif",
          "data\\image001-1.tif",
          "data\\image001-1.tif",
          "data\\image001-1.tif",
          "data\\image001-1.tif",
          "data\\image001-1.tif",
          "data\\image001-1.tif",
          "data\\image001-1.tif",
          "data\\image001-1.tif",
          "data\\image001-1.tif",
          "data\\image001-1.tif",
          "data\\image001-1.tif",
          "data\\image001-1.tif",
          "data\\image001-1.tif",
          "data\\image001-1.tif",
          "data\\image001-1.tif",
          "data\\image001-1.tif",
          "data\\image001-1.tif",
          "data\\image001-1.tif",
          "data\\image001-1.tif",
          "data\\image001-1.tif",
          "data\\image001-1.tif",
          "data\\image001-1.tif",
          "data\\image002-1.tif",
          "data\\image002-1.tif",
          "data\\image002-1.tif",
          "data\\image002-1.tif",
          "data\\image002-1.tif",
          "data\\image002-1.tif",
          "data\\image002-1.tif",
          "data\\image002-1.tif",
          "data\\image002-1.tif",
          "data\\image002-1.tif",
          "data\\image002-1.tif",
          "data\\image002-1.tif",
          "data\\image002-1.tif",
          "data\\image002-1.tif",
          "data\\image002-1.tif",
          "data\\image002-1.tif",
          "data\\image002-1.tif",
          "data\\image002-1.tif",
          "data\\image002-1.tif",
          "data\\image002-1.tif",
          "data\\image002-1.tif",
          "data\\image002-1.tif",
          "data\\image002-1.tif",
          "data\\image002-1.tif",
          "data\\image002-1.tif",
          "data\\image002-1.tif",
          "data\\image002-1.tif",
          "data\\image002-1.tif",
          "data\\image002-1.tif",
          "data\\image002-1.tif",
          "data\\image002-1.tif",
          "data\\image002-1.tif",
          "data\\image002-1.tif",
          "data\\image002-1.tif",
          "data\\image002-1.tif",
          "data\\image002-1.tif",
          "data\\image002-1.tif",
          "data\\image002-1.tif",
          "data\\image002-1.tif",
          "data\\image002-1.tif",
          "data\\image002-1.tif",
          "data\\image002-1.tif",
          "data\\image002-1.tif",
          "data\\image002-1.tif",
          "data\\image002-1.tif",
          "data\\image002-1.tif",
          "data\\image002-1.tif",
          "data\\image002-1.tif",
          "data\\image002-1.tif",
          "data\\image002-1.tif",
          "data\\image002-1.tif",
          "data\\image002-1.tif",
          "data\\image002-1.tif",
          "data\\image002-1.tif",
          "data\\image002-1.tif",
          "data\\image002-1.tif",
          "data\\image002-1.tif",
          "data\\image002-1.tif",
          "data\\image002-1.tif",
          "data\\image002-1.tif",
          "data\\image002-1.tif",
          "data\\image002-1.tif",
          "data\\image002-1.tif",
          "data\\image002-1.tif",
          "data\\image002-1.tif",
          "data\\image002-1.tif",
          "data\\image002-1.tif",
          "data\\image002-1.tif",
          "data\\image002-1.tif",
          "data\\image002-1.tif",
          "data\\image002-1.tif",
          "data\\image002-1.tif",
          "data\\image002-1.tif",
          "data\\image002-1.tif",
          "data\\image002-1.tif",
          "data\\image002-1.tif",
          "data\\image002-1.tif",
          "data\\image002-1.tif",
          "data\\image002-1.tif",
          "data\\image002-1.tif",
          "data\\image002-1.tif",
          "data\\image002-1.tif",
          "data\\image002-1.tif",
          "data\\image002-1.tif",
          "data\\image002-1.tif",
          "data\\image002-1.tif",
          "data\\image002-1.tif",
          "data\\image002-1.tif",
          "data\\image003-1.tif",
          "data\\image003-1.tif",
          "data\\image003-1.tif",
          "data\\image003-1.tif",
          "data\\image003-1.tif",
          "data\\image003-1.tif",
          "data\\image003-1.tif",
          "data\\image003-1.tif",
          "data\\image003-1.tif",
          "data\\image003-1.tif",
          "data\\image003-1.tif",
          "data\\image003-1.tif",
          "data\\image003-1.tif",
          "data\\image003-1.tif",
          "data\\image003-1.tif",
          "data\\image003-1.tif",
          "data\\image003-1.tif",
          "data\\image003-1.tif",
          "data\\image003-1.tif",
          "data\\image003-1.tif",
          "data\\image003-1.tif",
          "data\\image003-1.tif",
          "data\\image003-1.tif",
          "data\\image003-1.tif",
          "data\\image003-1.tif",
          "data\\image003-1.tif",
          "data\\image003-1.tif",
          "data\\image003-1.tif",
          "data\\image003-1.tif",
          "data\\image003-1.tif",
          "data\\image003-1.tif",
          "data\\image003-1.tif",
          "data\\image003-1.tif",
          "data\\image003-1.tif",
          "data\\image003-1.tif",
          "data\\image003-1.tif",
          "data\\image003-1.tif",
          "data\\image003-1.tif",
          "data\\image003-1.tif",
          "data\\image003-1.tif",
          "data\\image003-1.tif",
          "data\\image003-1.tif",
          "data\\image003-1.tif",
          "data\\image003-1.tif",
          "data\\image003-1.tif",
          "data\\image003-1.tif",
          "data\\image003-1.tif",
          "data\\image003-1.tif",
          "data\\image003-1.tif",
          "data\\image003-1.tif",
          "data\\image003-1.tif",
          "data\\image003-1.tif",
          "data\\image003-1.tif",
          "data\\image003-1.tif",
          "data\\image003-1.tif",
          "data\\image003-1.tif",
          "data\\image003-1.tif",
          "data\\image003-1.tif",
          "data\\image003-1.tif",
          "data\\image003-1.tif",
          "data\\image003-1.tif",
          "data\\image003-1.tif",
          "data\\image003-1.tif",
          "data\\image003-1.tif",
          "data\\image003-1.tif",
          "data\\image003-1.tif",
          "data\\image003-1.tif",
          "data\\image003-1.tif",
          "data\\image003-1.tif",
          "data\\image003-1.tif",
          "data\\image003-1.tif",
          "data\\image003-1.tif",
          "data\\image003-1.tif",
          "data\\image003-1.tif",
          "data\\image003-1.tif",
          "data\\image003-1.tif",
          "data\\image003-1.tif",
          "data\\image003-1.tif",
          "data\\image004-1.tif",
          "data\\image004-1.tif",
          "data\\image004-1.tif",
          "data\\image004-1.tif",
          "data\\image004-1.tif",
          "data\\image004-1.tif",
          "data\\image004-1.tif",
          "data\\image004-1.tif",
          "data\\image004-1.tif",
          "data\\image004-1.tif",
          "data\\image004-1.tif",
          "data\\image004-1.tif",
          "data\\image004-1.tif",
          "data\\image004-1.tif",
          "data\\image004-1.tif",
          "data\\image004-1.tif",
          "data\\image004-1.tif",
          "data\\image004-1.tif",
          "data\\image004-1.tif",
          "data\\image004-1.tif",
          "data\\image004-1.tif",
          "data\\image004-1.tif",
          "data\\image004-1.tif",
          "data\\image004-1.tif",
          "data\\image004-1.tif",
          "data\\image004-1.tif",
          "data\\image004-1.tif",
          "data\\image004-1.tif",
          "data\\image004-1.tif",
          "data\\image004-1.tif",
          "data\\image004-1.tif",
          "data\\image004-1.tif",
          "data\\image004-1.tif",
          "data\\image004-1.tif",
          "data\\image004-1.tif",
          "data\\image004-1.tif",
          "data\\image004-1.tif",
          "data\\image004-1.tif",
          "data\\image004-1.tif",
          "data\\image004-1.tif",
          "data\\image004-1.tif",
          "data\\image004-1.tif",
          "data\\image004-1.tif",
          "data\\image004-1.tif",
          "data\\image004-1.tif",
          "data\\image004-1.tif",
          "data\\image004-1.tif",
          "data\\image004-1.tif",
          "data\\image004-1.tif",
          "data\\image004-1.tif",
          "data\\image004-1.tif",
          "data\\image004-1.tif",
          "data\\image004-1.tif",
          "data\\image004-1.tif",
          "data\\image004-1.tif",
          "data\\image004-1.tif",
          "data\\image004-1.tif",
          "data\\image004-1.tif",
          "data\\image004-1.tif",
          "data\\image004-1.tif",
          "data\\image004-1.tif",
          "data\\image004-1.tif",
          "data\\image004-1.tif",
          "data\\image004-1.tif",
          "data\\image004-1.tif",
          "data\\image004-1.tif",
          "data\\image004-1.tif",
          "data\\image004-1.tif",
          "data\\image004-1.tif",
          "data\\image004-1.tif",
          "data\\image004-1.tif",
          "data\\image004-1.tif",
          "data\\image004-1.tif",
          "data\\image004-1.tif",
          "data\\image004-1.tif",
          "data\\image004-1.tif",
          "data\\image004-1.tif",
          "data\\image004-1.tif",
          "data\\image004-1.tif",
          "data\\image004-1.tif",
          "data\\image004-1.tif",
          "data\\image004-1.tif",
          "data\\image005-1.tif",
          "data\\image005-1.tif",
          "data\\image005-1.tif",
          "data\\image005-1.tif",
          "data\\image005-1.tif",
          "data\\image005-1.tif",
          "data\\image005-1.tif",
          "data\\image005-1.tif",
          "data\\image005-1.tif",
          "data\\image005-1.tif",
          "data\\image005-1.tif",
          "data\\image005-1.tif",
          "data\\image005-1.tif",
          "data\\image005-1.tif",
          "data\\image005-1.tif",
          "data\\image005-1.tif",
          "data\\image005-1.tif",
          "data\\image005-1.tif",
          "data\\image005-1.tif",
          "data\\image005-1.tif",
          "data\\image005-1.tif",
          "data\\image005-1.tif",
          "data\\image005-1.tif",
          "data\\image005-1.tif",
          "data\\image005-1.tif",
          "data\\image005-1.tif",
          "data\\image005-1.tif",
          "data\\image005-1.tif",
          "data\\image005-1.tif",
          "data\\image005-1.tif",
          "data\\image005-1.tif",
          "data\\image005-1.tif",
          "data\\image005-1.tif",
          "data\\image005-1.tif",
          "data\\image005-1.tif",
          "data\\image005-1.tif",
          "data\\image005-1.tif",
          "data\\image005-1.tif",
          "data\\image005-1.tif",
          "data\\image005-1.tif",
          "data\\image005-1.tif",
          "data\\image005-1.tif",
          "data\\image005-1.tif",
          "data\\image005-1.tif",
          "data\\image005-1.tif",
          "data\\image005-1.tif",
          "data\\image005-1.tif",
          "data\\image005-1.tif",
          "data\\image005-1.tif",
          "data\\image005-1.tif",
          "data\\image005-1.tif",
          "data\\image005-1.tif",
          "data\\image005-1.tif",
          "data\\image005-1.tif",
          "data\\image005-1.tif",
          "data\\image005-1.tif",
          "data\\image005-1.tif",
          "data\\image005-1.tif",
          "data\\image005-1.tif",
          "data\\image005-1.tif",
          "data\\image005-1.tif",
          "data\\image005-1.tif",
          "data\\image005-1.tif",
          "data\\image005-1.tif",
          "data\\image005-1.tif",
          "data\\image005-1.tif",
          "data\\image005-1.tif",
          "data\\image005-1.tif",
          "data\\image005-1.tif",
          "data\\image005-1.tif",
          "data\\image005-1.tif",
          "data\\image005-1.tif",
          "data\\image005-1.tif",
          "data\\image005-1.tif",
          "data\\image005-1.tif",
          "data\\image005-1.tif",
          "data\\image005-1.tif",
          "data\\image005-1.tif",
          "data\\image005-1.tif",
          "data\\image005-1.tif",
          "data\\image005-1.tif",
          "data\\image005-1.tif",
          "data\\image005-1.tif",
          "data\\image005-1.tif",
          "data\\image005-1.tif",
          "data\\image005-1.tif",
          "data\\image005-1.tif",
          "data\\image005-1.tif",
          "data\\image006-1.tif",
          "data\\image006-1.tif",
          "data\\image006-1.tif",
          "data\\image006-1.tif",
          "data\\image006-1.tif",
          "data\\image006-1.tif",
          "data\\image006-1.tif",
          "data\\image006-1.tif",
          "data\\image006-1.tif",
          "data\\image006-1.tif",
          "data\\image006-1.tif",
          "data\\image006-1.tif",
          "data\\image006-1.tif",
          "data\\image006-1.tif",
          "data\\image006-1.tif",
          "data\\image006-1.tif",
          "data\\image006-1.tif",
          "data\\image006-1.tif",
          "data\\image006-1.tif",
          "data\\image006-1.tif",
          "data\\image006-1.tif",
          "data\\image006-1.tif",
          "data\\image006-1.tif",
          "data\\image006-1.tif",
          "data\\image006-1.tif",
          "data\\image006-1.tif",
          "data\\image006-1.tif",
          "data\\image006-1.tif",
          "data\\image006-1.tif",
          "data\\image006-1.tif",
          "data\\image006-1.tif",
          "data\\image006-1.tif",
          "data\\image006-1.tif",
          "data\\image006-1.tif",
          "data\\image006-1.tif",
          "data\\image006-1.tif",
          "data\\image006-1.tif",
          "data\\image006-1.tif",
          "data\\image006-1.tif",
          "data\\image006-1.tif",
          "data\\image006-1.tif",
          "data\\image006-1.tif",
          "data\\image006-1.tif",
          "data\\image006-1.tif",
          "data\\image006-1.tif",
          "data\\image006-1.tif",
          "data\\image006-1.tif",
          "data\\image006-1.tif",
          "data\\image006-1.tif",
          "data\\image006-1.tif",
          "data\\image006-1.tif",
          "data\\image006-1.tif",
          "data\\image006-1.tif",
          "data\\image006-1.tif",
          "data\\image006-1.tif",
          "data\\image006-1.tif",
          "data\\image006-1.tif",
          "data\\image006-1.tif",
          "data\\image006-1.tif",
          "data\\image006-1.tif",
          "data\\image006-1.tif",
          "data\\image006-1.tif",
          "data\\image006-1.tif",
          "data\\image006-1.tif",
          "data\\image006-1.tif",
          "data\\image006-1.tif",
          "data\\image006-1.tif",
          "data\\image006-1.tif",
          "data\\image006-1.tif",
          "data\\image006-1.tif",
          "data\\image006-1.tif",
          "data\\image006-1.tif",
          "data\\image006-1.tif",
          "data\\image006-1.tif",
          "data\\image006-1.tif",
          "data\\image006-1.tif",
          "data\\image006-1.tif",
          "data\\image006-1.tif",
          "data\\image006-1.tif",
          "data\\image006-1.tif",
          "data\\image006-1.tif",
          "data\\image006-1.tif",
          "data\\image006-1.tif",
          "data\\image006-1.tif",
          "data\\image007-1.tif",
          "data\\image007-1.tif",
          "data\\image007-1.tif",
          "data\\image007-1.tif",
          "data\\image007-1.tif",
          "data\\image007-1.tif",
          "data\\image007-1.tif",
          "data\\image007-1.tif",
          "data\\image007-1.tif",
          "data\\image007-1.tif",
          "data\\image007-1.tif",
          "data\\image007-1.tif",
          "data\\image007-1.tif",
          "data\\image007-1.tif",
          "data\\image007-1.tif",
          "data\\image007-1.tif",
          "data\\image007-1.tif",
          "data\\image007-1.tif",
          "data\\image007-1.tif",
          "data\\image007-1.tif",
          "data\\image007-1.tif",
          "data\\image007-1.tif",
          "data\\image007-1.tif",
          "data\\image007-1.tif",
          "data\\image007-1.tif",
          "data\\image007-1.tif",
          "data\\image007-1.tif",
          "data\\image007-1.tif",
          "data\\image007-1.tif",
          "data\\image007-1.tif",
          "data\\image007-1.tif",
          "data\\image007-1.tif",
          "data\\image007-1.tif",
          "data\\image007-1.tif",
          "data\\image007-1.tif",
          "data\\image007-1.tif",
          "data\\image007-1.tif",
          "data\\image007-1.tif",
          "data\\image007-1.tif",
          "data\\image007-1.tif",
          "data\\image007-1.tif",
          "data\\image007-1.tif",
          "data\\image007-1.tif",
          "data\\image007-1.tif",
          "data\\image007-1.tif",
          "data\\image007-1.tif",
          "data\\image007-1.tif",
          "data\\image007-1.tif",
          "data\\image007-1.tif",
          "data\\image007-1.tif",
          "data\\image007-1.tif",
          "data\\image007-1.tif",
          "data\\image007-1.tif",
          "data\\image007-1.tif",
          "data\\image007-1.tif",
          "data\\image007-1.tif",
          "data\\image007-1.tif",
          "data\\image007-1.tif",
          "data\\image007-1.tif",
          "data\\image007-1.tif",
          "data\\image007-1.tif",
          "data\\image007-1.tif",
          "data\\image007-1.tif",
          "data\\image007-1.tif",
          "data\\image007-1.tif",
          "data\\image007-1.tif",
          "data\\image007-1.tif",
          "data\\image007-1.tif",
          "data\\image007-1.tif",
          "data\\image007-1.tif",
          "data\\image007-1.tif",
          "data\\image007-1.tif",
          "data\\image009-1.tif",
          "data\\image009-1.tif",
          "data\\image009-1.tif",
          "data\\image009-1.tif",
          "data\\image009-1.tif",
          "data\\image009-1.tif",
          "data\\image009-1.tif",
          "data\\image009-1.tif",
          "data\\image009-1.tif",
          "data\\image009-1.tif",
          "data\\image009-1.tif",
          "data\\image009-1.tif",
          "data\\image009-1.tif",
          "data\\image009-1.tif",
          "data\\image009-1.tif",
          "data\\image009-1.tif",
          "data\\image009-1.tif",
          "data\\image009-1.tif",
          "data\\image009-1.tif",
          "data\\image009-1.tif",
          "data\\image009-1.tif",
          "data\\image009-1.tif",
          "data\\image009-1.tif",
          "data\\image009-1.tif",
          "data\\image009-1.tif",
          "data\\image009-1.tif",
          "data\\image009-1.tif",
          "data\\image009-1.tif",
          "data\\image009-1.tif",
          "data\\image009-1.tif",
          "data\\image009-1.tif",
          "data\\image009-1.tif",
          "data\\image009-1.tif",
          "data\\image009-1.tif",
          "data\\image009-1.tif",
          "data\\image009-1.tif",
          "data\\image009-1.tif",
          "data\\image009-1.tif",
          "data\\image009-1.tif",
          "data\\image009-1.tif",
          "data\\image009-1.tif",
          "data\\image009-1.tif",
          "data\\image009-1.tif",
          "data\\image009-1.tif",
          "data\\image009-1.tif",
          "data\\image009-1.tif",
          "data\\image009-1.tif",
          "data\\image009-1.tif",
          "data\\image009-1.tif",
          "data\\image009-1.tif",
          "data\\image009-1.tif",
          "data\\image009-1.tif",
          "data\\image009-1.tif",
          "data\\image009-1.tif",
          "data\\image009-1.tif",
          "data\\image009-1.tif",
          "data\\image009-1.tif",
          "data\\image009-1.tif",
          "data\\image009-1.tif",
          "data\\image009-1.tif",
          "data\\image009-1.tif",
          "data\\image009-1.tif",
          "data\\image009-1.tif",
          "data\\image009-1.tif",
          "data\\image009-1.tif",
          "data\\image009-1.tif",
          "data\\image009-1.tif",
          "data\\image009-1.tif",
          "data\\image009-1.tif",
          "data\\image009-1.tif",
          "data\\image009-1.tif",
          "data\\image009-1.tif",
          "data\\image009-1.tif",
          "data\\image009-1.tif",
          "data\\image009-1.tif",
          "data\\image009-1.tif",
          "data\\image009-1.tif",
          "data\\image009-1.tif",
          "data\\image010-1.tif",
          "data\\image010-1.tif",
          "data\\image010-1.tif",
          "data\\image010-1.tif",
          "data\\image010-1.tif",
          "data\\image010-1.tif",
          "data\\image010-1.tif",
          "data\\image010-1.tif",
          "data\\image010-1.tif",
          "data\\image010-1.tif",
          "data\\image010-1.tif",
          "data\\image010-1.tif",
          "data\\image010-1.tif",
          "data\\image010-1.tif",
          "data\\image010-1.tif",
          "data\\image010-1.tif",
          "data\\image010-1.tif",
          "data\\image010-1.tif",
          "data\\image010-1.tif",
          "data\\image010-1.tif",
          "data\\image010-1.tif",
          "data\\image010-1.tif",
          "data\\image010-1.tif",
          "data\\image010-1.tif",
          "data\\image010-1.tif",
          "data\\image010-1.tif",
          "data\\image010-1.tif",
          "data\\image010-1.tif",
          "data\\image010-1.tif",
          "data\\image010-1.tif",
          "data\\image010-1.tif",
          "data\\image010-1.tif",
          "data\\image010-1.tif",
          "data\\image010-1.tif",
          "data\\image010-1.tif",
          "data\\image010-1.tif",
          "data\\image010-1.tif",
          "data\\image010-1.tif",
          "data\\image010-1.tif",
          "data\\image010-1.tif",
          "data\\image010-1.tif",
          "data\\image010-1.tif",
          "data\\image010-1.tif",
          "data\\image010-1.tif",
          "data\\image010-1.tif",
          "data\\image010-1.tif",
          "data\\image010-1.tif",
          "data\\image010-1.tif",
          "data\\image010-1.tif",
          "data\\image010-1.tif",
          "data\\image010-1.tif",
          "data\\image010-1.tif",
          "data\\image010-1.tif",
          "data\\image010-1.tif",
          "data\\image010-1.tif",
          "data\\image010-1.tif",
          "data\\image010-1.tif",
          "data\\image010-1.tif",
          "data\\image010-1.tif",
          "data\\image010-1.tif",
          "data\\image010-1.tif",
          "data\\image010-1.tif",
          "data\\image010-1.tif",
          "data\\image010-1.tif",
          "data\\image010-1.tif",
          "data\\image010-1.tif",
          "data\\image010-1.tif",
          "data\\image010-1.tif",
          "data\\image010-1.tif",
          "data\\image010-1.tif",
          "data\\image010-1.tif",
          "data\\image010-1.tif",
          "data\\image010-1.tif",
          "data\\image010-1.tif",
          "data\\image010-1.tif",
          "data\\image010-1.tif",
          "data\\image010-1.tif",
          "data\\image010-1.tif",
          "data\\image010-1.tif",
          "data\\image010-1.tif",
          "data\\image010-1.tif",
          "data\\image010-1.tif",
          "data\\image010-1.tif",
          "data\\image010-1.tif",
          "data\\image011-1.tif",
          "data\\image011-1.tif",
          "data\\image011-1.tif",
          "data\\image011-1.tif",
          "data\\image011-1.tif",
          "data\\image011-1.tif",
          "data\\image011-1.tif",
          "data\\image011-1.tif",
          "data\\image011-1.tif",
          "data\\image011-1.tif",
          "data\\image011-1.tif",
          "data\\image011-1.tif",
          "data\\image011-1.tif",
          "data\\image011-1.tif",
          "data\\image011-1.tif",
          "data\\image011-1.tif",
          "data\\image011-1.tif",
          "data\\image011-1.tif",
          "data\\image011-1.tif",
          "data\\image011-1.tif",
          "data\\image011-1.tif",
          "data\\image011-1.tif",
          "data\\image011-1.tif",
          "data\\image011-1.tif",
          "data\\image011-1.tif",
          "data\\image011-1.tif",
          "data\\image011-1.tif",
          "data\\image011-1.tif",
          "data\\image011-1.tif",
          "data\\image011-1.tif",
          "data\\image011-1.tif",
          "data\\image011-1.tif",
          "data\\image011-1.tif",
          "data\\image011-1.tif",
          "data\\image011-1.tif",
          "data\\image011-1.tif",
          "data\\image011-1.tif",
          "data\\image011-1.tif",
          "data\\image011-1.tif",
          "data\\image011-1.tif",
          "data\\image011-1.tif",
          "data\\image011-1.tif",
          "data\\image011-1.tif",
          "data\\image011-1.tif",
          "data\\image011-1.tif",
          "data\\image011-1.tif",
          "data\\image011-1.tif",
          "data\\image011-1.tif",
          "data\\image011-1.tif",
          "data\\image011-1.tif",
          "data\\image011-1.tif",
          "data\\image011-1.tif",
          "data\\image011-1.tif",
          "data\\image011-1.tif",
          "data\\image011-1.tif",
          "data\\image011-1.tif",
          "data\\image011-1.tif",
          "data\\image011-1.tif",
          "data\\image011-1.tif",
          "data\\image011-1.tif",
          "data\\image011-1.tif",
          "data\\image011-1.tif",
          "data\\image011-1.tif",
          "data\\image011-1.tif",
          "data\\image011-1.tif",
          "data\\image011-1.tif",
          "data\\image011-1.tif",
          "data\\image011-1.tif",
          "data\\image011-1.tif",
          "data\\image011-1.tif",
          "data\\image011-1.tif",
          "data\\image011-1.tif",
          "data\\image011-1.tif",
          "data\\image011-1.tif",
          "data\\image011-1.tif",
          "data\\image011-1.tif",
          "data\\image011-1.tif",
          "data\\image011-1.tif",
          "data\\image013-1.tif",
          "data\\image013-1.tif",
          "data\\image013-1.tif",
          "data\\image013-1.tif",
          "data\\image013-1.tif",
          "data\\image013-1.tif",
          "data\\image013-1.tif",
          "data\\image013-1.tif",
          "data\\image013-1.tif",
          "data\\image013-1.tif",
          "data\\image013-1.tif",
          "data\\image013-1.tif",
          "data\\image013-1.tif",
          "data\\image013-1.tif",
          "data\\image013-1.tif",
          "data\\image013-1.tif",
          "data\\image013-1.tif",
          "data\\image013-1.tif",
          "data\\image013-1.tif",
          "data\\image013-1.tif",
          "data\\image013-1.tif",
          "data\\image013-1.tif",
          "data\\image013-1.tif",
          "data\\image013-1.tif",
          "data\\image013-1.tif",
          "data\\image013-1.tif",
          "data\\image013-1.tif",
          "data\\image013-1.tif",
          "data\\image013-1.tif",
          "data\\image013-1.tif",
          "data\\image013-1.tif",
          "data\\image013-1.tif",
          "data\\image013-1.tif",
          "data\\image013-1.tif",
          "data\\image013-1.tif",
          "data\\image013-1.tif",
          "data\\image013-1.tif",
          "data\\image013-1.tif",
          "data\\image013-1.tif",
          "data\\image013-1.tif",
          "data\\image013-1.tif",
          "data\\image013-1.tif",
          "data\\image013-1.tif",
          "data\\image013-1.tif",
          "data\\image013-1.tif",
          "data\\image013-1.tif",
          "data\\image013-1.tif",
          "data\\image013-1.tif",
          "data\\image013-1.tif",
          "data\\image013-1.tif",
          "data\\image013-1.tif",
          "data\\image013-1.tif",
          "data\\image013-1.tif",
          "data\\image013-1.tif",
          "data\\image013-1.tif",
          "data\\image013-1.tif",
          "data\\image013-1.tif",
          "data\\image013-1.tif",
          "data\\image013-1.tif",
          "data\\image013-1.tif",
          "data\\image013-1.tif",
          "data\\image013-1.tif",
          "data\\image013-1.tif",
          "data\\image013-1.tif",
          "data\\image013-1.tif",
          "data\\image013-1.tif",
          "data\\image013-1.tif",
          "data\\image013-1.tif",
          "data\\image013-1.tif",
          "data\\image013-1.tif",
          "data\\image013-1.tif",
          "data\\image013-1.tif",
          "data\\image013-1.tif",
          "data\\image013-1.tif",
          "data\\image014-1.tif",
          "data\\image014-1.tif",
          "data\\image014-1.tif",
          "data\\image014-1.tif",
          "data\\image014-1.tif",
          "data\\image014-1.tif",
          "data\\image014-1.tif",
          "data\\image014-1.tif",
          "data\\image014-1.tif",
          "data\\image014-1.tif",
          "data\\image014-1.tif",
          "data\\image014-1.tif",
          "data\\image014-1.tif",
          "data\\image014-1.tif",
          "data\\image014-1.tif",
          "data\\image014-1.tif",
          "data\\image014-1.tif",
          "data\\image014-1.tif",
          "data\\image014-1.tif",
          "data\\image014-1.tif",
          "data\\image014-1.tif",
          "data\\image014-1.tif",
          "data\\image014-1.tif",
          "data\\image014-1.tif",
          "data\\image014-1.tif",
          "data\\image014-1.tif",
          "data\\image014-1.tif",
          "data\\image014-1.tif",
          "data\\image014-1.tif",
          "data\\image014-1.tif",
          "data\\image014-1.tif",
          "data\\image014-1.tif",
          "data\\image014-1.tif",
          "data\\image014-1.tif",
          "data\\image014-1.tif",
          "data\\image014-1.tif",
          "data\\image014-1.tif",
          "data\\image014-1.tif",
          "data\\image014-1.tif",
          "data\\image014-1.tif",
          "data\\image014-1.tif",
          "data\\image014-1.tif",
          "data\\image014-1.tif",
          "data\\image014-1.tif",
          "data\\image014-1.tif",
          "data\\image014-1.tif",
          "data\\image014-1.tif",
          "data\\image014-1.tif",
          "data\\image014-1.tif",
          "data\\image014-1.tif",
          "data\\image014-1.tif",
          "data\\image014-1.tif",
          "data\\image014-1.tif",
          "data\\image014-1.tif",
          "data\\image014-1.tif",
          "data\\image014-1.tif",
          "data\\image014-1.tif",
          "data\\image014-1.tif",
          "data\\image014-1.tif",
          "data\\image014-1.tif",
          "data\\image014-1.tif",
          "data\\image014-1.tif",
          "data\\image014-1.tif",
          "data\\image014-1.tif",
          "data\\image014-1.tif",
          "data\\image014-1.tif",
          "data\\image014-1.tif",
          "data\\image014-1.tif",
          "data\\image014-1.tif",
          "data\\image014-1.tif",
          "data\\image014-1.tif",
          "data\\image014-1.tif",
          "data\\image014-1.tif",
          "data\\image014-1.tif",
          "data\\image014-1.tif",
          "data\\image014-1.tif",
          "data\\image014-1.tif",
          "data\\image014-1.tif",
          "data\\image014-1.tif",
          "data\\image014-1.tif",
          "data\\image014-1.tif",
          "data\\image014-1.tif",
          "data\\image014-1.tif",
          "data\\image014-1.tif",
          "data\\image015-1.tif",
          "data\\image015-1.tif",
          "data\\image015-1.tif",
          "data\\image015-1.tif",
          "data\\image015-1.tif",
          "data\\image015-1.tif",
          "data\\image015-1.tif",
          "data\\image015-1.tif",
          "data\\image015-1.tif",
          "data\\image015-1.tif",
          "data\\image015-1.tif",
          "data\\image015-1.tif",
          "data\\image015-1.tif",
          "data\\image015-1.tif",
          "data\\image015-1.tif",
          "data\\image015-1.tif",
          "data\\image015-1.tif",
          "data\\image015-1.tif",
          "data\\image015-1.tif",
          "data\\image015-1.tif",
          "data\\image015-1.tif",
          "data\\image015-1.tif",
          "data\\image015-1.tif",
          "data\\image015-1.tif",
          "data\\image015-1.tif",
          "data\\image015-1.tif",
          "data\\image015-1.tif",
          "data\\image015-1.tif",
          "data\\image015-1.tif",
          "data\\image015-1.tif",
          "data\\image015-1.tif",
          "data\\image015-1.tif",
          "data\\image015-1.tif",
          "data\\image015-1.tif",
          "data\\image015-1.tif",
          "data\\image015-1.tif",
          "data\\image015-1.tif",
          "data\\image015-1.tif",
          "data\\image015-1.tif",
          "data\\image015-1.tif",
          "data\\image015-1.tif",
          "data\\image015-1.tif",
          "data\\image015-1.tif",
          "data\\image015-1.tif",
          "data\\image015-1.tif",
          "data\\image015-1.tif",
          "data\\image015-1.tif",
          "data\\image015-1.tif",
          "data\\image015-1.tif",
          "data\\image015-1.tif",
          "data\\image015-1.tif",
          "data\\image015-1.tif",
          "data\\image015-1.tif",
          "data\\image015-1.tif",
          "data\\image015-1.tif",
          "data\\image015-1.tif",
          "data\\image015-1.tif",
          "data\\image015-1.tif",
          "data\\image015-1.tif",
          "data\\image015-1.tif",
          "data\\image015-1.tif",
          "data\\image015-1.tif",
          "data\\image015-1.tif",
          "data\\image015-1.tif",
          "data\\image015-1.tif",
          "data\\image015-1.tif",
          "data\\image015-1.tif",
          "data\\image015-1.tif",
          "data\\image015-1.tif",
          "data\\image015-1.tif",
          "data\\image015-1.tif",
          "data\\image015-1.tif",
          "data\\image015-1.tif",
          "data\\image015-1.tif",
          "data\\image015-1.tif",
          "data\\image015-1.tif",
          "data\\image015-1.tif",
          "data\\image015-1.tif",
          "data\\image016-1.tif",
          "data\\image016-1.tif",
          "data\\image016-1.tif",
          "data\\image016-1.tif",
          "data\\image016-1.tif",
          "data\\image016-1.tif",
          "data\\image016-1.tif",
          "data\\image016-1.tif",
          "data\\image016-1.tif",
          "data\\image016-1.tif",
          "data\\image016-1.tif",
          "data\\image016-1.tif",
          "data\\image016-1.tif",
          "data\\image016-1.tif",
          "data\\image016-1.tif",
          "data\\image016-1.tif",
          "data\\image016-1.tif",
          "data\\image016-1.tif",
          "data\\image016-1.tif",
          "data\\image016-1.tif",
          "data\\image016-1.tif",
          "data\\image016-1.tif",
          "data\\image016-1.tif",
          "data\\image016-1.tif",
          "data\\image016-1.tif",
          "data\\image016-1.tif",
          "data\\image016-1.tif",
          "data\\image016-1.tif",
          "data\\image016-1.tif",
          "data\\image016-1.tif",
          "data\\image016-1.tif",
          "data\\image016-1.tif",
          "data\\image016-1.tif",
          "data\\image016-1.tif",
          "data\\image016-1.tif",
          "data\\image016-1.tif",
          "data\\image016-1.tif",
          "data\\image016-1.tif",
          "data\\image016-1.tif",
          "data\\image016-1.tif",
          "data\\image016-1.tif",
          "data\\image016-1.tif",
          "data\\image016-1.tif",
          "data\\image016-1.tif",
          "data\\image016-1.tif",
          "data\\image016-1.tif",
          "data\\image016-1.tif",
          "data\\image016-1.tif",
          "data\\image016-1.tif",
          "data\\image016-1.tif",
          "data\\image016-1.tif",
          "data\\image016-1.tif",
          "data\\image016-1.tif",
          "data\\image016-1.tif",
          "data\\image016-1.tif",
          "data\\image016-1.tif",
          "data\\image016-1.tif",
          "data\\image016-1.tif",
          "data\\image016-1.tif",
          "data\\image016-1.tif",
          "data\\image016-1.tif",
          "data\\image016-1.tif",
          "data\\image016-1.tif",
          "data\\image016-1.tif",
          "data\\image016-1.tif",
          "data\\image016-1.tif",
          "data\\image016-1.tif",
          "data\\image016-1.tif",
          "data\\image016-1.tif",
          "data\\image016-1.tif",
          "data\\image016-1.tif",
          "data\\image016-1.tif",
          "data\\image016-1.tif",
          "data\\image016-1.tif",
          "data\\image016-1.tif",
          "data\\image016-1.tif",
          "data\\image016-1.tif",
          "data\\image016-1.tif",
          "data\\image016-1.tif",
          "data\\image016-1.tif",
          "data\\image016-1.tif",
          "data\\image016-1.tif",
          "data\\image016-1.tif",
          "data\\image016-1.tif",
          "data\\image016-1.tif",
          "data\\image016-1.tif",
          "data\\image017-1.tif",
          "data\\image017-1.tif",
          "data\\image017-1.tif",
          "data\\image017-1.tif",
          "data\\image017-1.tif",
          "data\\image017-1.tif",
          "data\\image017-1.tif",
          "data\\image017-1.tif",
          "data\\image017-1.tif",
          "data\\image017-1.tif",
          "data\\image017-1.tif",
          "data\\image017-1.tif",
          "data\\image017-1.tif",
          "data\\image017-1.tif",
          "data\\image017-1.tif",
          "data\\image017-1.tif",
          "data\\image017-1.tif",
          "data\\image017-1.tif",
          "data\\image017-1.tif",
          "data\\image017-1.tif",
          "data\\image017-1.tif",
          "data\\image017-1.tif",
          "data\\image017-1.tif",
          "data\\image017-1.tif",
          "data\\image017-1.tif",
          "data\\image017-1.tif",
          "data\\image017-1.tif",
          "data\\image017-1.tif",
          "data\\image017-1.tif",
          "data\\image017-1.tif",
          "data\\image017-1.tif",
          "data\\image017-1.tif",
          "data\\image017-1.tif",
          "data\\image017-1.tif",
          "data\\image017-1.tif",
          "data\\image017-1.tif",
          "data\\image017-1.tif",
          "data\\image017-1.tif",
          "data\\image017-1.tif",
          "data\\image017-1.tif",
          "data\\image017-1.tif",
          "data\\image017-1.tif",
          "data\\image017-1.tif",
          "data\\image017-1.tif",
          "data\\image017-1.tif",
          "data\\image017-1.tif",
          "data\\image017-1.tif",
          "data\\image017-1.tif",
          "data\\image017-1.tif",
          "data\\image017-1.tif",
          "data\\image017-1.tif",
          "data\\image017-1.tif",
          "data\\image017-1.tif",
          "data\\image017-1.tif",
          "data\\image017-1.tif",
          "data\\image017-1.tif",
          "data\\image017-1.tif",
          "data\\image017-1.tif",
          "data\\image017-1.tif",
          "data\\image017-1.tif",
          "data\\image017-1.tif",
          "data\\image017-1.tif",
          "data\\image017-1.tif",
          "data\\image017-1.tif",
          "data\\image017-1.tif",
          "data\\image017-1.tif",
          "data\\image017-1.tif",
          "data\\image017-1.tif",
          "data\\image017-1.tif",
          "data\\image017-1.tif",
          "data\\image017-1.tif",
          "data\\image017-1.tif",
          "data\\image017-1.tif",
          "data\\image017-1.tif",
          "data\\image017-1.tif",
          "data\\image017-1.tif",
          "data\\image017-1.tif",
          "data\\image017-1.tif",
          "data\\image017-1.tif",
          "data\\image017-1.tif",
          "data\\image017-1.tif",
          "data\\image017-1.tif",
          "data\\image017-1.tif",
          "data\\image017-1.tif",
          "data\\image017-1.tif",
          "data\\image017-1.tif",
          "data\\image018-1.tif",
          "data\\image018-1.tif",
          "data\\image018-1.tif",
          "data\\image018-1.tif",
          "data\\image018-1.tif",
          "data\\image018-1.tif",
          "data\\image018-1.tif",
          "data\\image018-1.tif",
          "data\\image018-1.tif",
          "data\\image018-1.tif",
          "data\\image018-1.tif",
          "data\\image018-1.tif",
          "data\\image018-1.tif",
          "data\\image018-1.tif",
          "data\\image018-1.tif",
          "data\\image018-1.tif",
          "data\\image018-1.tif",
          "data\\image018-1.tif",
          "data\\image018-1.tif",
          "data\\image018-1.tif",
          "data\\image018-1.tif",
          "data\\image018-1.tif",
          "data\\image018-1.tif",
          "data\\image018-1.tif",
          "data\\image018-1.tif",
          "data\\image018-1.tif",
          "data\\image018-1.tif",
          "data\\image018-1.tif",
          "data\\image018-1.tif",
          "data\\image018-1.tif",
          "data\\image018-1.tif",
          "data\\image018-1.tif",
          "data\\image018-1.tif",
          "data\\image018-1.tif",
          "data\\image018-1.tif",
          "data\\image018-1.tif",
          "data\\image018-1.tif",
          "data\\image018-1.tif",
          "data\\image018-1.tif",
          "data\\image018-1.tif",
          "data\\image018-1.tif",
          "data\\image018-1.tif",
          "data\\image018-1.tif",
          "data\\image018-1.tif",
          "data\\image018-1.tif",
          "data\\image018-1.tif",
          "data\\image018-1.tif",
          "data\\image018-1.tif",
          "data\\image018-1.tif",
          "data\\image018-1.tif",
          "data\\image018-1.tif",
          "data\\image018-1.tif",
          "data\\image018-1.tif",
          "data\\image018-1.tif",
          "data\\image018-1.tif",
          "data\\image018-1.tif",
          "data\\image018-1.tif",
          "data\\image018-1.tif",
          "data\\image018-1.tif",
          "data\\image018-1.tif",
          "data\\image018-1.tif",
          "data\\image018-1.tif",
          "data\\image018-1.tif",
          "data\\image018-1.tif",
          "data\\image018-1.tif",
          "data\\image018-1.tif",
          "data\\image018-1.tif",
          "data\\image018-1.tif",
          "data\\image018-1.tif",
          "data\\image018-1.tif",
          "data\\image018-1.tif",
          "data\\image018-1.tif",
          "data\\image018-1.tif",
          "data\\image018-1.tif",
          "data\\image018-1.tif",
          "data\\image018-1.tif",
          "data\\image018-1.tif",
          "data\\image018-1.tif",
          "data\\image018-1.tif",
          "data\\image018-1.tif",
          "data\\image018-1.tif",
          "data\\image018-1.tif",
          "data\\image018-1.tif",
          "data\\image018-1.tif",
          "data\\image018-1.tif",
          "data\\image018-1.tif",
          "data\\image018-1.tif",
          "data\\image018-1.tif",
          "data\\image018-1.tif",
          "data\\image018-1.tif",
          "data\\image018-1.tif",
          "data\\image018-1.tif",
          "data\\image019-1.tif",
          "data\\image019-1.tif",
          "data\\image019-1.tif",
          "data\\image019-1.tif",
          "data\\image019-1.tif",
          "data\\image019-1.tif",
          "data\\image019-1.tif",
          "data\\image019-1.tif",
          "data\\image019-1.tif",
          "data\\image019-1.tif",
          "data\\image019-1.tif",
          "data\\image019-1.tif",
          "data\\image019-1.tif",
          "data\\image019-1.tif",
          "data\\image019-1.tif",
          "data\\image019-1.tif",
          "data\\image019-1.tif",
          "data\\image019-1.tif",
          "data\\image019-1.tif",
          "data\\image019-1.tif",
          "data\\image019-1.tif",
          "data\\image019-1.tif",
          "data\\image019-1.tif",
          "data\\image019-1.tif",
          "data\\image019-1.tif",
          "data\\image019-1.tif",
          "data\\image019-1.tif",
          "data\\image019-1.tif",
          "data\\image019-1.tif",
          "data\\image019-1.tif",
          "data\\image019-1.tif",
          "data\\image019-1.tif",
          "data\\image019-1.tif",
          "data\\image019-1.tif",
          "data\\image019-1.tif",
          "data\\image019-1.tif",
          "data\\image019-1.tif",
          "data\\image019-1.tif",
          "data\\image019-1.tif",
          "data\\image019-1.tif",
          "data\\image019-1.tif",
          "data\\image019-1.tif",
          "data\\image019-1.tif",
          "data\\image019-1.tif",
          "data\\image019-1.tif",
          "data\\image019-1.tif",
          "data\\image019-1.tif",
          "data\\image019-1.tif",
          "data\\image019-1.tif",
          "data\\image019-1.tif",
          "data\\image019-1.tif",
          "data\\image019-1.tif",
          "data\\image019-1.tif",
          "data\\image019-1.tif",
          "data\\image019-1.tif",
          "data\\image019-1.tif",
          "data\\image019-1.tif",
          "data\\image019-1.tif",
          "data\\image019-1.tif",
          "data\\image019-1.tif",
          "data\\image019-1.tif",
          "data\\image019-1.tif",
          "data\\image019-1.tif",
          "data\\image019-1.tif",
          "data\\image019-1.tif",
          "data\\image019-1.tif",
          "data\\image019-1.tif",
          "data\\image019-1.tif",
          "data\\image019-1.tif",
          "data\\image019-1.tif",
          "data\\image019-1.tif",
          "data\\image019-1.tif",
          "data\\image019-1.tif",
          "data\\image019-1.tif",
          "data\\image019-1.tif",
          "data\\image019-1.tif",
          "data\\image019-1.tif",
          "data\\image019-1.tif",
          "data\\image019-1.tif",
          "data\\image019-1.tif",
          "data\\image019-1.tif",
          "data\\image019-1.tif",
          "data\\image019-1.tif",
          "data\\image019-1.tif",
          "data\\image019-1.tif",
          "data\\image019-1.tif",
          "data\\image019-1.tif",
          "data\\image019-1.tif",
          "data\\image019-1.tif",
          "data\\image019-1.tif",
          "data\\image019-1.tif",
          "data\\image019-1.tif",
          "data\\image019-1.tif",
          "data\\image019-1.tif",
          "data\\rep1_image20-1.tif",
          "data\\rep1_image20-1.tif",
          "data\\rep1_image20-1.tif",
          "data\\rep1_image20-1.tif",
          "data\\rep1_image20-1.tif",
          "data\\rep1_image20-1.tif",
          "data\\rep1_image20-1.tif",
          "data\\rep1_image20-1.tif",
          "data\\rep1_image20-1.tif",
          "data\\rep1_image20-1.tif",
          "data\\rep1_image20-1.tif",
          "data\\rep1_image20-1.tif",
          "data\\rep1_image20-1.tif",
          "data\\rep1_image20-1.tif",
          "data\\rep1_image20-1.tif",
          "data\\rep1_image20-1.tif",
          "data\\rep1_image20-1.tif",
          "data\\rep1_image20-1.tif",
          "data\\rep1_image20-1.tif",
          "data\\rep1_image20-1.tif",
          "data\\rep1_image20-1.tif",
          "data\\rep1_image20-1.tif",
          "data\\rep1_image20-1.tif",
          "data\\rep1_image20-1.tif",
          "data\\rep1_image20-1.tif",
          "data\\rep1_image20-1.tif",
          "data\\rep1_image20-1.tif",
          "data\\rep1_image20-1.tif",
          "data\\rep1_image20-1.tif",
          "data\\rep1_image20-1.tif",
          "data\\rep1_image20-1.tif",
          "data\\rep1_image20-1.tif",
          "data\\rep1_image20-1.tif",
          "data\\rep1_image20-1.tif",
          "data\\rep1_image20-1.tif",
          "data\\rep1_image20-1.tif",
          "data\\rep1_image20-1.tif",
          "data\\rep1_image20-1.tif",
          "data\\rep1_image20-1.tif",
          "data\\rep1_image20-1.tif",
          "data\\rep1_image20-1.tif",
          "data\\rep1_image20-1.tif",
          "data\\rep1_image20-1.tif",
          "data\\rep1_image20-1.tif",
          "data\\rep1_image20-1.tif",
          "data\\rep1_image20-1.tif",
          "data\\rep1_image20-1.tif",
          "data\\rep1_image20-1.tif",
          "data\\rep1_image20-1.tif",
          "data\\rep1_image20-1.tif",
          "data\\rep1_image20-1.tif",
          "data\\rep1_image20-1.tif",
          "data\\rep1_image20-1.tif",
          "data\\rep1_image20-1.tif",
          "data\\rep1_image20-1.tif",
          "data\\rep1_image20-1.tif",
          "data\\rep1_image20-1.tif",
          "data\\rep1_image20-1.tif",
          "data\\rep1_image20-1.tif",
          "data\\rep1_image20-1.tif",
          "data\\rep1_image20-1.tif",
          "data\\rep1_image20-1.tif",
          "data\\rep1_image20-1.tif",
          "data\\rep1_image20-1.tif",
          "data\\rep1_image20-1.tif",
          "data\\rep1_image20-1.tif",
          "data\\rep1_image20-1.tif",
          "data\\rep1_image20-1.tif",
          "data\\rep1_image20-1.tif",
          "data\\rep1_image20-1.tif",
          "data\\rep1_image20-1.tif",
          "data\\rep1_image20-1.tif",
          "data\\rep1_image20-1.tif",
          "data\\rep1_image20-1.tif",
          "data\\rep1_image20-1.tif",
          "data\\rep1_image20-1.tif",
          "data\\rep1_image20-1.tif",
          "data\\rep1_image20-1.tif",
          "data\\rep1_image20-1.tif",
          "data\\rep1_image20-1.tif",
          "data\\rep1_image20-1.tif",
          "data\\rep1_image20-1.tif",
          "data\\rep1_image20-1.tif",
          "data\\rep1_image20-1.tif",
          "data\\rep1_image20-1.tif",
          "data\\rep1_image20-1.tif",
          "data\\rep1_image20-1.tif",
          "data\\rep1_image20-1.tif",
          "data\\rep1_image20-1.tif",
          "data\\rep1_image20-1.tif",
          "data\\rep1_image20-1.tif",
          "data\\rep1_image20-1.tif",
          "data\\rep1_image20-1.tif",
          "data\\rep1_image20-1.tif",
          "data\\rep1_image21-1.tif",
          "data\\rep1_image21-1.tif",
          "data\\rep1_image21-1.tif",
          "data\\rep1_image21-1.tif",
          "data\\rep1_image21-1.tif",
          "data\\rep1_image21-1.tif",
          "data\\rep1_image21-1.tif",
          "data\\rep1_image21-1.tif",
          "data\\rep1_image21-1.tif",
          "data\\rep1_image21-1.tif",
          "data\\rep1_image21-1.tif",
          "data\\rep1_image21-1.tif",
          "data\\rep1_image21-1.tif",
          "data\\rep1_image21-1.tif",
          "data\\rep1_image21-1.tif",
          "data\\rep1_image21-1.tif",
          "data\\rep1_image21-1.tif",
          "data\\rep1_image21-1.tif",
          "data\\rep1_image21-1.tif",
          "data\\rep1_image21-1.tif",
          "data\\rep1_image21-1.tif",
          "data\\rep1_image21-1.tif",
          "data\\rep1_image21-1.tif",
          "data\\rep1_image21-1.tif",
          "data\\rep1_image21-1.tif",
          "data\\rep1_image21-1.tif",
          "data\\rep1_image21-1.tif",
          "data\\rep1_image21-1.tif",
          "data\\rep1_image21-1.tif",
          "data\\rep1_image21-1.tif",
          "data\\rep1_image21-1.tif",
          "data\\rep1_image21-1.tif",
          "data\\rep1_image21-1.tif",
          "data\\rep1_image21-1.tif",
          "data\\rep1_image21-1.tif",
          "data\\rep1_image21-1.tif",
          "data\\rep1_image21-1.tif",
          "data\\rep1_image21-1.tif",
          "data\\rep1_image21-1.tif",
          "data\\rep1_image21-1.tif",
          "data\\rep1_image21-1.tif",
          "data\\rep1_image21-1.tif",
          "data\\rep1_image21-1.tif",
          "data\\rep1_image21-1.tif",
          "data\\rep1_image21-1.tif",
          "data\\rep1_image21-1.tif",
          "data\\rep1_image21-1.tif",
          "data\\rep1_image21-1.tif",
          "data\\rep1_image21-1.tif",
          "data\\rep1_image21-1.tif",
          "data\\rep1_image21-1.tif",
          "data\\rep1_image21-1.tif",
          "data\\rep1_image21-1.tif",
          "data\\rep1_image21-1.tif",
          "data\\rep1_image21-1.tif",
          "data\\rep1_image21-1.tif",
          "data\\rep1_image21-1.tif",
          "data\\rep1_image21-1.tif",
          "data\\rep1_image21-1.tif",
          "data\\rep1_image21-1.tif",
          "data\\rep1_image21-1.tif",
          "data\\rep1_image21-1.tif",
          "data\\rep1_image21-1.tif",
          "data\\rep1_image21-1.tif",
          "data\\rep1_image21-1.tif",
          "data\\rep1_image21-1.tif",
          "data\\rep1_image21-1.tif",
          "data\\rep1_image21-1.tif",
          "data\\rep1_image21-1.tif",
          "data\\rep1_image21-1.tif",
          "data\\rep1_image21-1.tif",
          "data\\rep1_image21-1.tif",
          "data\\rep1_image21-1.tif",
          "data\\rep1_image21-1.tif",
          "data\\rep1_image21-1.tif",
          "data\\rep1_image21-1.tif",
          "data\\rep1_image21-1.tif",
          "data\\rep1_image21-1.tif",
          "data\\rep1_image21-1.tif",
          "data\\rep1_image21-1.tif",
          "data\\rep1_image21-1.tif",
          "data\\rep1_image21-1.tif",
          "data\\rep1_image22-1.tif",
          "data\\rep1_image22-1.tif",
          "data\\rep1_image22-1.tif",
          "data\\rep1_image22-1.tif",
          "data\\rep1_image22-1.tif",
          "data\\rep1_image22-1.tif",
          "data\\rep1_image22-1.tif",
          "data\\rep1_image22-1.tif",
          "data\\rep1_image22-1.tif",
          "data\\rep1_image22-1.tif",
          "data\\rep1_image22-1.tif",
          "data\\rep1_image22-1.tif",
          "data\\rep1_image22-1.tif",
          "data\\rep1_image22-1.tif",
          "data\\rep1_image22-1.tif",
          "data\\rep1_image22-1.tif",
          "data\\rep1_image22-1.tif",
          "data\\rep1_image22-1.tif",
          "data\\rep1_image22-1.tif",
          "data\\rep1_image22-1.tif",
          "data\\rep1_image22-1.tif",
          "data\\rep1_image22-1.tif",
          "data\\rep1_image22-1.tif",
          "data\\rep1_image22-1.tif",
          "data\\rep1_image22-1.tif",
          "data\\rep1_image22-1.tif",
          "data\\rep1_image22-1.tif",
          "data\\rep1_image22-1.tif",
          "data\\rep1_image22-1.tif",
          "data\\rep1_image22-1.tif",
          "data\\rep1_image22-1.tif",
          "data\\rep1_image22-1.tif",
          "data\\rep1_image22-1.tif",
          "data\\rep1_image22-1.tif",
          "data\\rep1_image22-1.tif",
          "data\\rep1_image22-1.tif",
          "data\\rep1_image22-1.tif",
          "data\\rep1_image22-1.tif",
          "data\\rep1_image22-1.tif",
          "data\\rep1_image22-1.tif",
          "data\\rep1_image22-1.tif",
          "data\\rep1_image22-1.tif",
          "data\\rep1_image22-1.tif",
          "data\\rep1_image22-1.tif",
          "data\\rep1_image22-1.tif",
          "data\\rep1_image22-1.tif",
          "data\\rep1_image22-1.tif",
          "data\\rep1_image22-1.tif",
          "data\\rep1_image22-1.tif",
          "data\\rep1_image22-1.tif",
          "data\\rep1_image22-1.tif",
          "data\\rep1_image22-1.tif",
          "data\\rep1_image22-1.tif",
          "data\\rep1_image22-1.tif",
          "data\\rep1_image22-1.tif",
          "data\\rep1_image22-1.tif",
          "data\\rep1_image22-1.tif",
          "data\\rep1_image22-1.tif",
          "data\\rep1_image22-1.tif",
          "data\\rep1_image22-1.tif",
          "data\\rep1_image22-1.tif",
          "data\\rep1_image22-1.tif",
          "data\\rep1_image22-1.tif",
          "data\\rep1_image22-1.tif",
          "data\\rep1_image22-1.tif",
          "data\\rep1_image22-1.tif",
          "data\\rep1_image22-1.tif",
          "data\\rep1_image22-1.tif",
          "data\\rep1_image22-1.tif",
          "data\\rep1_image22-1.tif",
          "data\\rep1_image22-1.tif",
          "data\\rep1_image22-1.tif",
          "data\\rep1_image22-1.tif",
          "data\\rep1_image22-1.tif",
          "data\\rep1_image22-1.tif",
          "data\\rep1_image22-1.tif",
          "data\\rep1_image22-1.tif",
          "data\\rep1_image22-1.tif",
          "data\\rep1_image22-1.tif",
          "data\\rep1_image22-1.tif",
          "data\\rep1_image22-1.tif",
          "data\\rep1_image22-1.tif",
          "data\\rep1_image22-1.tif",
          "data\\rep1_image22-1.tif"
         ],
         "x0": " ",
         "xaxis": "x",
         "y": {
          "bdata": "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",
          "dtype": "f4"
         },
         "y0": " ",
         "yaxis": "y"
        }
       ],
       "layout": {
        "boxmode": "group",
        "legend": {
         "tracegroupgap": 0
        },
        "margin": {
         "t": 60
        },
        "template": {
         "data": {
          "bar": [
           {
            "error_x": {
             "color": "#2a3f5f"
            },
            "error_y": {
             "color": "#2a3f5f"
            },
            "marker": {
             "line": {
              "color": "#E5ECF6",
              "width": 0.5
             },
             "pattern": {
              "fillmode": "overlay",
              "size": 10,
              "solidity": 0.2
             }
            },
            "type": "bar"
           }
          ],
          "barpolar": [
           {
            "marker": {
             "line": {
              "color": "#E5ECF6",
              "width": 0.5
             },
             "pattern": {
              "fillmode": "overlay",
              "size": 10,
              "solidity": 0.2
             }
            },
            "type": "barpolar"
           }
          ],
          "carpet": [
           {
            "aaxis": {
             "endlinecolor": "#2a3f5f",
             "gridcolor": "white",
             "linecolor": "white",
             "minorgridcolor": "white",
             "startlinecolor": "#2a3f5f"
            },
            "baxis": {
             "endlinecolor": "#2a3f5f",
             "gridcolor": "white",
             "linecolor": "white",
             "minorgridcolor": "white",
             "startlinecolor": "#2a3f5f"
            },
            "type": "carpet"
           }
          ],
          "choropleth": [
           {
            "colorbar": {
             "outlinewidth": 0,
             "ticks": ""
            },
            "type": "choropleth"
           }
          ],
          "contour": [
           {
            "colorbar": {
             "outlinewidth": 0,
             "ticks": ""
            },
            "colorscale": [
             [
              0,
              "#0d0887"
             ],
             [
              0.1111111111111111,
              "#46039f"
             ],
             [
              0.2222222222222222,
              "#7201a8"
             ],
             [
              0.3333333333333333,
              "#9c179e"
             ],
             [
              0.4444444444444444,
              "#bd3786"
             ],
             [
              0.5555555555555556,
              "#d8576b"
             ],
             [
              0.6666666666666666,
              "#ed7953"
             ],
             [
              0.7777777777777778,
              "#fb9f3a"
             ],
             [
              0.8888888888888888,
              "#fdca26"
             ],
             [
              1,
              "#f0f921"
             ]
            ],
            "type": "contour"
           }
          ],
          "contourcarpet": [
           {
            "colorbar": {
             "outlinewidth": 0,
             "ticks": ""
            },
            "type": "contourcarpet"
           }
          ],
          "heatmap": [
           {
            "colorbar": {
             "outlinewidth": 0,
             "ticks": ""
            },
            "colorscale": [
             [
              0,
              "#0d0887"
             ],
             [
              0.1111111111111111,
              "#46039f"
             ],
             [
              0.2222222222222222,
              "#7201a8"
             ],
             [
              0.3333333333333333,
              "#9c179e"
             ],
             [
              0.4444444444444444,
              "#bd3786"
             ],
             [
              0.5555555555555556,
              "#d8576b"
             ],
             [
              0.6666666666666666,
              "#ed7953"
             ],
             [
              0.7777777777777778,
              "#fb9f3a"
             ],
             [
              0.8888888888888888,
              "#fdca26"
             ],
             [
              1,
              "#f0f921"
             ]
            ],
            "type": "heatmap"
           }
          ],
          "histogram": [
           {
            "marker": {
             "pattern": {
              "fillmode": "overlay",
              "size": 10,
              "solidity": 0.2
             }
            },
            "type": "histogram"
           }
          ],
          "histogram2d": [
           {
            "colorbar": {
             "outlinewidth": 0,
             "ticks": ""
            },
            "colorscale": [
             [
              0,
              "#0d0887"
             ],
             [
              0.1111111111111111,
              "#46039f"
             ],
             [
              0.2222222222222222,
              "#7201a8"
             ],
             [
              0.3333333333333333,
              "#9c179e"
             ],
             [
              0.4444444444444444,
              "#bd3786"
             ],
             [
              0.5555555555555556,
              "#d8576b"
             ],
             [
              0.6666666666666666,
              "#ed7953"
             ],
             [
              0.7777777777777778,
              "#fb9f3a"
             ],
             [
              0.8888888888888888,
              "#fdca26"
             ],
             [
              1,
              "#f0f921"
             ]
            ],
            "type": "histogram2d"
           }
          ],
          "histogram2dcontour": [
           {
            "colorbar": {
             "outlinewidth": 0,
             "ticks": ""
            },
            "colorscale": [
             [
              0,
              "#0d0887"
             ],
             [
              0.1111111111111111,
              "#46039f"
             ],
             [
              0.2222222222222222,
              "#7201a8"
             ],
             [
              0.3333333333333333,
              "#9c179e"
             ],
             [
              0.4444444444444444,
              "#bd3786"
             ],
             [
              0.5555555555555556,
              "#d8576b"
             ],
             [
              0.6666666666666666,
              "#ed7953"
             ],
             [
              0.7777777777777778,
              "#fb9f3a"
             ],
             [
              0.8888888888888888,
              "#fdca26"
             ],
             [
              1,
              "#f0f921"
             ]
            ],
            "type": "histogram2dcontour"
           }
          ],
          "mesh3d": [
           {
            "colorbar": {
             "outlinewidth": 0,
             "ticks": ""
            },
            "type": "mesh3d"
           }
          ],
          "parcoords": [
           {
            "line": {
             "colorbar": {
              "outlinewidth": 0,
              "ticks": ""
             }
            },
            "type": "parcoords"
           }
          ],
          "pie": [
           {
            "automargin": true,
            "type": "pie"
           }
          ],
          "scatter": [
           {
            "fillpattern": {
             "fillmode": "overlay",
             "size": 10,
             "solidity": 0.2
            },
            "type": "scatter"
           }
          ],
          "scatter3d": [
           {
            "line": {
             "colorbar": {
              "outlinewidth": 0,
              "ticks": ""
             }
            },
            "marker": {
             "colorbar": {
              "outlinewidth": 0,
              "ticks": ""
             }
            },
            "type": "scatter3d"
           }
          ],
          "scattercarpet": [
           {
            "marker": {
             "colorbar": {
              "outlinewidth": 0,
              "ticks": ""
             }
            },
            "type": "scattercarpet"
           }
          ],
          "scattergeo": [
           {
            "marker": {
             "colorbar": {
              "outlinewidth": 0,
              "ticks": ""
             }
            },
            "type": "scattergeo"
           }
          ],
          "scattergl": [
           {
            "marker": {
             "colorbar": {
              "outlinewidth": 0,
              "ticks": ""
             }
            },
            "type": "scattergl"
           }
          ],
          "scattermap": [
           {
            "marker": {
             "colorbar": {
              "outlinewidth": 0,
              "ticks": ""
             }
            },
            "type": "scattermap"
           }
          ],
          "scattermapbox": [
           {
            "marker": {
             "colorbar": {
              "outlinewidth": 0,
              "ticks": ""
             }
            },
            "type": "scattermapbox"
           }
          ],
          "scatterpolar": [
           {
            "marker": {
             "colorbar": {
              "outlinewidth": 0,
              "ticks": ""
             }
            },
            "type": "scatterpolar"
           }
          ],
          "scatterpolargl": [
           {
            "marker": {
             "colorbar": {
              "outlinewidth": 0,
              "ticks": ""
             }
            },
            "type": "scatterpolargl"
           }
          ],
          "scatterternary": [
           {
            "marker": {
             "colorbar": {
              "outlinewidth": 0,
              "ticks": ""
             }
            },
            "type": "scatterternary"
           }
          ],
          "surface": [
           {
            "colorbar": {
             "outlinewidth": 0,
             "ticks": ""
            },
            "colorscale": [
             [
              0,
              "#0d0887"
             ],
             [
              0.1111111111111111,
              "#46039f"
             ],
             [
              0.2222222222222222,
              "#7201a8"
             ],
             [
              0.3333333333333333,
              "#9c179e"
             ],
             [
              0.4444444444444444,
              "#bd3786"
             ],
             [
              0.5555555555555556,
              "#d8576b"
             ],
             [
              0.6666666666666666,
              "#ed7953"
             ],
             [
              0.7777777777777778,
              "#fb9f3a"
             ],
             [
              0.8888888888888888,
              "#fdca26"
             ],
             [
              1,
              "#f0f921"
             ]
            ],
            "type": "surface"
           }
          ],
          "table": [
           {
            "cells": {
             "fill": {
              "color": "#EBF0F8"
             },
             "line": {
              "color": "white"
             }
            },
            "header": {
             "fill": {
              "color": "#C8D4E3"
             },
             "line": {
              "color": "white"
             }
            },
            "type": "table"
           }
          ]
         },
         "layout": {
          "annotationdefaults": {
           "arrowcolor": "#2a3f5f",
           "arrowhead": 0,
           "arrowwidth": 1
          },
          "autotypenumbers": "strict",
          "coloraxis": {
           "colorbar": {
            "outlinewidth": 0,
            "ticks": ""
           }
          },
          "colorscale": {
           "diverging": [
            [
             0,
             "#8e0152"
            ],
            [
             0.1,
             "#c51b7d"
            ],
            [
             0.2,
             "#de77ae"
            ],
            [
             0.3,
             "#f1b6da"
            ],
            [
             0.4,
             "#fde0ef"
            ],
            [
             0.5,
             "#f7f7f7"
            ],
            [
             0.6,
             "#e6f5d0"
            ],
            [
             0.7,
             "#b8e186"
            ],
            [
             0.8,
             "#7fbc41"
            ],
            [
             0.9,
             "#4d9221"
            ],
            [
             1,
             "#276419"
            ]
           ],
           "sequential": [
            [
             0,
             "#0d0887"
            ],
            [
             0.1111111111111111,
             "#46039f"
            ],
            [
             0.2222222222222222,
             "#7201a8"
            ],
            [
             0.3333333333333333,
             "#9c179e"
            ],
            [
             0.4444444444444444,
             "#bd3786"
            ],
            [
             0.5555555555555556,
             "#d8576b"
            ],
            [
             0.6666666666666666,
             "#ed7953"
            ],
            [
             0.7777777777777778,
             "#fb9f3a"
            ],
            [
             0.8888888888888888,
             "#fdca26"
            ],
            [
             1,
             "#f0f921"
            ]
           ],
           "sequentialminus": [
            [
             0,
             "#0d0887"
            ],
            [
             0.1111111111111111,
             "#46039f"
            ],
            [
             0.2222222222222222,
             "#7201a8"
            ],
            [
             0.3333333333333333,
             "#9c179e"
            ],
            [
             0.4444444444444444,
             "#bd3786"
            ],
            [
             0.5555555555555556,
             "#d8576b"
            ],
            [
             0.6666666666666666,
             "#ed7953"
            ],
            [
             0.7777777777777778,
             "#fb9f3a"
            ],
            [
             0.8888888888888888,
             "#fdca26"
            ],
            [
             1,
             "#f0f921"
            ]
           ]
          },
          "colorway": [
           "#636efa",
           "#EF553B",
           "#00cc96",
           "#ab63fa",
           "#FFA15A",
           "#19d3f3",
           "#FF6692",
           "#B6E880",
           "#FF97FF",
           "#FECB52"
          ],
          "font": {
           "color": "#2a3f5f"
          },
          "geo": {
           "bgcolor": "white",
           "lakecolor": "white",
           "landcolor": "#E5ECF6",
           "showlakes": true,
           "showland": true,
           "subunitcolor": "white"
          },
          "hoverlabel": {
           "align": "left"
          },
          "hovermode": "closest",
          "mapbox": {
           "style": "light"
          },
          "paper_bgcolor": "white",
          "plot_bgcolor": "#E5ECF6",
          "polar": {
           "angularaxis": {
            "gridcolor": "white",
            "linecolor": "white",
            "ticks": ""
           },
           "bgcolor": "#E5ECF6",
           "radialaxis": {
            "gridcolor": "white",
            "linecolor": "white",
            "ticks": ""
           }
          },
          "scene": {
           "xaxis": {
            "backgroundcolor": "#E5ECF6",
            "gridcolor": "white",
            "gridwidth": 2,
            "linecolor": "white",
            "showbackground": true,
            "ticks": "",
            "zerolinecolor": "white"
           },
           "yaxis": {
            "backgroundcolor": "#E5ECF6",
            "gridcolor": "white",
            "gridwidth": 2,
            "linecolor": "white",
            "showbackground": true,
            "ticks": "",
            "zerolinecolor": "white"
           },
           "zaxis": {
            "backgroundcolor": "#E5ECF6",
            "gridcolor": "white",
            "gridwidth": 2,
            "linecolor": "white",
            "showbackground": true,
            "ticks": "",
            "zerolinecolor": "white"
           }
          },
          "shapedefaults": {
           "line": {
            "color": "#2a3f5f"
           }
          },
          "ternary": {
           "aaxis": {
            "gridcolor": "white",
            "linecolor": "white",
            "ticks": ""
           },
           "baxis": {
            "gridcolor": "white",
            "linecolor": "white",
            "ticks": ""
           },
           "bgcolor": "#E5ECF6",
           "caxis": {
            "gridcolor": "white",
            "linecolor": "white",
            "ticks": ""
           }
          },
          "title": {
           "x": 0.05
          },
          "xaxis": {
           "automargin": true,
           "gridcolor": "white",
           "linecolor": "white",
           "ticks": "",
           "title": {
            "standoff": 15
           },
           "zerolinecolor": "white",
           "zerolinewidth": 2
          },
          "yaxis": {
           "automargin": true,
           "gridcolor": "white",
           "linecolor": "white",
           "ticks": "",
           "title": {
            "standoff": 15
           },
           "zerolinecolor": "white",
           "zerolinewidth": 2
          }
         }
        },
        "xaxis": {
         "anchor": "y",
         "domain": [
          0,
          1
         ],
         "title": {
          "text": "File"
         }
        },
        "yaxis": {
         "anchor": "x",
         "domain": [
          0,
          1
         ],
         "title": {
          "text": "normed_intensity"
         }
        }
       }
      }
     },
     "metadata": {},
     "output_type": "display_data"
    }
   ],
   "source": [
    "px.box(df, x='File', y='normed_intensity', points='all')"
   ]
  },
  {
   "cell_type": "code",
   "execution_count": 17,
   "id": "50f7ace2",
   "metadata": {},
   "outputs": [
    {
     "data": {
      "text/html": [
       "<div>\n",
       "<style scoped>\n",
       "    .dataframe tbody tr th:only-of-type {\n",
       "        vertical-align: middle;\n",
       "    }\n",
       "\n",
       "    .dataframe tbody tr th {\n",
       "        vertical-align: top;\n",
       "    }\n",
       "\n",
       "    .dataframe thead th {\n",
       "        text-align: right;\n",
       "    }\n",
       "</style>\n",
       "<table border=\"1\" class=\"dataframe\">\n",
       "  <thead>\n",
       "    <tr style=\"text-align: right;\">\n",
       "      <th></th>\n",
       "      <th>File</th>\n",
       "      <th>ratio_ptile</th>\n",
       "      <th>normed_intensity</th>\n",
       "      <th>low_ptile</th>\n",
       "      <th>high_ptile</th>\n",
       "    </tr>\n",
       "  </thead>\n",
       "  <tbody>\n",
       "    <tr>\n",
       "      <th>0</th>\n",
       "      <td>data\\image001-1.tif</td>\n",
       "      <td>1.616369</td>\n",
       "      <td>0.198186</td>\n",
       "      <td>0.759414</td>\n",
       "      <td>1.227493</td>\n",
       "    </tr>\n",
       "    <tr>\n",
       "      <th>1</th>\n",
       "      <td>data\\image002-1.tif</td>\n",
       "      <td>1.837496</td>\n",
       "      <td>0.240186</td>\n",
       "      <td>0.710500</td>\n",
       "      <td>1.305541</td>\n",
       "    </tr>\n",
       "    <tr>\n",
       "      <th>2</th>\n",
       "      <td>data\\image003-1.tif</td>\n",
       "      <td>1.715107</td>\n",
       "      <td>0.223192</td>\n",
       "      <td>0.740202</td>\n",
       "      <td>1.269525</td>\n",
       "    </tr>\n",
       "    <tr>\n",
       "      <th>3</th>\n",
       "      <td>data\\image004-1.tif</td>\n",
       "      <td>1.663831</td>\n",
       "      <td>0.284925</td>\n",
       "      <td>0.805137</td>\n",
       "      <td>1.339612</td>\n",
       "    </tr>\n",
       "    <tr>\n",
       "      <th>4</th>\n",
       "      <td>data\\image005-1.tif</td>\n",
       "      <td>2.143216</td>\n",
       "      <td>0.297824</td>\n",
       "      <td>0.635735</td>\n",
       "      <td>1.362518</td>\n",
       "    </tr>\n",
       "    <tr>\n",
       "      <th>5</th>\n",
       "      <td>data\\image006-1.tif</td>\n",
       "      <td>1.546455</td>\n",
       "      <td>0.165012</td>\n",
       "      <td>0.807470</td>\n",
       "      <td>1.248716</td>\n",
       "    </tr>\n",
       "    <tr>\n",
       "      <th>6</th>\n",
       "      <td>data\\image007-1.tif</td>\n",
       "      <td>1.816840</td>\n",
       "      <td>0.297585</td>\n",
       "      <td>0.704583</td>\n",
       "      <td>1.280114</td>\n",
       "    </tr>\n",
       "    <tr>\n",
       "      <th>7</th>\n",
       "      <td>data\\image009-1.tif</td>\n",
       "      <td>1.755976</td>\n",
       "      <td>0.283740</td>\n",
       "      <td>0.818949</td>\n",
       "      <td>1.438055</td>\n",
       "    </tr>\n",
       "    <tr>\n",
       "      <th>8</th>\n",
       "      <td>data\\image010-1.tif</td>\n",
       "      <td>1.768996</td>\n",
       "      <td>0.239760</td>\n",
       "      <td>0.749351</td>\n",
       "      <td>1.325600</td>\n",
       "    </tr>\n",
       "    <tr>\n",
       "      <th>9</th>\n",
       "      <td>data\\image011-1.tif</td>\n",
       "      <td>1.602277</td>\n",
       "      <td>0.190299</td>\n",
       "      <td>0.773831</td>\n",
       "      <td>1.239892</td>\n",
       "    </tr>\n",
       "    <tr>\n",
       "      <th>10</th>\n",
       "      <td>data\\image013-1.tif</td>\n",
       "      <td>1.608524</td>\n",
       "      <td>0.287314</td>\n",
       "      <td>0.792779</td>\n",
       "      <td>1.275204</td>\n",
       "    </tr>\n",
       "    <tr>\n",
       "      <th>11</th>\n",
       "      <td>data\\image014-1.tif</td>\n",
       "      <td>1.773043</td>\n",
       "      <td>0.241074</td>\n",
       "      <td>0.771283</td>\n",
       "      <td>1.367518</td>\n",
       "    </tr>\n",
       "    <tr>\n",
       "      <th>12</th>\n",
       "      <td>data\\image015-1.tif</td>\n",
       "      <td>1.625896</td>\n",
       "      <td>0.199462</td>\n",
       "      <td>0.810287</td>\n",
       "      <td>1.317442</td>\n",
       "    </tr>\n",
       "    <tr>\n",
       "      <th>13</th>\n",
       "      <td>data\\image016-1.tif</td>\n",
       "      <td>1.599957</td>\n",
       "      <td>0.202762</td>\n",
       "      <td>0.818695</td>\n",
       "      <td>1.309877</td>\n",
       "    </tr>\n",
       "    <tr>\n",
       "      <th>14</th>\n",
       "      <td>data\\image017-1.tif</td>\n",
       "      <td>1.606567</td>\n",
       "      <td>0.210138</td>\n",
       "      <td>0.798808</td>\n",
       "      <td>1.283338</td>\n",
       "    </tr>\n",
       "    <tr>\n",
       "      <th>15</th>\n",
       "      <td>data\\image018-1.tif</td>\n",
       "      <td>1.704686</td>\n",
       "      <td>0.203404</td>\n",
       "      <td>0.749703</td>\n",
       "      <td>1.278008</td>\n",
       "    </tr>\n",
       "    <tr>\n",
       "      <th>16</th>\n",
       "      <td>data\\image019-1.tif</td>\n",
       "      <td>1.710992</td>\n",
       "      <td>0.205676</td>\n",
       "      <td>0.767905</td>\n",
       "      <td>1.313880</td>\n",
       "    </tr>\n",
       "    <tr>\n",
       "      <th>17</th>\n",
       "      <td>data\\rep1_image20-1.tif</td>\n",
       "      <td>1.710992</td>\n",
       "      <td>0.205676</td>\n",
       "      <td>0.767905</td>\n",
       "      <td>1.313880</td>\n",
       "    </tr>\n",
       "    <tr>\n",
       "      <th>18</th>\n",
       "      <td>data\\rep1_image21-1.tif</td>\n",
       "      <td>1.430948</td>\n",
       "      <td>0.141315</td>\n",
       "      <td>0.819364</td>\n",
       "      <td>1.172467</td>\n",
       "    </tr>\n",
       "    <tr>\n",
       "      <th>19</th>\n",
       "      <td>data\\rep1_image22-1.tif</td>\n",
       "      <td>1.452614</td>\n",
       "      <td>0.179813</td>\n",
       "      <td>0.832948</td>\n",
       "      <td>1.209952</td>\n",
       "    </tr>\n",
       "  </tbody>\n",
       "</table>\n",
       "</div>"
      ],
      "text/plain": [
       "                       File  ratio_ptile  normed_intensity  low_ptile  \\\n",
       "0       data\\image001-1.tif     1.616369          0.198186   0.759414   \n",
       "1       data\\image002-1.tif     1.837496          0.240186   0.710500   \n",
       "2       data\\image003-1.tif     1.715107          0.223192   0.740202   \n",
       "3       data\\image004-1.tif     1.663831          0.284925   0.805137   \n",
       "4       data\\image005-1.tif     2.143216          0.297824   0.635735   \n",
       "5       data\\image006-1.tif     1.546455          0.165012   0.807470   \n",
       "6       data\\image007-1.tif     1.816840          0.297585   0.704583   \n",
       "7       data\\image009-1.tif     1.755976          0.283740   0.818949   \n",
       "8       data\\image010-1.tif     1.768996          0.239760   0.749351   \n",
       "9       data\\image011-1.tif     1.602277          0.190299   0.773831   \n",
       "10      data\\image013-1.tif     1.608524          0.287314   0.792779   \n",
       "11      data\\image014-1.tif     1.773043          0.241074   0.771283   \n",
       "12      data\\image015-1.tif     1.625896          0.199462   0.810287   \n",
       "13      data\\image016-1.tif     1.599957          0.202762   0.818695   \n",
       "14      data\\image017-1.tif     1.606567          0.210138   0.798808   \n",
       "15      data\\image018-1.tif     1.704686          0.203404   0.749703   \n",
       "16      data\\image019-1.tif     1.710992          0.205676   0.767905   \n",
       "17  data\\rep1_image20-1.tif     1.710992          0.205676   0.767905   \n",
       "18  data\\rep1_image21-1.tif     1.430948          0.141315   0.819364   \n",
       "19  data\\rep1_image22-1.tif     1.452614          0.179813   0.832948   \n",
       "\n",
       "    high_ptile  \n",
       "0     1.227493  \n",
       "1     1.305541  \n",
       "2     1.269525  \n",
       "3     1.339612  \n",
       "4     1.362518  \n",
       "5     1.248716  \n",
       "6     1.280114  \n",
       "7     1.438055  \n",
       "8     1.325600  \n",
       "9     1.239892  \n",
       "10    1.275204  \n",
       "11    1.367518  \n",
       "12    1.317442  \n",
       "13    1.309877  \n",
       "14    1.283338  \n",
       "15    1.278008  \n",
       "16    1.313880  \n",
       "17    1.313880  \n",
       "18    1.172467  \n",
       "19    1.209952  "
      ]
     },
     "execution_count": 17,
     "metadata": {},
     "output_type": "execute_result"
    }
   ],
   "source": [
    "df['low_ptile'] = df.groupby('File')['normed_intensity'].transform(np.percentile, q=10)\n",
    "df['high_ptile'] = df.groupby('File')['normed_intensity'].transform(np.percentile, q=90)\n",
    "df['ratio_ptile'] = df['high_ptile'] / df['low_ptile']\n",
    "tagged = df.groupby('File').agg({'ratio_ptile': 'mean', 'normed_intensity': 'mean', 'low_ptile':'mean', 'high_ptile':'mean', 'normed_intensity':'std'}).reset_index()\n",
    "tagged"
   ]
  },
  {
   "cell_type": "code",
   "execution_count": 18,
   "id": "1547235d",
   "metadata": {},
   "outputs": [
    {
     "data": {
      "application/vnd.plotly.v1+json": {
       "config": {
        "plotlyServerURL": "https://plot.ly"
       },
       "data": [
        {
         "alignmentgroup": "True",
         "boxpoints": "all",
         "customdata": [
          [
           "data\\image001-1.tif"
          ],
          [
           "data\\image002-1.tif"
          ],
          [
           "data\\image003-1.tif"
          ],
          [
           "data\\image004-1.tif"
          ],
          [
           "data\\image005-1.tif"
          ],
          [
           "data\\image006-1.tif"
          ],
          [
           "data\\image007-1.tif"
          ],
          [
           "data\\image009-1.tif"
          ],
          [
           "data\\image010-1.tif"
          ],
          [
           "data\\image011-1.tif"
          ],
          [
           "data\\image013-1.tif"
          ],
          [
           "data\\image014-1.tif"
          ],
          [
           "data\\image015-1.tif"
          ],
          [
           "data\\image016-1.tif"
          ],
          [
           "data\\image017-1.tif"
          ],
          [
           "data\\image018-1.tif"
          ],
          [
           "data\\image019-1.tif"
          ],
          [
           "data\\rep1_image20-1.tif"
          ],
          [
           "data\\rep1_image21-1.tif"
          ],
          [
           "data\\rep1_image22-1.tif"
          ],
          [
           "data\\image001-1.tif"
          ],
          [
           "data\\image002-1.tif"
          ],
          [
           "data\\image003-1.tif"
          ],
          [
           "data\\image004-1.tif"
          ],
          [
           "data\\image005-1.tif"
          ],
          [
           "data\\image006-1.tif"
          ],
          [
           "data\\image007-1.tif"
          ],
          [
           "data\\image009-1.tif"
          ],
          [
           "data\\image010-1.tif"
          ],
          [
           "data\\image011-1.tif"
          ],
          [
           "data\\image013-1.tif"
          ],
          [
           "data\\image014-1.tif"
          ],
          [
           "data\\image015-1.tif"
          ],
          [
           "data\\image016-1.tif"
          ],
          [
           "data\\image017-1.tif"
          ],
          [
           "data\\image018-1.tif"
          ],
          [
           "data\\image019-1.tif"
          ],
          [
           "data\\rep1_image20-1.tif"
          ],
          [
           "data\\rep1_image21-1.tif"
          ],
          [
           "data\\rep1_image22-1.tif"
          ]
         ],
         "hovertemplate": "variable=%{x}<br>value=%{y}<br>File=%{customdata[0]}<extra></extra>",
         "legendgroup": "",
         "marker": {
          "color": "#636efa"
         },
         "name": "",
         "notched": false,
         "offsetgroup": "",
         "orientation": "v",
         "showlegend": false,
         "type": "box",
         "x": [
          "low_ptile",
          "low_ptile",
          "low_ptile",
          "low_ptile",
          "low_ptile",
          "low_ptile",
          "low_ptile",
          "low_ptile",
          "low_ptile",
          "low_ptile",
          "low_ptile",
          "low_ptile",
          "low_ptile",
          "low_ptile",
          "low_ptile",
          "low_ptile",
          "low_ptile",
          "low_ptile",
          "low_ptile",
          "low_ptile",
          "high_ptile",
          "high_ptile",
          "high_ptile",
          "high_ptile",
          "high_ptile",
          "high_ptile",
          "high_ptile",
          "high_ptile",
          "high_ptile",
          "high_ptile",
          "high_ptile",
          "high_ptile",
          "high_ptile",
          "high_ptile",
          "high_ptile",
          "high_ptile",
          "high_ptile",
          "high_ptile",
          "high_ptile",
          "high_ptile"
         ],
         "x0": " ",
         "xaxis": "x",
         "y": {
          "bdata": "9WhCP1PjNT/bfT0/dx1OP4i/Ij9Vtk4/i180P6ymUT9/1T8/xxlGP5HzSj/SckU/9m5PPwCWUT+rfkw/huw/P3SVRD90lUQ/18FRPw48VT98Hp0/9BunP85/oj9leKs/+2auP+nVnz/H2qM/MhK4P0OtqT/EtJ4/4jmjP9cKrz/zoag/DKqnP2pEpD/AlaM/Oy2oPzstqD9oE5Y/sd+aPw==",
          "dtype": "f4"
         },
         "y0": " ",
         "yaxis": "y"
        }
       ],
       "layout": {
        "boxmode": "group",
        "legend": {
         "tracegroupgap": 0
        },
        "template": {
         "data": {
          "bar": [
           {
            "error_x": {
             "color": "#2a3f5f"
            },
            "error_y": {
             "color": "#2a3f5f"
            },
            "marker": {
             "line": {
              "color": "#E5ECF6",
              "width": 0.5
             },
             "pattern": {
              "fillmode": "overlay",
              "size": 10,
              "solidity": 0.2
             }
            },
            "type": "bar"
           }
          ],
          "barpolar": [
           {
            "marker": {
             "line": {
              "color": "#E5ECF6",
              "width": 0.5
             },
             "pattern": {
              "fillmode": "overlay",
              "size": 10,
              "solidity": 0.2
             }
            },
            "type": "barpolar"
           }
          ],
          "carpet": [
           {
            "aaxis": {
             "endlinecolor": "#2a3f5f",
             "gridcolor": "white",
             "linecolor": "white",
             "minorgridcolor": "white",
             "startlinecolor": "#2a3f5f"
            },
            "baxis": {
             "endlinecolor": "#2a3f5f",
             "gridcolor": "white",
             "linecolor": "white",
             "minorgridcolor": "white",
             "startlinecolor": "#2a3f5f"
            },
            "type": "carpet"
           }
          ],
          "choropleth": [
           {
            "colorbar": {
             "outlinewidth": 0,
             "ticks": ""
            },
            "type": "choropleth"
           }
          ],
          "contour": [
           {
            "colorbar": {
             "outlinewidth": 0,
             "ticks": ""
            },
            "colorscale": [
             [
              0,
              "#0d0887"
             ],
             [
              0.1111111111111111,
              "#46039f"
             ],
             [
              0.2222222222222222,
              "#7201a8"
             ],
             [
              0.3333333333333333,
              "#9c179e"
             ],
             [
              0.4444444444444444,
              "#bd3786"
             ],
             [
              0.5555555555555556,
              "#d8576b"
             ],
             [
              0.6666666666666666,
              "#ed7953"
             ],
             [
              0.7777777777777778,
              "#fb9f3a"
             ],
             [
              0.8888888888888888,
              "#fdca26"
             ],
             [
              1,
              "#f0f921"
             ]
            ],
            "type": "contour"
           }
          ],
          "contourcarpet": [
           {
            "colorbar": {
             "outlinewidth": 0,
             "ticks": ""
            },
            "type": "contourcarpet"
           }
          ],
          "heatmap": [
           {
            "colorbar": {
             "outlinewidth": 0,
             "ticks": ""
            },
            "colorscale": [
             [
              0,
              "#0d0887"
             ],
             [
              0.1111111111111111,
              "#46039f"
             ],
             [
              0.2222222222222222,
              "#7201a8"
             ],
             [
              0.3333333333333333,
              "#9c179e"
             ],
             [
              0.4444444444444444,
              "#bd3786"
             ],
             [
              0.5555555555555556,
              "#d8576b"
             ],
             [
              0.6666666666666666,
              "#ed7953"
             ],
             [
              0.7777777777777778,
              "#fb9f3a"
             ],
             [
              0.8888888888888888,
              "#fdca26"
             ],
             [
              1,
              "#f0f921"
             ]
            ],
            "type": "heatmap"
           }
          ],
          "histogram": [
           {
            "marker": {
             "pattern": {
              "fillmode": "overlay",
              "size": 10,
              "solidity": 0.2
             }
            },
            "type": "histogram"
           }
          ],
          "histogram2d": [
           {
            "colorbar": {
             "outlinewidth": 0,
             "ticks": ""
            },
            "colorscale": [
             [
              0,
              "#0d0887"
             ],
             [
              0.1111111111111111,
              "#46039f"
             ],
             [
              0.2222222222222222,
              "#7201a8"
             ],
             [
              0.3333333333333333,
              "#9c179e"
             ],
             [
              0.4444444444444444,
              "#bd3786"
             ],
             [
              0.5555555555555556,
              "#d8576b"
             ],
             [
              0.6666666666666666,
              "#ed7953"
             ],
             [
              0.7777777777777778,
              "#fb9f3a"
             ],
             [
              0.8888888888888888,
              "#fdca26"
             ],
             [
              1,
              "#f0f921"
             ]
            ],
            "type": "histogram2d"
           }
          ],
          "histogram2dcontour": [
           {
            "colorbar": {
             "outlinewidth": 0,
             "ticks": ""
            },
            "colorscale": [
             [
              0,
              "#0d0887"
             ],
             [
              0.1111111111111111,
              "#46039f"
             ],
             [
              0.2222222222222222,
              "#7201a8"
             ],
             [
              0.3333333333333333,
              "#9c179e"
             ],
             [
              0.4444444444444444,
              "#bd3786"
             ],
             [
              0.5555555555555556,
              "#d8576b"
             ],
             [
              0.6666666666666666,
              "#ed7953"
             ],
             [
              0.7777777777777778,
              "#fb9f3a"
             ],
             [
              0.8888888888888888,
              "#fdca26"
             ],
             [
              1,
              "#f0f921"
             ]
            ],
            "type": "histogram2dcontour"
           }
          ],
          "mesh3d": [
           {
            "colorbar": {
             "outlinewidth": 0,
             "ticks": ""
            },
            "type": "mesh3d"
           }
          ],
          "parcoords": [
           {
            "line": {
             "colorbar": {
              "outlinewidth": 0,
              "ticks": ""
             }
            },
            "type": "parcoords"
           }
          ],
          "pie": [
           {
            "automargin": true,
            "type": "pie"
           }
          ],
          "scatter": [
           {
            "fillpattern": {
             "fillmode": "overlay",
             "size": 10,
             "solidity": 0.2
            },
            "type": "scatter"
           }
          ],
          "scatter3d": [
           {
            "line": {
             "colorbar": {
              "outlinewidth": 0,
              "ticks": ""
             }
            },
            "marker": {
             "colorbar": {
              "outlinewidth": 0,
              "ticks": ""
             }
            },
            "type": "scatter3d"
           }
          ],
          "scattercarpet": [
           {
            "marker": {
             "colorbar": {
              "outlinewidth": 0,
              "ticks": ""
             }
            },
            "type": "scattercarpet"
           }
          ],
          "scattergeo": [
           {
            "marker": {
             "colorbar": {
              "outlinewidth": 0,
              "ticks": ""
             }
            },
            "type": "scattergeo"
           }
          ],
          "scattergl": [
           {
            "marker": {
             "colorbar": {
              "outlinewidth": 0,
              "ticks": ""
             }
            },
            "type": "scattergl"
           }
          ],
          "scattermap": [
           {
            "marker": {
             "colorbar": {
              "outlinewidth": 0,
              "ticks": ""
             }
            },
            "type": "scattermap"
           }
          ],
          "scattermapbox": [
           {
            "marker": {
             "colorbar": {
              "outlinewidth": 0,
              "ticks": ""
             }
            },
            "type": "scattermapbox"
           }
          ],
          "scatterpolar": [
           {
            "marker": {
             "colorbar": {
              "outlinewidth": 0,
              "ticks": ""
             }
            },
            "type": "scatterpolar"
           }
          ],
          "scatterpolargl": [
           {
            "marker": {
             "colorbar": {
              "outlinewidth": 0,
              "ticks": ""
             }
            },
            "type": "scatterpolargl"
           }
          ],
          "scatterternary": [
           {
            "marker": {
             "colorbar": {
              "outlinewidth": 0,
              "ticks": ""
             }
            },
            "type": "scatterternary"
           }
          ],
          "surface": [
           {
            "colorbar": {
             "outlinewidth": 0,
             "ticks": ""
            },
            "colorscale": [
             [
              0,
              "#0d0887"
             ],
             [
              0.1111111111111111,
              "#46039f"
             ],
             [
              0.2222222222222222,
              "#7201a8"
             ],
             [
              0.3333333333333333,
              "#9c179e"
             ],
             [
              0.4444444444444444,
              "#bd3786"
             ],
             [
              0.5555555555555556,
              "#d8576b"
             ],
             [
              0.6666666666666666,
              "#ed7953"
             ],
             [
              0.7777777777777778,
              "#fb9f3a"
             ],
             [
              0.8888888888888888,
              "#fdca26"
             ],
             [
              1,
              "#f0f921"
             ]
            ],
            "type": "surface"
           }
          ],
          "table": [
           {
            "cells": {
             "fill": {
              "color": "#EBF0F8"
             },
             "line": {
              "color": "white"
             }
            },
            "header": {
             "fill": {
              "color": "#C8D4E3"
             },
             "line": {
              "color": "white"
             }
            },
            "type": "table"
           }
          ]
         },
         "layout": {
          "annotationdefaults": {
           "arrowcolor": "#2a3f5f",
           "arrowhead": 0,
           "arrowwidth": 1
          },
          "autotypenumbers": "strict",
          "coloraxis": {
           "colorbar": {
            "outlinewidth": 0,
            "ticks": ""
           }
          },
          "colorscale": {
           "diverging": [
            [
             0,
             "#8e0152"
            ],
            [
             0.1,
             "#c51b7d"
            ],
            [
             0.2,
             "#de77ae"
            ],
            [
             0.3,
             "#f1b6da"
            ],
            [
             0.4,
             "#fde0ef"
            ],
            [
             0.5,
             "#f7f7f7"
            ],
            [
             0.6,
             "#e6f5d0"
            ],
            [
             0.7,
             "#b8e186"
            ],
            [
             0.8,
             "#7fbc41"
            ],
            [
             0.9,
             "#4d9221"
            ],
            [
             1,
             "#276419"
            ]
           ],
           "sequential": [
            [
             0,
             "#0d0887"
            ],
            [
             0.1111111111111111,
             "#46039f"
            ],
            [
             0.2222222222222222,
             "#7201a8"
            ],
            [
             0.3333333333333333,
             "#9c179e"
            ],
            [
             0.4444444444444444,
             "#bd3786"
            ],
            [
             0.5555555555555556,
             "#d8576b"
            ],
            [
             0.6666666666666666,
             "#ed7953"
            ],
            [
             0.7777777777777778,
             "#fb9f3a"
            ],
            [
             0.8888888888888888,
             "#fdca26"
            ],
            [
             1,
             "#f0f921"
            ]
           ],
           "sequentialminus": [
            [
             0,
             "#0d0887"
            ],
            [
             0.1111111111111111,
             "#46039f"
            ],
            [
             0.2222222222222222,
             "#7201a8"
            ],
            [
             0.3333333333333333,
             "#9c179e"
            ],
            [
             0.4444444444444444,
             "#bd3786"
            ],
            [
             0.5555555555555556,
             "#d8576b"
            ],
            [
             0.6666666666666666,
             "#ed7953"
            ],
            [
             0.7777777777777778,
             "#fb9f3a"
            ],
            [
             0.8888888888888888,
             "#fdca26"
            ],
            [
             1,
             "#f0f921"
            ]
           ]
          },
          "colorway": [
           "#636efa",
           "#EF553B",
           "#00cc96",
           "#ab63fa",
           "#FFA15A",
           "#19d3f3",
           "#FF6692",
           "#B6E880",
           "#FF97FF",
           "#FECB52"
          ],
          "font": {
           "color": "#2a3f5f"
          },
          "geo": {
           "bgcolor": "white",
           "lakecolor": "white",
           "landcolor": "#E5ECF6",
           "showlakes": true,
           "showland": true,
           "subunitcolor": "white"
          },
          "hoverlabel": {
           "align": "left"
          },
          "hovermode": "closest",
          "mapbox": {
           "style": "light"
          },
          "paper_bgcolor": "white",
          "plot_bgcolor": "#E5ECF6",
          "polar": {
           "angularaxis": {
            "gridcolor": "white",
            "linecolor": "white",
            "ticks": ""
           },
           "bgcolor": "#E5ECF6",
           "radialaxis": {
            "gridcolor": "white",
            "linecolor": "white",
            "ticks": ""
           }
          },
          "scene": {
           "xaxis": {
            "backgroundcolor": "#E5ECF6",
            "gridcolor": "white",
            "gridwidth": 2,
            "linecolor": "white",
            "showbackground": true,
            "ticks": "",
            "zerolinecolor": "white"
           },
           "yaxis": {
            "backgroundcolor": "#E5ECF6",
            "gridcolor": "white",
            "gridwidth": 2,
            "linecolor": "white",
            "showbackground": true,
            "ticks": "",
            "zerolinecolor": "white"
           },
           "zaxis": {
            "backgroundcolor": "#E5ECF6",
            "gridcolor": "white",
            "gridwidth": 2,
            "linecolor": "white",
            "showbackground": true,
            "ticks": "",
            "zerolinecolor": "white"
           }
          },
          "shapedefaults": {
           "line": {
            "color": "#2a3f5f"
           }
          },
          "ternary": {
           "aaxis": {
            "gridcolor": "white",
            "linecolor": "white",
            "ticks": ""
           },
           "baxis": {
            "gridcolor": "white",
            "linecolor": "white",
            "ticks": ""
           },
           "bgcolor": "#E5ECF6",
           "caxis": {
            "gridcolor": "white",
            "linecolor": "white",
            "ticks": ""
           }
          },
          "title": {
           "x": 0.05
          },
          "xaxis": {
           "automargin": true,
           "gridcolor": "white",
           "linecolor": "white",
           "ticks": "",
           "title": {
            "standoff": 15
           },
           "zerolinecolor": "white",
           "zerolinewidth": 2
          },
          "yaxis": {
           "automargin": true,
           "gridcolor": "white",
           "linecolor": "white",
           "ticks": "",
           "title": {
            "standoff": 15
           },
           "zerolinecolor": "white",
           "zerolinewidth": 2
          }
         }
        },
        "title": {
         "text": "10th and 90th Percentiles of <br>Median Normalized Intensities"
        },
        "width": 500,
        "xaxis": {
         "anchor": "y",
         "domain": [
          0,
          1
         ],
         "title": {
          "text": "variable"
         }
        },
        "yaxis": {
         "anchor": "x",
         "domain": [
          0,
          1
         ],
         "range": [
          0,
          2
         ],
         "title": {
          "text": "value"
         }
        }
       }
      }
     },
     "metadata": {},
     "output_type": "display_data"
    }
   ],
   "source": [
    "f = px.box(tagged, y=['low_ptile', 'high_ptile'], hover_data=['File'], points='all', range_y=[0,2], width=500, title='10th and 90th Percentiles of <br>Median Normalized Intensities')\n",
    "f.write_html('percentiles.html')\n",
    "f"
   ]
  },
  {
   "cell_type": "code",
   "execution_count": 19,
   "id": "ef62e998",
   "metadata": {},
   "outputs": [
    {
     "data": {
      "text/plain": [
       "low_ptile     0.771742\n",
       "high_ptile    1.293931\n",
       "dtype: float32"
      ]
     },
     "execution_count": 19,
     "metadata": {},
     "output_type": "execute_result"
    }
   ],
   "source": [
    "tagged.iloc[:,-2:].mean()"
   ]
  },
  {
   "cell_type": "code",
   "execution_count": 20,
   "id": "7fe70286",
   "metadata": {},
   "outputs": [
    {
     "data": {
      "text/plain": [
       "low_ptile     0.048355\n",
       "high_ptile    0.060003\n",
       "dtype: float32"
      ]
     },
     "execution_count": 20,
     "metadata": {},
     "output_type": "execute_result"
    }
   ],
   "source": [
    "tagged.iloc[:,-2:].std()"
   ]
  },
  {
   "cell_type": "code",
   "execution_count": 21,
   "id": "8f5fb6ff",
   "metadata": {},
   "outputs": [],
   "source": [
    "df.to_csv('quantified_peaks.csv')\n",
    "tagged.to_csv('percentiles.csv')"
   ]
  },
  {
   "cell_type": "code",
   "execution_count": null,
   "id": "8aa63500",
   "metadata": {},
   "outputs": [],
   "source": []
  },
  {
   "cell_type": "code",
   "execution_count": null,
   "id": "7e08339a",
   "metadata": {},
   "outputs": [],
   "source": []
  }
 ],
 "metadata": {
  "kernelspec": {
   "display_name": "napari2",
   "language": "python",
   "name": "python3"
  },
  "language_info": {
   "codemirror_mode": {
    "name": "ipython",
    "version": 3
   },
   "file_extension": ".py",
   "mimetype": "text/x-python",
   "name": "python",
   "nbconvert_exporter": "python",
   "pygments_lexer": "ipython3",
   "version": "3.12.11"
  }
 },
 "nbformat": 4,
 "nbformat_minor": 5
}
