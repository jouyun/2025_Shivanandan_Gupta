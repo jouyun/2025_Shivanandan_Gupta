{
 "cells": [
  {
   "cell_type": "code",
   "execution_count": 1,
   "metadata": {},
   "outputs": [],
   "source": [
    "import napari\n",
    "import pandas as pd\n",
    "import numpy as np\n",
    "import glob\n",
    "import skimage as ski\n",
    "import scipy.ndimage as ndi\n",
    "import plotly.express as px\n",
    "import cv2\n",
    "from roifile import ImagejRoi"
   ]
  },
  {
   "cell_type": "code",
   "execution_count": 2,
   "metadata": {},
   "outputs": [],
   "source": [
    "viewer = napari.Viewer()"
   ]
  },
  {
   "cell_type": "code",
   "execution_count": 3,
   "metadata": {},
   "outputs": [],
   "source": [
    "folder_of_rois = 'Cen7_ROI/*.zip'\n",
    "channel_to_quantify = 1"
   ]
  },
  {
   "cell_type": "markdown",
   "metadata": {},
   "source": [
    "# Loading files"
   ]
  },
  {
   "cell_type": "markdown",
   "metadata": {},
   "source": [
    "Will use the ImageJ roi files, as they are easy to open with the ImagejRoi python module"
   ]
  },
  {
   "cell_type": "code",
   "execution_count": 4,
   "metadata": {},
   "outputs": [
    {
     "data": {
      "text/plain": [
       "['Cen7_ROI\\\\Image001.zip',\n",
       " 'Cen7_ROI\\\\Image002.zip',\n",
       " 'Cen7_ROI\\\\Image003a.zip',\n",
       " 'Cen7_ROI\\\\Image003b.zip',\n",
       " 'Cen7_ROI\\\\Image004.zip',\n",
       " 'Cen7_ROI\\\\Image005.zip',\n",
       " 'Cen7_ROI\\\\Image006a.zip',\n",
       " 'Cen7_ROI\\\\Image006b.zip',\n",
       " 'Cen7_ROI\\\\Image007a.zip',\n",
       " 'Cen7_ROI\\\\Image007b.zip',\n",
       " 'Cen7_ROI\\\\Image007c.zip',\n",
       " 'Cen7_ROI\\\\Image008.zip',\n",
       " 'Cen7_ROI\\\\Image009a.zip',\n",
       " 'Cen7_ROI\\\\Image009b.zip',\n",
       " 'Cen7_ROI\\\\Image010a.zip',\n",
       " 'Cen7_ROI\\\\Image010b.zip',\n",
       " 'Cen7_ROI\\\\Image011.zip',\n",
       " 'Cen7_ROI\\\\Image012a.zip',\n",
       " 'Cen7_ROI\\\\Image012b.zip',\n",
       " 'Cen7_ROI\\\\Image013.zip',\n",
       " 'Cen7_ROI\\\\Image014.zip',\n",
       " 'Cen7_ROI\\\\Image015a.zip',\n",
       " 'Cen7_ROI\\\\Image015b.zip',\n",
       " 'Cen7_ROI\\\\Image016a.zip',\n",
       " 'Cen7_ROI\\\\Image016b.zip',\n",
       " 'Cen7_ROI\\\\Image017a.zip',\n",
       " 'Cen7_ROI\\\\Image017b.zip',\n",
       " 'Cen7_ROI\\\\Image018a.zip',\n",
       " 'Cen7_ROI\\\\Image018b.zip',\n",
       " 'Cen7_ROI\\\\Image019.zip',\n",
       " 'Cen7_ROI\\\\Image020a.zip',\n",
       " 'Cen7_ROI\\\\Image020b.zip']"
      ]
     },
     "execution_count": 4,
     "metadata": {},
     "output_type": "execute_result"
    }
   ],
   "source": [
    "pos_files = glob.glob(folder_of_rois)\n",
    "pos_files.sort()\n",
    "pos_files"
   ]
  },
  {
   "cell_type": "markdown",
   "metadata": {},
   "source": [
    "### Test example"
   ]
  },
  {
   "cell_type": "code",
   "execution_count": 5,
   "metadata": {},
   "outputs": [],
   "source": [
    "fname = pos_files[15]"
   ]
  },
  {
   "cell_type": "code",
   "execution_count": 6,
   "metadata": {},
   "outputs": [],
   "source": [
    "im_name = fname.replace('Cen7_ROI\\\\', 'SUM_')[0:12]+'.tif'\n",
    "img = ski.io.imread(im_name)"
   ]
  },
  {
   "cell_type": "code",
   "execution_count": 7,
   "metadata": {},
   "outputs": [
    {
     "data": {
      "text/plain": [
       "[<Image layer 'Image' at 0x233a6357070>,\n",
       " <Image layer 'Image [1]' at 0x233a6356770>,\n",
       " <Image layer 'Image [2]' at 0x233a8365a20>]"
      ]
     },
     "execution_count": 7,
     "metadata": {},
     "output_type": "execute_result"
    }
   ],
   "source": [
    "viewer.add_image(img, channel_axis=2)"
   ]
  },
  {
   "cell_type": "markdown",
   "metadata": {},
   "source": [
    "# Analysis functions"
   ]
  },
  {
   "cell_type": "markdown",
   "metadata": {},
   "source": [
    "For doing background subtraction on the images we mean to quantify."
   ]
  },
  {
   "cell_type": "code",
   "execution_count": 8,
   "metadata": {},
   "outputs": [],
   "source": [
    "def backsub(inp, radius=10):\n",
    "    filterSize =(radius, radius)\n",
    "    kernel = cv2.getStructuringElement(cv2.MORPH_ELLIPSE,\n",
    "                                    filterSize)\n",
    "    blurred = cv2.GaussianBlur(inp, (5, 5), 0)\n",
    "    tophat_img = cv2.morphologyEx(blurred,\n",
    "                                cv2.MORPH_TOPHAT,\n",
    "                                kernel)\n",
    "    rtn = inp.astype(np.single) - (blurred-tophat_img)\n",
    "    rtn = np.clip(rtn, 0, np.inf)\n",
    "\n",
    "    return rtn"
   ]
  },
  {
   "cell_type": "markdown",
   "metadata": {},
   "source": [
    "This takes an roi.zip file as an input, loads the associated image, and creates a new image (paint_img) which is a label image where the labels are lines (indices 1 and 2) connecting the two points in the roi file."
   ]
  },
  {
   "cell_type": "code",
   "execution_count": 9,
   "metadata": {},
   "outputs": [],
   "source": [
    "def load_images(fname, display=False):\n",
    "    im_name = fname.replace('Cen7_ROI\\\\', 'SUM_')[0:12]+'.tif'\n",
    "    img = ski.io.imread(im_name)\n",
    "\n",
    "    paint_img = np.zeros_like(img[:,:,channel_to_quantify])\n",
    "    roi_list = ImagejRoi.fromfile(fname)\n",
    "    for idx, roi in enumerate(roi_list):\n",
    "        coords = roi.coordinates()\n",
    "        cv2.line(paint_img, tuple(coords[0].astype(int)), tuple(coords[1].astype(int)), (idx+1), 3)\n",
    "\n",
    "    if display:\n",
    "        viewer.layers.clear()\n",
    "        viewer.add_image(img[:,:,channel_to_quantify], name='Original')\n",
    "        viewer.add_labels(paint_img.astype(int), name='Lines')\n",
    "    return img, paint_img"
   ]
  },
  {
   "cell_type": "markdown",
   "metadata": {},
   "source": [
    "This takes the raw image channel to be quantified, as well as the label image with the lines drawn on it.  It performs background subtraction on the raw, then smooths and finds a threshold using the otsu algorithm (same as ImageJ).  I could not use a constant value for threshold, as some images were much much brighter than others, and doing so led to huge discrepancies in the regions quantified.  I also found the un-adjusted otsu was a bit too selective, so I dilute it by a factor of 3/4 by default.  \n",
    "\n",
    "I was finding that signal from different lines were frequently getting merged together as the lines were often adjacent or touching one another.  To get around this I use traditional watershedding where the labeled image of the lines is used as a seed.  This works reasonably well at separating the regions even if they get segmented together into a single blob.\n",
    "\n",
    "The function ireturns two images:  the background subtracted image (before smoothing) to be used for quantification and the label image of each region of interest.  "
   ]
  },
  {
   "cell_type": "code",
   "execution_count": 10,
   "metadata": {},
   "outputs": [],
   "source": [
    "def prepare_image(raw_img, paint_img, threshold=1.0, display=False):\n",
    "    backsub_img = backsub(raw_img, 10)\n",
    "    smoothed_img = ndi.gaussian_filter(backsub_img, 1)\n",
    "    otsu_thresh = ski.filters.threshold_otsu(smoothed_img)\n",
    "    otsu_thresh = otsu_thresh*threshold\n",
    "    thresholded = smoothed_img > otsu_thresh\n",
    "\n",
    "    # This is the watershedding step, first we compute the distance image from our thresholded image, then\n",
    "    # use that to decide whether a pixel is closer to one line or another\n",
    "    edt = ndi.distance_transform_edt(thresholded)\n",
    "    watershedded = ski.segmentation.watershed(-edt, paint_img.astype(int), mask=thresholded)\n",
    "    \n",
    "    if display:\n",
    "        viewer.add_image(backsub_img, name='Backsub', blending='additive')\n",
    "        viewer.add_image(smoothed_img, name='Smoothed', blending='additive')\n",
    "        viewer.add_labels(thresholded, name='Thresholded', blending='additive')\n",
    "        viewer.add_labels(watershedded, name='Watershed', blending='additive')\n",
    "    return backsub_img, watershedded\n"
   ]
  },
  {
   "cell_type": "markdown",
   "metadata": {},
   "source": [
    "### Testing whole pipeline"
   ]
  },
  {
   "cell_type": "markdown",
   "metadata": {},
   "source": [
    "This will check the roi in pos_files[0] and display the results in napari, it will quantify the intensity image using the labels from prepare_image"
   ]
  },
  {
   "cell_type": "code",
   "execution_count": 11,
   "metadata": {},
   "outputs": [],
   "source": [
    "img, paint_img = load_images(pos_files[15], display=True)\n",
    "quant_img, labels = prepare_image(img[:,:,channel_to_quantify], paint_img, display=True) \n",
    "\n",
    "df = pd.DataFrame(ski.measure.regionprops_table(labels, intensity_image=quant_img, properties=('label', 'area', 'mean_intensity')))"
   ]
  },
  {
   "cell_type": "code",
   "execution_count": 12,
   "metadata": {},
   "outputs": [
    {
     "data": {
      "text/html": [
       "<div>\n",
       "<style scoped>\n",
       "    .dataframe tbody tr th:only-of-type {\n",
       "        vertical-align: middle;\n",
       "    }\n",
       "\n",
       "    .dataframe tbody tr th {\n",
       "        vertical-align: top;\n",
       "    }\n",
       "\n",
       "    .dataframe thead th {\n",
       "        text-align: right;\n",
       "    }\n",
       "</style>\n",
       "<table border=\"1\" class=\"dataframe\">\n",
       "  <thead>\n",
       "    <tr style=\"text-align: right;\">\n",
       "      <th></th>\n",
       "      <th>label</th>\n",
       "      <th>area</th>\n",
       "      <th>mean_intensity</th>\n",
       "    </tr>\n",
       "  </thead>\n",
       "  <tbody>\n",
       "    <tr>\n",
       "      <th>0</th>\n",
       "      <td>1</td>\n",
       "      <td>47.0</td>\n",
       "      <td>4510.882324</td>\n",
       "    </tr>\n",
       "    <tr>\n",
       "      <th>1</th>\n",
       "      <td>2</td>\n",
       "      <td>75.0</td>\n",
       "      <td>4886.607422</td>\n",
       "    </tr>\n",
       "  </tbody>\n",
       "</table>\n",
       "</div>"
      ],
      "text/plain": [
       "   label  area  mean_intensity\n",
       "0      1  47.0     4510.882324\n",
       "1      2  75.0     4886.607422"
      ]
     },
     "execution_count": 12,
     "metadata": {},
     "output_type": "execute_result"
    }
   ],
   "source": [
    "df"
   ]
  },
  {
   "cell_type": "markdown",
   "metadata": {},
   "source": [
    "### Run on all rois"
   ]
  },
  {
   "cell_type": "code",
   "execution_count": 13,
   "metadata": {},
   "outputs": [],
   "source": [
    "master_df = pd.DataFrame()\n",
    "for fname in pos_files:\n",
    "    img, paint_img = load_images(fname)\n",
    "    quant_img, labels = prepare_image(img[:,:,channel_to_quantify], paint_img) \n",
    "    df = pd.DataFrame(ski.measure.regionprops_table(labels, intensity_image=quant_img, properties=('label', 'area', 'mean_intensity')))\n",
    "\n",
    "    # Add a column for the integrated density, and another for the file name\n",
    "    df['IntDensity'] = df['area'] * df['mean_intensity']\n",
    "    df['file'] = fname\n",
    "    master_df = pd.concat([master_df, df])\n",
    "df = master_df"
   ]
  },
  {
   "cell_type": "markdown",
   "metadata": {},
   "source": [
    "The file name has lots of useless junk in it, we want just which image it came from."
   ]
  },
  {
   "cell_type": "code",
   "execution_count": 14,
   "metadata": {},
   "outputs": [],
   "source": [
    "df['Image'] = df['file'].str[9:17]"
   ]
  },
  {
   "cell_type": "markdown",
   "metadata": {},
   "source": [
    "# Plotting results"
   ]
  },
  {
   "cell_type": "code",
   "execution_count": 15,
   "metadata": {},
   "outputs": [
    {
     "data": {
      "application/vnd.jupyter.widget-view+json": {
       "model_id": "ef2c66c22fee4a0ea68cf9a2d98a1c7f",
       "version_major": 2,
       "version_minor": 0
      },
      "text/plain": [
       "FigureWidget({\n",
       "    'data': [{'alignmentgroup': 'True',\n",
       "              'boxpoints': 'all',\n",
       "              'customdata': array([['Cen7_ROI\\\\Image001.zip'],\n",
       "                                   ['Cen7_ROI\\\\Image002.zip'],\n",
       "                                   ['Cen7_ROI\\\\Image003a.zip'],\n",
       "                                   ['Cen7_ROI\\\\Image003b.zip'],\n",
       "                                   ['Cen7_ROI\\\\Image004.zip'],\n",
       "                                   ['Cen7_ROI\\\\Image005.zip'],\n",
       "                                   ['Cen7_ROI\\\\Image006a.zip'],\n",
       "                                   ['Cen7_ROI\\\\Image006b.zip'],\n",
       "                                   ['Cen7_ROI\\\\Image007a.zip'],\n",
       "                                   ['Cen7_ROI\\\\Image007b.zip'],\n",
       "                                   ['Cen7_ROI\\\\Image007c.zip'],\n",
       "                                   ['Cen7_ROI\\\\Image008.zip'],\n",
       "                                   ['Cen7_ROI\\\\Image009a.zip'],\n",
       "                                   ['Cen7_ROI\\\\Image009b.zip'],\n",
       "                                   ['Cen7_ROI\\\\Image010a.zip'],\n",
       "                                   ['Cen7_ROI\\\\Image010b.zip'],\n",
       "                                   ['Cen7_ROI\\\\Image011.zip'],\n",
       "                                   ['Cen7_ROI\\\\Image012a.zip'],\n",
       "                                   ['Cen7_ROI\\\\Image012b.zip'],\n",
       "                                   ['Cen7_ROI\\\\Image013.zip'],\n",
       "                                   ['Cen7_ROI\\\\Image014.zip'],\n",
       "                                   ['Cen7_ROI\\\\Image015a.zip'],\n",
       "                                   ['Cen7_ROI\\\\Image015b.zip'],\n",
       "                                   ['Cen7_ROI\\\\Image016a.zip'],\n",
       "                                   ['Cen7_ROI\\\\Image016b.zip'],\n",
       "                                   ['Cen7_ROI\\\\Image017a.zip'],\n",
       "                                   ['Cen7_ROI\\\\Image017b.zip'],\n",
       "                                   ['Cen7_ROI\\\\Image018a.zip'],\n",
       "                                   ['Cen7_ROI\\\\Image018b.zip'],\n",
       "                                   ['Cen7_ROI\\\\Image019.zip'],\n",
       "                                   ['Cen7_ROI\\\\Image020a.zip'],\n",
       "                                   ['Cen7_ROI\\\\Image020b.zip']], dtype=object),\n",
       "              'hovertemplate': 'label=1<br>Image=%{x}<br>IntDensity=%{y}<br>file=%{customdata[0]}<extra></extra>',\n",
       "              'legendgroup': '1',\n",
       "              'marker': {'color': '#636efa'},\n",
       "              'name': '1',\n",
       "              'notched': False,\n",
       "              'offsetgroup': '1',\n",
       "              'orientation': 'v',\n",
       "              'showlegend': True,\n",
       "              'type': 'box',\n",
       "              'uid': 'fbd3f153-94f2-4ea6-81ac-71d0295f9f12',\n",
       "              'x': array(['Image001', 'Image002', 'Image003', 'Image003', 'Image004', 'Image005',\n",
       "                          'Image006', 'Image006', 'Image007', 'Image007', 'Image007', 'Image008',\n",
       "                          'Image009', 'Image009', 'Image010', 'Image010', 'Image011', 'Image012',\n",
       "                          'Image012', 'Image013', 'Image014', 'Image015', 'Image015', 'Image016',\n",
       "                          'Image016', 'Image017', 'Image017', 'Image018', 'Image018', 'Image019',\n",
       "                          'Image020', 'Image020'], dtype=object),\n",
       "              'x0': ' ',\n",
       "              'xaxis': 'x',\n",
       "              'y': array([ 86630.65356445, 197536.96972656, 265515.81835938, 268780.90722656,\n",
       "                          330434.53564453, 286248.38623047, 221383.92944336, 280571.3671875 ,\n",
       "                          386169.88183594, 197852.12890625, 182571.54296875, 399426.24414062,\n",
       "                          324887.578125  , 136976.68652344, 287629.86865234, 212011.46923828,\n",
       "                          442466.55957031, 420305.41308594, 564979.98632812, 286047.69970703,\n",
       "                          360755.62207031, 292301.39160156, 338614.51171875, 367461.66992188,\n",
       "                          253647.31298828, 484312.01074219, 219261.15332031, 591340.13671875,\n",
       "                          232551.2109375 , 316815.36474609, 560493.48828125, 387423.24072266]),\n",
       "              'y0': ' ',\n",
       "              'yaxis': 'y'},\n",
       "             {'alignmentgroup': 'True',\n",
       "              'boxpoints': 'all',\n",
       "              'customdata': array([['Cen7_ROI\\\\Image001.zip'],\n",
       "                                   ['Cen7_ROI\\\\Image002.zip'],\n",
       "                                   ['Cen7_ROI\\\\Image003a.zip'],\n",
       "                                   ['Cen7_ROI\\\\Image003b.zip'],\n",
       "                                   ['Cen7_ROI\\\\Image004.zip'],\n",
       "                                   ['Cen7_ROI\\\\Image005.zip'],\n",
       "                                   ['Cen7_ROI\\\\Image006a.zip'],\n",
       "                                   ['Cen7_ROI\\\\Image006b.zip'],\n",
       "                                   ['Cen7_ROI\\\\Image007a.zip'],\n",
       "                                   ['Cen7_ROI\\\\Image007b.zip'],\n",
       "                                   ['Cen7_ROI\\\\Image007c.zip'],\n",
       "                                   ['Cen7_ROI\\\\Image008.zip'],\n",
       "                                   ['Cen7_ROI\\\\Image009a.zip'],\n",
       "                                   ['Cen7_ROI\\\\Image009b.zip'],\n",
       "                                   ['Cen7_ROI\\\\Image010a.zip'],\n",
       "                                   ['Cen7_ROI\\\\Image010b.zip'],\n",
       "                                   ['Cen7_ROI\\\\Image011.zip'],\n",
       "                                   ['Cen7_ROI\\\\Image012a.zip'],\n",
       "                                   ['Cen7_ROI\\\\Image012b.zip'],\n",
       "                                   ['Cen7_ROI\\\\Image013.zip'],\n",
       "                                   ['Cen7_ROI\\\\Image014.zip'],\n",
       "                                   ['Cen7_ROI\\\\Image015a.zip'],\n",
       "                                   ['Cen7_ROI\\\\Image015b.zip'],\n",
       "                                   ['Cen7_ROI\\\\Image016a.zip'],\n",
       "                                   ['Cen7_ROI\\\\Image016b.zip'],\n",
       "                                   ['Cen7_ROI\\\\Image017a.zip'],\n",
       "                                   ['Cen7_ROI\\\\Image017b.zip'],\n",
       "                                   ['Cen7_ROI\\\\Image018a.zip'],\n",
       "                                   ['Cen7_ROI\\\\Image018b.zip'],\n",
       "                                   ['Cen7_ROI\\\\Image019.zip'],\n",
       "                                   ['Cen7_ROI\\\\Image020a.zip'],\n",
       "                                   ['Cen7_ROI\\\\Image020b.zip']], dtype=object),\n",
       "              'hovertemplate': 'label=2<br>Image=%{x}<br>IntDensity=%{y}<br>file=%{customdata[0]}<extra></extra>',\n",
       "              'legendgroup': '2',\n",
       "              'marker': {'color': '#EF553B'},\n",
       "              'name': '2',\n",
       "              'notched': False,\n",
       "              'offsetgroup': '2',\n",
       "              'orientation': 'v',\n",
       "              'showlegend': True,\n",
       "              'type': 'box',\n",
       "              'uid': '0d47b700-4eba-4f43-a0e7-c9d948b325d0',\n",
       "              'x': array(['Image001', 'Image002', 'Image003', 'Image003', 'Image004', 'Image005',\n",
       "                          'Image006', 'Image006', 'Image007', 'Image007', 'Image007', 'Image008',\n",
       "                          'Image009', 'Image009', 'Image010', 'Image010', 'Image011', 'Image012',\n",
       "                          'Image012', 'Image013', 'Image014', 'Image015', 'Image015', 'Image016',\n",
       "                          'Image016', 'Image017', 'Image017', 'Image018', 'Image018', 'Image019',\n",
       "                          'Image020', 'Image020'], dtype=object),\n",
       "              'x0': ' ',\n",
       "              'xaxis': 'x',\n",
       "              'y': array([166534.55151367, 118563.25195312,  45004.953125  , 153877.38037109,\n",
       "                          123508.74169922, 168444.01757812, 131919.87963867, 160338.71777344,\n",
       "                          201022.57226562, 326766.5625    , 366538.75048828, 258630.65332031,\n",
       "                          100812.53466797, 388900.41503906, 104313.38793945, 366495.55664062,\n",
       "                          261502.04199219, 231120.140625  , 336556.56835938, 145648.28564453,\n",
       "                          164636.07641602, 194843.87109375, 141457.77026367, 103824.68701172,\n",
       "                          151182.26074219, 290729.21044922, 147181.578125  , 260597.86669922,\n",
       "                          460364.73632812, 275885.28857422, 332139.56152344, 364782.74658203]),\n",
       "              'y0': ' ',\n",
       "              'yaxis': 'y'}],\n",
       "    'layout': {'boxmode': 'group',\n",
       "               'legend': {'title': {'text': 'label'}, 'tracegroupgap': 0},\n",
       "               'margin': {'t': 60},\n",
       "               'template': '...',\n",
       "               'xaxis': {'anchor': 'y', 'domain': [0.0, 1.0], 'title': {'text': 'Image'}},\n",
       "               'yaxis': {'anchor': 'x', 'domain': [0.0, 1.0], 'title': {'text': 'IntDensity'}}}\n",
       "})"
      ]
     },
     "execution_count": 15,
     "metadata": {},
     "output_type": "execute_result"
    }
   ],
   "source": [
    "import plotly.graph_objs as go\n",
    "import plotly.express as px\n",
    "\n",
    "f=go.FigureWidget(\n",
    "    px.box(df, x='Image', y='IntDensity', color='label', points='all', hover_data=['file'])\n",
    "    )\n",
    "\n",
    "def click_fn(trace, points, state):\n",
    "    \n",
    "    if (len(points.point_inds)>0):\n",
    "        idx = f.data[points.trace_index]['customdata'][points.point_inds[-1]][0]\n",
    "        print(idx)\n",
    "\n",
    "        # If we click on a spot, we want to display the image and the lines\n",
    "        img, paint_img = load_images(idx, display=True)\n",
    "        quant_img, labels = prepare_image(img[:,:,channel_to_quantify], paint_img, display=True)\n",
    "\n",
    "        # I turn off most of the layers by default as they are diagnostic\n",
    "        for layer in viewer.layers:\n",
    "            layer.visible = False\n",
    "        viewer.layers[0].visible = True\n",
    "        viewer.layers[-1].visible = True\n",
    "        viewer.layers[-1].contour = 2\n",
    "\n",
    "for a in f.data:\n",
    "    a.on_click(click_fn)\n",
    "\n",
    "f"
   ]
  },
  {
   "cell_type": "markdown",
   "metadata": {},
   "source": [
    "# Outputting results"
   ]
  },
  {
   "cell_type": "markdown",
   "metadata": {},
   "source": [
    "Save quantifications to csv file"
   ]
  },
  {
   "cell_type": "code",
   "execution_count": 16,
   "metadata": {},
   "outputs": [],
   "source": [
    "df.to_csv('Results_BackSub10' + str(channel_to_quantify) + '.csv')"
   ]
  },
  {
   "cell_type": "markdown",
   "metadata": {},
   "source": [
    "Save graph as html file"
   ]
  },
  {
   "cell_type": "code",
   "execution_count": 17,
   "metadata": {},
   "outputs": [],
   "source": [
    "f = px.box(df, x='Image', y='IntDensity', color='label', points='all', hover_data=['file'])\n",
    "f.write_html('boxplot_BackSub60' + str(channel_to_quantify) + '.html')"
   ]
  },
  {
   "cell_type": "code",
   "execution_count": null,
   "metadata": {},
   "outputs": [],
   "source": []
  },
  {
   "cell_type": "code",
   "execution_count": null,
   "metadata": {},
   "outputs": [],
   "source": []
  }
 ],
 "metadata": {
  "kernelspec": {
   "display_name": "Python 3 (ipykernel)",
   "language": "python",
   "name": "python3"
  },
  "language_info": {
   "codemirror_mode": {
    "name": "ipython",
    "version": 3
   },
   "file_extension": ".py",
   "mimetype": "text/x-python",
   "name": "python",
   "nbconvert_exporter": "python",
   "pygments_lexer": "ipython3",
   "version": "3.10.13"
  }
 },
 "nbformat": 4,
 "nbformat_minor": 4
}
